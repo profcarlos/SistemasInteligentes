{
  "nbformat": 4,
  "nbformat_minor": 0,
  "metadata": {
    "kernelspec": {
      "display_name": "Python 3",
      "language": "python",
      "name": "python3"
    },
    "language_info": {
      "codemirror_mode": {
        "name": "ipython",
        "version": 3
      },
      "file_extension": ".py",
      "mimetype": "text/x-python",
      "name": "python",
      "nbconvert_exporter": "python",
      "pygments_lexer": "ipython3",
      "version": "3.8.6"
    },
    "colab": {
      "name": "infrared-solar-modules-cnn.ipynb",
      "provenance": [],
      "collapsed_sections": [],
      "include_colab_link": true
    },
    "widgets": {
      "application/vnd.jupyter.widget-state+json": {
        "34ad874c4ebe407ca6d0fb4bc3b93461": {
          "model_module": "@jupyter-widgets/controls",
          "model_name": "HBoxModel",
          "state": {
            "_view_name": "HBoxView",
            "_dom_classes": [],
            "_model_name": "HBoxModel",
            "_view_module": "@jupyter-widgets/controls",
            "_model_module_version": "1.5.0",
            "_view_count": null,
            "_view_module_version": "1.5.0",
            "box_style": "",
            "layout": "IPY_MODEL_56b9760a17b84560a38e9f57ec59d6f9",
            "_model_module": "@jupyter-widgets/controls",
            "children": [
              "IPY_MODEL_18e09346b9694427970be2b275097bf5",
              "IPY_MODEL_dfa10dc5173c4ce3827064f29a8a9fb6"
            ]
          }
        },
        "56b9760a17b84560a38e9f57ec59d6f9": {
          "model_module": "@jupyter-widgets/base",
          "model_name": "LayoutModel",
          "state": {
            "_view_name": "LayoutView",
            "grid_template_rows": null,
            "right": null,
            "justify_content": null,
            "_view_module": "@jupyter-widgets/base",
            "overflow": null,
            "_model_module_version": "1.2.0",
            "_view_count": null,
            "flex_flow": null,
            "width": null,
            "min_width": null,
            "border": null,
            "align_items": null,
            "bottom": null,
            "_model_module": "@jupyter-widgets/base",
            "top": null,
            "grid_column": null,
            "overflow_y": null,
            "overflow_x": null,
            "grid_auto_flow": null,
            "grid_area": null,
            "grid_template_columns": null,
            "flex": null,
            "_model_name": "LayoutModel",
            "justify_items": null,
            "grid_row": null,
            "max_height": null,
            "align_content": null,
            "visibility": null,
            "align_self": null,
            "height": null,
            "min_height": null,
            "padding": null,
            "grid_auto_rows": null,
            "grid_gap": null,
            "max_width": null,
            "order": null,
            "_view_module_version": "1.2.0",
            "grid_template_areas": null,
            "object_position": null,
            "object_fit": null,
            "grid_auto_columns": null,
            "margin": null,
            "display": null,
            "left": null
          }
        },
        "18e09346b9694427970be2b275097bf5": {
          "model_module": "@jupyter-widgets/controls",
          "model_name": "FloatProgressModel",
          "state": {
            "_view_name": "ProgressView",
            "style": "IPY_MODEL_2580ede858f84e848465ab1d0e9294f4",
            "_dom_classes": [],
            "description": "",
            "_model_name": "FloatProgressModel",
            "bar_style": "success",
            "max": 1,
            "_view_module": "@jupyter-widgets/controls",
            "_model_module_version": "1.5.0",
            "value": 1,
            "_view_count": null,
            "_view_module_version": "1.5.0",
            "orientation": "horizontal",
            "min": 0,
            "description_tooltip": null,
            "_model_module": "@jupyter-widgets/controls",
            "layout": "IPY_MODEL_2b23b2ca7f94495f9dc5fd8a5b55c419"
          }
        },
        "dfa10dc5173c4ce3827064f29a8a9fb6": {
          "model_module": "@jupyter-widgets/controls",
          "model_name": "HTMLModel",
          "state": {
            "_view_name": "HTMLView",
            "style": "IPY_MODEL_aef1d66902de473d8810afe215c788af",
            "_dom_classes": [],
            "description": "",
            "_model_name": "HTMLModel",
            "placeholder": "​",
            "_view_module": "@jupyter-widgets/controls",
            "_model_module_version": "1.5.0",
            "value": " 5749760/? [00:00&lt;00:00, 10028477.23it/s]",
            "_view_count": null,
            "_view_module_version": "1.5.0",
            "description_tooltip": null,
            "_model_module": "@jupyter-widgets/controls",
            "layout": "IPY_MODEL_bb36124e015b4c9e866696bc7ef56534"
          }
        },
        "2580ede858f84e848465ab1d0e9294f4": {
          "model_module": "@jupyter-widgets/controls",
          "model_name": "ProgressStyleModel",
          "state": {
            "_view_name": "StyleView",
            "_model_name": "ProgressStyleModel",
            "description_width": "initial",
            "_view_module": "@jupyter-widgets/base",
            "_model_module_version": "1.5.0",
            "_view_count": null,
            "_view_module_version": "1.2.0",
            "bar_color": null,
            "_model_module": "@jupyter-widgets/controls"
          }
        },
        "2b23b2ca7f94495f9dc5fd8a5b55c419": {
          "model_module": "@jupyter-widgets/base",
          "model_name": "LayoutModel",
          "state": {
            "_view_name": "LayoutView",
            "grid_template_rows": null,
            "right": null,
            "justify_content": null,
            "_view_module": "@jupyter-widgets/base",
            "overflow": null,
            "_model_module_version": "1.2.0",
            "_view_count": null,
            "flex_flow": null,
            "width": null,
            "min_width": null,
            "border": null,
            "align_items": null,
            "bottom": null,
            "_model_module": "@jupyter-widgets/base",
            "top": null,
            "grid_column": null,
            "overflow_y": null,
            "overflow_x": null,
            "grid_auto_flow": null,
            "grid_area": null,
            "grid_template_columns": null,
            "flex": null,
            "_model_name": "LayoutModel",
            "justify_items": null,
            "grid_row": null,
            "max_height": null,
            "align_content": null,
            "visibility": null,
            "align_self": null,
            "height": null,
            "min_height": null,
            "padding": null,
            "grid_auto_rows": null,
            "grid_gap": null,
            "max_width": null,
            "order": null,
            "_view_module_version": "1.2.0",
            "grid_template_areas": null,
            "object_position": null,
            "object_fit": null,
            "grid_auto_columns": null,
            "margin": null,
            "display": null,
            "left": null
          }
        },
        "aef1d66902de473d8810afe215c788af": {
          "model_module": "@jupyter-widgets/controls",
          "model_name": "DescriptionStyleModel",
          "state": {
            "_view_name": "StyleView",
            "_model_name": "DescriptionStyleModel",
            "description_width": "",
            "_view_module": "@jupyter-widgets/base",
            "_model_module_version": "1.5.0",
            "_view_count": null,
            "_view_module_version": "1.2.0",
            "_model_module": "@jupyter-widgets/controls"
          }
        },
        "bb36124e015b4c9e866696bc7ef56534": {
          "model_module": "@jupyter-widgets/base",
          "model_name": "LayoutModel",
          "state": {
            "_view_name": "LayoutView",
            "grid_template_rows": null,
            "right": null,
            "justify_content": null,
            "_view_module": "@jupyter-widgets/base",
            "overflow": null,
            "_model_module_version": "1.2.0",
            "_view_count": null,
            "flex_flow": null,
            "width": null,
            "min_width": null,
            "border": null,
            "align_items": null,
            "bottom": null,
            "_model_module": "@jupyter-widgets/base",
            "top": null,
            "grid_column": null,
            "overflow_y": null,
            "overflow_x": null,
            "grid_auto_flow": null,
            "grid_area": null,
            "grid_template_columns": null,
            "flex": null,
            "_model_name": "LayoutModel",
            "justify_items": null,
            "grid_row": null,
            "max_height": null,
            "align_content": null,
            "visibility": null,
            "align_self": null,
            "height": null,
            "min_height": null,
            "padding": null,
            "grid_auto_rows": null,
            "grid_gap": null,
            "max_width": null,
            "order": null,
            "_view_module_version": "1.2.0",
            "grid_template_areas": null,
            "object_position": null,
            "object_fit": null,
            "grid_auto_columns": null,
            "margin": null,
            "display": null,
            "left": null
          }
        }
      }
    },
    "accelerator": "GPU"
  },
  "cells": [
    {
      "cell_type": "markdown",
      "metadata": {
        "id": "view-in-github",
        "colab_type": "text"
      },
      "source": [
        "<a href=\"https://colab.research.google.com/github/profcarlos/SistemasInteligentes/blob/master/infrared_solar_modules_cnn.ipynb\" target=\"_parent\"><img src=\"https://colab.research.google.com/assets/colab-badge.svg\" alt=\"Open In Colab\"/></a>"
      ]
    },
    {
      "cell_type": "markdown",
      "metadata": {
        "id": "X0mbX4JTEc8i"
      },
      "source": [
        "# **Classifying InfraredSolarModules using Resnet in PyTorch**"
      ]
    },
    {
      "cell_type": "code",
      "metadata": {
        "id": "3pzmRxY-Ec8l"
      },
      "source": [
        "import os\n",
        "import torch\n",
        "import torchvision\n",
        "import pandas as pd\n",
        "import shutil\n",
        "import re\n",
        "import zipfile\n",
        "import pandas as pd\n",
        "import torch.nn as nn\n",
        "import numpy as np\n",
        "import torch.nn.functional as F\n",
        "from torchvision.datasets.utils import download_url\n",
        "from torchvision.datasets import ImageFolder\n",
        "from torch.utils.data import DataLoader\n",
        "import torchvision.transforms as tt\n",
        "from torch.utils.data import random_split\n",
        "from torchvision.utils import make_grid\n",
        "import matplotlib\n",
        "import matplotlib.pyplot as plt\n",
        "%matplotlib inline\n",
        "\n",
        "matplotlib.rcParams['figure.facecolor'] = '#ffffff'"
      ],
      "execution_count": null,
      "outputs": []
    },
    {
      "cell_type": "code",
      "metadata": {
        "id": "ElB5fUFuEc8o"
      },
      "source": [
        "project_name = \"infrared-solar-modules-cnn\""
      ],
      "execution_count": null,
      "outputs": []
    },
    {
      "cell_type": "markdown",
      "metadata": {
        "id": "GlziT1dYO3Jq"
      },
      "source": [
        "## **Repositório**"
      ]
    },
    {
      "cell_type": "markdown",
      "metadata": {
        "id": "q8sbZS6LNlaj"
      },
      "source": [
        "![image.png](data:image/png;base64,iVBORw0KGgoAAAANSUhEUgAABUUAAAJxCAYAAABlrtP5AAAgAElEQVR4Aey9C/gW1X3vm559O6dP2SnWgoByEQVEECGC4AUNES+AGCWiIRqoQeM1UcSIwQuKVBM1ajBINWITL8Sd6LMTbaLZanaCmhCjuxqSFpLsBpNmS85uSk/OsbY1+Z3nt2bWzFprZt533uv//77z4Xn+zLwza9bl9/usNTPfWZd3/dEfDRf+sAEM9D4Dc2bPpi7TnsFADzJA3e399pd7aDV9ePgR7xP+sAEM9CYDtNvVbLfxO36HARgIGXgXN/LevJHjN/wGAzAAAzAAAzAAAzAAAzAAAzAAAzAAAzAAA80xgCjKV356OcAADMAADMAADMAADMAADMAADMAADMAADMBApRhAFAX4SgHP15Pmvp5gN+wGAzAAAzAAAzAAAzAAAzAAAzAAAzDQTwwgiiKKIorCAAzAAAzAAAzAAAzAAAzAAAzAAAzAAAzAQKUYQBQF+EoBf8iU2XLA2EkyYtSBst/IcfxhAxiAARiAARiAARiAARiAARiAARhokQF9x9Z3bX3n7qeehJSlv3vGIooiilamwZo0ZTY3uhZvdAjJCOkwAAMwAAMwAAMwAAMwAAMwAAO1GNB3b8TE/hYT+8W/iKKIopVprA4YM2ngRNERetMcO3DpI4ZiexiAARiAARiAARiAARiAARhokIGxsp95l0MErSWC5p3rF9GMcvS3uIsoiihaGVF0xKjxDd4A23fjG44gOmC2z7tBc6x9bGNLbAkDMAADMAADMAADMNDPDPAu1zjfw0eMrYzOgGja26IpoiiiaGUaq36+UVO2xm/U2AybwQAMwAAMwAAMwAAMwAAMDHYGDp0yU95/+ofl3A9fJh9ZeaX50309pue6lf/TJx0o35k/Sf73aZPl3z5wqPnTfT2m58J8IBb2tlhYFf8hiiKKIooyhCRzAwtvaPzmYREGYAAGYAAGYAAGYAAGYAAG2sfAisnDZPfJfyB/f8ofyK/iv1+e8gfykxP/Dznp4JHmHe3Y405JhFAriIZbDdMWv4wonu7t00cenAihVhANtxrGzUdVRDXK2dviL6IooiiiKKKod/Nyb2Tst++hB1tiSxiAARiAARiAARiAARjoHwa+9lffaPg9asIBY+TPJg+Tyw7bV35xciqGWlHUbnee+O/kvDlT6wqiViBtucdoLIief/BkOfmA6VG54mPaCzQUQIt+uz1GEQt7Wyysiv86Koq+58j58v4zlstFl35Cliw9r2Pi2/yTzzRpLPvwRXLkUad0LJ16UHzgrI/IZ+66V776tW+YP93XY/Wuq/L5Y4471djquee/I3l/aksN0w4b8QDSPw8g+BJfwgAMwAAMwAAMwAAMwAAMDCQDjYqic8ePkl8t+Pfyy1P+vXzjuD+UXyz490kP0ZfPe4/89bmHJL//56n/p6xZdnZpUVSH0jdtCxU/R4yVqaNHyxvHTpU7Ri+VUSMONMc0zm3zJ5UWRTWszUc73uGJA2G10wx0TBQ9eu4i+fCKS4xYeday8822U4Ll+RdeKR/+s0tFt+dfuErmzV/SFhGtrPGtsPcP//APon/f//4r8vy3vmP29ff27T8wgt9NN9/e1XyVzf9Ahvvak9+QN974hbGX2iz803Nbv/REW+xmG+dmtgdPnCr3379FfvrTn5k/3ddjzcTFNTy8wQAMwAAMwAAMwAAMwAAMwEBvM9CoKPr08X8o8v53mb8XH/qcvP32v8hPfvwj2fO/3hT77xc//7n8z1075Z133pGLLljli6Jf/6H89G9/Kr/61d/I1nhuUdtTVOcYbZanEXGP0IeOGCtvv2+yfHHM+XLmqLlRfCPGyj+8P51DVHuIvvP8X8vvf/O2/P75aF5Rt9eozjFq8zGQOgNpI6Zefc1NuR3v3M546zfcIR0RRU9Z9EEjgp638uMyd95p5k97i+p+J+DUuBe9/xzTS1TFUf2tPVS1p2on0nPjVEH0Rz/6GyOA3nn3Zi89PaeinxVLdatGd6+v+r4VQYvsUO980XV5x23j3Mz2S499WX796197f5///INJg99MnLWu+dJPROQnXy6O/7Gfiuz9rlzX5ND/6178p9rxNxlvrTI1fO7Eq+SuKxfKfiNnyfKbPit33e3+XSXzB0Me3Txofu/+rKw6sejhbqGs0jKYMhWFae/x+Vd+VlZ9YKXcaG1300o5zM1zrf24PHfdPUC2Plzz7aYdcrBelh9e1l5q+0bC+/GqHWvaoa7v/fhy60KmvLWuiWxRzFqtazmXa/9adYFzxfcibINtYAAGYAAGKsxAo6Lop2f+sRFEX77uQ/LWW2/J//j2s/LKc0/L//71r60mKr98Y7f84L/9lbz24rd9QdQRQbf+7S/l1U9HCy5ZUVS3TT3jxILoe8eNk3dOPlD2HH+IPDBmhWw6YIUcNHKC6CryruiZ7D//s1xRVM/bfOS9k3MMsbJbDKj2ZvWkom3bRVEVIXUIu4qS2jvUipIqhnZDFLXGVYFU09Oeqtpj1R7vxNaKnkXD5NX4riiqvzuRj16N08JZlP9654uuyztuG+dmtj/72f80guipi5eI/qlAqr1Gm4mrmWtUJN374k1pen0virqij7sfCTpGpGpE4Kv5sNaaYJb4U4Wxm9bLjQX5OmzF+kjY7ZYo6ops7n5NW1jBrE02KZWWTTPYenmOBGVPBDx8pSwvFKCDuEa2Vh7l7Ub17YpZaR1MypaKtV7+kvNhXgp+e+UtCJPEma0TCYdJmHpxcB6bwQAMwAAMwAAMwEArDDQqiv7oxP8ov136n+Uff/OPRgTVHqEvbrxB/umsfeS3v/2t/OTHO+TX5+wvL275jPyvv//7HFH02/K3e9+Svb/6vmx2RFIrjDZTFttL9FtHjRdZOF5+dfwUuW/scvnS2Ivkwv1PNs++iRAarzhvfiOKouv0yfo8bespqsKnDl3XIezaU9QVpbotimraUX6uNOLoyYvO9vLj5q2VfRVCVfAMe4i6ceo5VxSlp6j/ZaSe6FnvvGvrevvN3CT0Gh0mb3uJLjr1DNE/+7tbQ+grJ4qqQJSIizkCUEMCUr2HvdYEs4QrK4rm9kiM0lh15fqu9RRVETYR8Rq1V6PhOyHEuXlw95tKqzUfW1H0roRJhynj96tk1U21egk74Yvy31AZc+pEUbwczxGyS/gDu2E3GIABGIABGICBOgw0Kop+/33/Sd4684/k5z/VYYHpv5fuXmt+7P3HvfLi529PTlx62docYfRK+cT2X8ru/+b3FP3w8o817C8riK6YOE7klIPl9yePlz1HHST3jTxHHhizUv5yzEp5z8jDMsPna4miOtTevh/Vez/nvK+NYI+BsUdbRFG70JEOXc/rmTkQoqgCpT1V7XymnVjoyQqe9eDVcCru1RJP68XRr+friZ71zjdiF9s4N7JdfdU1iQBqhdBwq2EaiTMKe5O8uDe538mux74su+Sf5MXro5f1dHi7H05smLin6Jd0GLz95wy3z4ioI/PjN+nkXJ8pz/XfFSe7Tq/VgvzFDxC2HGY6AJPOT+VLI8eJm67XAza+zhP04uHzXi+8UECKhy/bIfaJGDhynJgemlcujLZ2GLntrWnicYblO6JX0rMzviYb58p4WH88LNuIYytlvvYItfHbByk9Z/PgnAvTSMtoRa9oa8uVnh8n+wV5984ZmznDxQN7WZtEw8Kj8iflC2xpyhKXbbkZRm7FPz9v3vDy3PDjZD8vbid/xk4qXKa+WLXCHT4fnfPLGAhbXtzhNAWBKBqETcqe8OL71oiiKxYaf4d50HOrTrT+cvIUpJFhwvRerVXewD4aX8JnNj2fJXfagXHi+jmNw8mr5ZRtE205dszcL+AIjmAABmAABirCQKOi6O2zouHzb547Wn6x++fm7ehXv/ylvHrNEvtGJn9z2bHy1j//s/l9w/W3eqLoxv/+Q/nh9h/K3/7q5/JCMHy+qYWWRoyVMaPGys+OO1B+v2CC/P7Y/eQfP3aWPPy+a+Uv/vRD8ui4C+Xa/c/ILrT08LPRnKK/+Zn87mF/XlEWWhoYYa8RXYSwvo/aIorq3KHucPnQyAMlitp82OH07V7oSYfO66JKNh22Plxl7FFP9Kx3vkwaNkwzL25//devGVH0619/WvL+VCD9H//jrxt88ImERFcMjETDPFE0euHOiJwqioozpD4WLXc9VhA+TxR1rx+ZzVNiLxN3mrf9Rn5ZXjRD+WNB1BFj9zP5ioRPvd6Kn26+vHwH4aM0AwErI4pGgpArZM2/0hGBjBiV/rZiURo+vD5MLxZSvfksfVEuirNItArjSwUsK0ZG5Zwly69M5/g05wLR6y6316kRNm2aaZzWZvPdoeSegGYF1KxNEoHP2MzGnQ1vxcwkvD7oHr5SViXDyQObmviseBqLRoFfTJxJeX37pvPIpnlORWDnmH3gDvMfM5P63PdJfV4cW4yMREUTl6aT5Nm1U+CPUvlx7RNdnwrLfn6Nj720/fR8dtIPAdnrxslhJy4sP6+stS/bBtt4hNKoXcIO2AEGYAAGYKC/GWhUFD114ohkoaW/X36gGUb/f+/ZI69ec6a8dOcaeenTl8v3b1huFmD6u5/sklc/OMkTRe0w+bztoVNmNvS8YnuJrp86TmThBHnnxPHyz3P3l395Y6fs+tbrsumPl8oDYz8ij469UFYdMiN/XlF3OH28f/qkA5N82Pdwto3rJNisdZt1daElFUV1/s4i0XEgRVHtLaq9RHWOUTvHabsAU1FUV5ZvV3xVjKee6FnvfCM2a+ahxPYKLbq23vnc64zImAqHUZj8npz2+lxRNFhoyQ3j7peJ34SJe5+Gizdl44ofbnLLEQmlVgS1PUVtOULRVAVWt4esCafij9ObMhXIbK86X7BK4k6EG19Q8oXIOO+ewOSHt+l5AmDSg1AXfgpEJ5uuE2fUszCef9I5npsXe73Xm9MXvWwZ03ij86no5z9wRr0XnWNe3Hn5D9ILwvsCphOvzXtoE6fM2bzb6zXN2Jc54SMRtEgA9XuCpnaxcce9UhMBM/SxEy6YbzTPR2n8fjzpcd9+6XEnHbeM7r61oWdzPx1jQ+8aNz1336an18e20+vsvk2LbfKwbvlka9lhCwswAAMwAAMwUJaBRkXRUaPGyv9z6h8YYfSdM/6d/PrNPaajy+9+9zt56fYr5aWH7zW/9b8d3/+eCfdfl82pK4wee9wpjT3b6OJKI8bKtNFj5Z9OGC+/WzBRfj9nX/mn266R34nI73//O/mvy26Ve/f5oDx04Efl9gOWye2zJtQVRj995MFePhp5Vyds6yIgNvRt2NWFlnTIvM4lqnOKzpu/JCMSDpQoqvn6s5UfN4KoDvFvNyRlh8/bdFVEXfGRj7U9Hzb+XtzWEz3rnW+kzGVvbm64UPTU3qJ/9VffSBr78Lx7beF+rvjoi4OhmJgRJnPicMO4+1E+asdvwqjIGQit+8U9SK3I6ZUpJw963k07LMd+mTT8fOn1Kij5gqQv+oS94kyejKBkRVPdpsJpnshlBLdCwSxHkFIRyRGlcuN0zruCniuQZa4zgpWbbysC+mW2dtfrUyE0CmOG1nsisiOIWfHLE9zaJ4pq2ezQfi8fri1MHpy8OkPk9Rr1dcYuek2QZ2uDaBvFF9ki31b+9YFPG+Ql34dunG4e3H3npcIpT/3yunHHcXg2ddPQsIEfzO+0Dtievm698O3p5NMywzZp57EVfMAADMAADMAADOQx0KgoqnE8ffwfGrHzn5f8X/JPe6Op0H7xd38nf3f+VPnhFSeZ9UhUFP3pj3+c9Cq9dd4k0eHxOm+o7SWq+3qs0R6imgfbS3TrEeNEFk2Qd943Vt5afJi89es3RX73O5Hfi/xqx8/kL0Ytl/tH/5l8adxF8sFRx4v2AtXh8TpvqF18Sff1mNtD1NqqkXd1wvqCHvbonj3aMnxeHaa9RD/04QuNAKk9M91emQMhitoh89qLNW+e03ZAVmahJZuOqtS64FLRKvU2XNW29UTPeucbsZdtnBvZhqKnHUJv4wjP2+M1tyomStBT1PS6TIeoh2KiKzSauHMESTeMux/lxRcfw/iL4tTj2bjih6LcnqJReCuiZtKpJ4o6wlGUb03LFYDS34k4mLnGF5RyBShPYPLDZ9OLy6vXxOJj/ThjcdebFzMQ/7w8hCJgWOYoD644l9onnjOyVt4CG2XzH6QXhHcFYZtumBcvzrBsuWJ3bFcV33LCR0KeFYmdsLFY56YX5sXkUcuQJ3yHZWuop6jmQ3m5SpZ7c8f69qubn7rlDZkMbeSmp/uOAFpLzDRlLxm2VjycQzCFARiAARiAARiAAWlGFL1m+p8kYuePLztOXvrUx+WlO1YbEfRHL2+X7/35RfLSHVfJzz9yaBLuzEP2axtvVhA9efw4+d3JB8m/nTxR/nXWPvKPD2+Wf/u9yL+9/S/yr2//q/zu9yL/7RMPyD1/tFT+8sAL5C9Gr5CJIyaZfAzXnqYl/N/IuzphuycCYmvf1m0TRa1hrRipPTStGNlNUVTF2GUfvsiIs7XmObX5bXWrvT/riZ0qhO7e/YZZbKnV9Prtelf0vOSyNfKjH/2N+dN9Lat7vtWyl2m4wzD1RM9658P4ot8qUDrzgcbCY7KIkp2L05mrMyNM1hFFjRjp9PrU6zPx20WbzA0typMVM014m74RcVPBtuE5RW08mk4dUVSFrkTsTG60rgAUi2OuuBMKTPo77Cnq/I5ELbc3alaAMoKbN+RYw6TXuIJc4uPcfHzWK497nbuvcfhpRmX25q805bIi4UJZ5fQOTeMqEMgCITANb8XGwMZB+KxoGYSPhWsrGmfDx6KeZ1ObthWEU/taYToZ9u3NX6rXReknrAQ+z5x3hc9cP6VCYdY2zpyiMZMqerqM2fSSHs718mPsW6O8YflM/j/rzGfq29/kORGAHbsarq6S5YfbY1nWE36T+mbDssU2MAADMAADMAADMFCLgWZE0aMO3D8RO+X975LXV50kv/3tb5Nh83v+15uy+yOTkzD/vPgPZMz+Y0qJkLXyas9ZUfS7Rx8ov1t4iMhx+4lcdkqSvrvzzr+8JV868uNy/37nytZxF8tl+y+I8oEoyujfI3xhsVWtZiCvb7soqoVREVR7aOo8nicvOtv81n093onCatwqxurQfR3Cr0P5OzFcPi/vxxx3qllsSYXRz9x1b6Z8OrmrCqJvvPELeonmVBwVPXWxqke3Pm7EZSuCqj31mJ7TY3m2b/SYvRE0srULLemQ+bw/FUU1TCNxmrCml2V6yylefT5+EEnCx+JkHVHUDnu3KeTH/1150VlSPrPwkytmGmHUxiZixdMwnbAHbGM9RVXoScWp1Ka+AGSPGyHIiGzR+WQY95VXySpHBI1ELruaeDTMOBHTYiEoissVnaxImQ5LTgQvK2A6oqTJUyi2GWHLL0+Ul2heUivO2nzfeOVVcmMiGsZlNj1NbR7cuIIyW0FMxTa7b0WuWIAz6cTn/HwoY4GN64qiVuRM87bqyvVJT9pcUdTazR3q7ebVzaf678Ts6vPWVroNfRj1LLX5Cc+7YmBgu1xerI+i+pfp+Zmxc2A/tb0RRovykwrBUZnC8obnr5L5Hl/Z9CKhNk3PE6gdm7sc27rElhc+GIABGIABGIABGGicgWZEUbXzrpP/QyJ6qjD6i/Mmyc9/+hP54fdekn9YNsw7943j/7Dxd037HlCwXTnpQJGFB4ucsr/8/dET5MuX3iNf27xdvva5F+Vr937X/H31cy/KU/d9Xz575ufk7uHnyhfHrJCHxlwgM0dNK52fRt/XCd8/QuNg8GVXF1rKK7D22NSemipY2nk93SH1edc0e0wFWJvGh//s0sIFn5qNv951KozaHqMq5uniS889/x0j8unvH//4bxFEcwRRtasKnmoj/dM5Wq2t7XytenwgRdHVV11jVp+3PULzthqm5YcII3oGQ+oLbmItpzVY4/VEn8YfSorskhUA2xd3UZqtH8+KXmXizIh3g9XX5Kv1NgMbYkMYgAEYgAEYgAEYGFAGmhVFz5k8XP7ttHd54uf/d+Yfyb+e4YuluijTvINGtrWM40aOlb8/fqT8vyeNl8eOPF0umPopOfvAz8gHR22QD+7/597f2aM2yLkT7pALDr1Vrh9/mTw0+iOybv/TSufHvtuzRewcCAa6utBSrQJq702da7STPTe1B6qmob1Fa+Wl0+d0mLyKeSqQqpCn+3YYeKfT7tX41WZqq7wFqPSYnmvXPKxlRKW8MAdPnCqnLl6S+6fn8q5p7Fi0Yru4PTMr+ICjgl4nerFVRxTV3pB2eH0vCL/ksbF2AnthLxiAARiAARiAARgYTAw0K4pqGZZM2k9+seDfecKo9hq1fz+c/x/luPGj2vCu6TPzwHvGy9/MWyhrpm2QFVP/Ui6edr98bPpfyMfec3/u32WH/4VcMu1++ejh98vHJ39K7j3oKvnAqLml8tWrGgX5rpaI25Hh80BULYh6xd+D5wYai6DpaHSpuiDaSd9URxT1H3g6aVPixtYwAAMwAAMwAAMwAANVZ6AVUVRtN/6AMfLFo4bI7x0x9F9Pe5fcNvOPZf9R5RYzatQHlxy6UOYffIWcdPAqOW3iJXLqxMvq/024TBZPuFQWTLxcFk78mJw29gxE0YKRsL2ijZDPVLNDFAXmAe1d283K2OgNg/A86MEADMAADMAADMAADMAADMAADHSSgTMm7Sc7T/oP8r0T/lNHeod2Mu+14u7muz5ppSIftmjMFoiiiKKIohUcql7r5sU5HvpgAAZgAAZgAAZgAAZgAAZgAAZaYQBxrjFxDnsNjL0QRRFFKyOKjhg1vlQ3/1Ya/qJrh4/szPCHovQ4zgMMDMAADMAADMAADMAADMAADLTOAO9yjdtw+IixldEZEDMHRsxsl90RRRFFK9NYHTBm0oCJovuN0BsJwigPZY0/UGAzbAYDMAADMAADMAADMAADA8XAWIne5QYq/d5Nt12iFfH0tug42P2HKIooWhlRdNKU2QMnijJEH9vDAAzAAAzAAAzAAAzAAAzAAAxUgAF99x7sYhj5Q2xVBhBFEUUr1VgdMmW2HDB2kowYdSA34wrcjPmi3rtflvEdvoMBGIABGIABGIABGICB3mFA37H1XVvfuREcERx7hQFEUURRGiwYgAEYgAEYgAEYgAEYgAEYgAEYgAEYgAEYqBQDiKIAXynge+VrBfnkyxoMwAAMwAAMwAAMwAAMwAAMwAAMwAAMdI4BRFFEUURRGIABGIABGIABGIABGIABGIABGIABGIABGKgUA4iiAF8p4PnC0rkvLNgW28IADMAADMAADMAADMAADMAADMAADPQKA4iiiKKIojAAAzAAAzAAAzAAAzAAAzAAAzAAAzAAAzBQKQbeNWzUgcIfNoABGIABGIABGIABGIABGIABGIABGIABGIABGKgKA4iiiMKI4jAAAzAAAzAAAzAAAzAAAzAAAzAAAzAAAzBQKQYQRQG+UsBX5WsH5eTLHgzAAAzAAAzAAAzAAAzAAAzAAAzAAAwUM4AoiiiKKAoDMAADMAADMAADMAADMAADMAADMAADMAADlWIAURTgKwU8X0iKv5BgG2wDAzAAAzAAAzAAAzAAAzAAAzAAAzBQFQYQRRFFEUVhAAZgAAZgAAZgAAZgAAZgAAZgAAZgAAZgoFIMIIoCfKWAr8rXDsrJlz0YgAEYgAEYgAEYgAEYgAEYgAEYgAEYKGYAURRRFFEUBmAABmAABmAABmAABmAABmAABmAABmAABirFAKIowFcKeL6QFH8hwTbYBgZgAAZgAAZgAAZgAAZgAAZgAAZgoCoMIIoiiiKKwgAMwAAMwAAMwAAMwAAMwAAMwAAMwAAMwEClGEAUBfhKAV+Vrx2Uky97MAADMAADMAADMAADMAADMAADMAADMFDMAKIooiiiKAzAAAzAAAzAAAzAAAzAAAzAAAzAAAzAAAxUigFEUYCvFPB8ISn+QoJtsA0MwAAMwAAMwAAMwAAMwAAMwAAMwEBVGEAURRRFFIUBGIABGIABGIABGIABGIABGIABGIABGICBSjGAKArwlQK+Kl87KCdf9mAABmAABmAABmAABmAABmAABmAABmCgmAFEUURRRFEYgAEYgAEYgAEYgAEYgAEYgAEYgAEYgAEYqBQDiKIAXyng+UJS/IUE22AbGIABGIABGIABGIABGIABGIABGICBqjCAKIooiigKAzAAAzAAAzAAAzAAAzAAAzUZGDV2ooweP1nGTZjKHzaAgUHGgNZNraNVEbIoJ6JtuxhAFOXhh4YTBmAABmAABmAABmAABmAABnIZGL7/eCOGjhwzQfYZtr/85332kyFDh/OHDWBgkDCgdVLrptZRFUe1zrZLMCIexMd+Z6CyouiyFRfIlof/izzzrRflu6/8UPa+9Y750309pueWLb+AxoSHQxiAARiAARiAARiAARiAgcoyoCLLsJHjEMAGiQCGII0gX4sBraumztJmt7XNnjt/sZyz8mNy6eob5GOfuLFSf1pmLbvaoB8F0kqJotNnHWvEzjfe/E0igloxtGirYVUgPeiQw/sSgH6EmjLxNQsGYAAGYAAGYAAGYAAGWmdAh+Nq77NaIgznEOlgYHAxoHWWofStt396Dzlw4jQjCJ62dIUcOn2O7Df64MrpQlpmLbvaQMVRtUk/3V8rI4qu/9Sd0ogYGoqkeu36W+/sK+f3E8iUpT2NPnbEjjAAAzAAAzAAAzAAA5YB7XGmw3IRvQaX6IU/8EctBrTO0lu0Pe246SF5wqnoQHHP47knnGqEUXuP6Idt34ui2sPTHR4fip2N/ta46DXangamHyoQZYAFGIABGIABGIABGICBfmVAF1ViDlEEuFoCHOcGHx9aZ7Xu9mu71K1y6XBx7R3ZrfR6JR21ST8Npe9rUfS4Exa21Du0SDDVXqMad69ASz55UIcBGIABGB8bUKYAACAASURBVIABGIABGIABGGiUARVWEL0Gn+iFT/BJPQYQRVtv77WXqA4bb7Td7PfwahO1Tb+Us29FUe3N2cpw+SJB1B7XuOkx2npD0y8ViXLAAgzAAAzAAAzAAAzAQL8xgCiK+FZPfOP84GQEUbT1+5EuMFTFOUTr3cfUJmqbeuF65XxfiqJ5Q+a/9+oOefDhL8uPfrK79CJLVgDVa/Tab/73l7xrdSh9rziafLbeKGJDbAgDMAADMAADMAADMFAlBhBFB6fghRCJX+oxgCja+r1KV5mvUnvfSFn7yTZ9KYrqokpW0LTbCy9bnQCt+644qmKn+/eLPf9ortete92yFRdk4tW0GoGHsK03TtgQG8IADMAADMAADMAADMBA5xlAFEV8qye+cb4xRg6aOFWOmvs+OWTKDDnh5EWl/848+xxznV5fxuaIoq23j/0k/LX7ftlPtuk7UXT6rGNzh82fesYHPfFSe5PWmhdU4wmHx2t4K7LaLcPoW29s2l1BiQ+fwAAMwAAMwAAMwAAMwEDrDCCKNiZ4lRGrCFNdm6qgOefYeTJy9PhSwmbIil6n15cRRhFFW2//+kn4a/f9sJ9s03eiqA5zt4Kluw1F0WagUKHUjdPua5rNxMc1rTdU2BAbwgAMwAAMwAAMwAAMwEBnGEAUra6AFwpy/G6dBe0h2qwgau2v12s89nfRFlG09Taxn4S/dt8j+8k2fSeK2qHvVrC0W3cYfLNA5A2f1/i1t2izcXJd640VNsSGMAADMAADMAADMAADMNB+BhBFWxfCikQrjlfPtjoEvh1+16H39eJBFG29Pewn4a/d98d+sk1fiaJFoqUKpeFQ+Gag0DjcuUit4KpbTbuZOLt2zbUvyBtv/Uaevrb1xqGpPJv035FXHupy+g/tlL1v7ZT7R3U5XdIb3PWhE/4ZKMY7UZYycVK3Osr4/Tvekb07tnY0jaK2fCDTLspTR443VGdvlqffHDifdKT8Zeo5YQakDuJvntkGEwOIotUT7uqJbZxvngmdQ7Qd9isTT9dEUfNO0A2dofvPYm0T/rpmo+7dP9tmm0HwrNlXomjR0Pl29BK1DycalyuG2v27732gsw/ONV7ezAvsmy/ImhAot/KZ6zvYWMX5s/aw20QErZF/a1vdrnn+N7I3ryxaNi1P0bmw7Pa3sUF9UdTY8K13Et8m+bbxDNTW5D/Nl7Wr3b7x/M2d5a7D5Tb+duwelauDnHayPCUZd3nv3P5WeSVj1zYLOiXrVufK2L2bvpbBthE12wbbDrZBzBxIYXIg026GF+sb2y6abRkfNFRnu/8g3owtuKa77QL2xt5VYKB5UfRGeWTbi/Kd5O8xuXZo82JS40KSpv9N2biim2mSVuN+qpbNyoiZZWxYJp52iqLZZy3n/dq8E3Tj/a37z2KNCH+Dw0bduy83YpvBfq/sK1FUV5D3XopiUaAdvURdR+aloWm7Ydq/HzUCWRHMih/ZhsgTGM3LXzZMO/IZNQA5cT+0U7L5tRU1vzxenkMBSxvcToii174gr7jiYtcadmuLktsO+rAdHDQTR01/h/4v+l0xca6cnaN2oaaAV2TPsscrZndt53SqlFq9NxORv4wgV8fOpl1tKZ7mGWg97ZJtWh0blGM9Fqw9W8X3Re9Yd/NUNu+Ewy8wAAODnYGmRNEVm+UboSB5w+YuC5SIomXENcJ0V5QtI2aqT048ZbHce9/nC3uVlomnPaJovhB5/w5HFG3T89xgbAvLCX/VtFE52/TGPb6vRNHvvbojI4rq0Pl2V7A88fW7r/yw7emE+c4VkGIB74033wkEyEB07JCglpunUg1jkL/4mprxaVk7IYpm8qsv1DkibxxuxpHH1vX1jFnH1A0T+rfu7w75sG66Gfu0r3Gr6e+y6VZMnCvnr+YFsXLxxz23B3Bqim7XQyMUvvmbGtOQRO3GKztqC6dl7du6MNk8A62n3b42ooy9cvPbw+1Ct9kuY2PCdJdp7I29BxMDTYmiNzwm33l6syzvas/QUNxCFEXwDJkY+N9lxEz1mwqiteYNLRNPW0RR8/5ZDQE0r90tJfxV1EalbFP2fX6Aw/WVKJrXg1PnAM0DvJVjeaKopt1KnKWujQVQd15QIyrt2BoN7XR7xYQCWvI7elG2tkp6cibngwfRmi+WDbx0u/GbfX9IuM1HTZFM8+KIorbsnu3cdLRyJfkvKHdOBcx9wY7DzZxznKy9/iZ5z+y5hf4+bMYcufqT18vMo44vDOPlOScPuefDsgXXmXwnQ6ZDUdcvf2aeVWsns419E9va2NnG69g/N49BnuqFqelvO2R5x9ZoWgWbB0eI88us+XZv2kGZg7xbP9s4DIOJjeMvfjZNt26NsoL+VjFzDL4Vz5WbXGvrUBBHILR7drVxNGi/YvvWqpuxXbwyRcdsPbS2ieqPrasBU5YZL8+BzYMyD7M2ekjnOPb91Yg9tB5+8robu1oPrU10a+3k2V/t8eYLcr9OAeLZNh16b9tdrwevtaOtezGnNj2bhrWPm7Y9lonXxmX5Tfiy7N5cWKc0vTDtYaNCv7r1LOY9TNOrb8H13jlbX5rfZvN7oCSsmXm0bbnr1VnNQ5DXhGEbRzxliWX5Wj+865/Id/55ZSM3v3E9Ggi2LWNsm2cQ22G7fmagKVE0r6eoJ5CeLxufdobWb73R6REXnNvmDLuPxdaNW6NrH7khFrn0eDJM/0WJjsei6A3aa9Wm5cTl5WfgxTIEzGr4oIyYedj0WXLlJ65x6kTWNmXiaZ8oWmddEPss67wT+M+ov5GnzbO/8y5R+jnKvb8Ez2LJO9nNyTRX5pm4jc+ZpYQ/U5bGbRQ9q9r3LH2/iJ5Tk2fJFmzkvWvkTFGYPIt6z++OfxxfFt3fStmmRDxF8XfzeN+Lolox2m3QvMWWOtEjNZvv6OUqhTxqGMzvsDEKf8eV1RONTBgLf9jIRA1QUmHygA7TyAtjjyWV2jZs+emZBrSoIdP0nHMmbCA++C/CVhT1xRfbACUNjs2j07BmbW/zfaAcMXuuEUaPmHNchq3J02bK6qvXypy5J2TO1Yqz1LmMDdM8Zfzk+Vbnat3pLbJlwju2TMSvxJ7Oi3xwLGu3NB+lypHYu84cslacecsVoSJuPNEpl8OwrsRCj1NmY4NELIrLkNQTWy/0eGyLxA5xHhKxxL02vS70ieuDDOdxumndbt6mkQ+y5fd8E7AU5tXaxrVz9HCTli/94OCW3/VVWv+Scln7On7QfDVjjyNmRx8oulUPExuZMoSiYMSEljPTLtWbnsPwm53vNUlP60tQn8vZLI8By67vp8jfaZm8tI1/arcfGTa0Ld1h57nO5sPEHzDg8em0EWWOh/k113jtgi23w6+mEdSDvHtDWm+jOJL2z7LsfojJ+Ckqe3KNZV3F6qQ9ydb1brNdxsaEyfoJm2CTqjDQlCiqgqMVKjM9RiPR8xubzo9Fn+h3InCu2CyPBOeSsHGcSdgkHUfsXLFZNhqxVEXRF50eq7HY6gmwWbEJcRKbdJKBMmLmeedfKHPfe+LgEEWdZxf3ecZr/7xnrvhZ2H0+su9S7rtTqeeo8D4TPIvF7+6q9yTvGnFahXlt8BmzrPAXPQv7z9e1bGSfOdN8p50okry3YCM3Xs1H+K4VPfv7z6PZ5/nQ/v7vsrbx7NCg/bt1bV+JonlipVaS/phTNILQe/nzXuj8F08vXPLy5zYYGl/QsGiD5r2oapzBS6QLcia8fclMv3gkL35eXnPSjuO1DYr5yuP0ckp+O/kzYcMXyzCdzEtqZMewYUgaizA+t7zO/nuOnGt6qs2ck/YGnXDodLn8yqvl2Pee1H5BVNMOy2bzY46ngkbUeAS+tWHtNrh5ZQQu23h6N7Rsg9pqQ5Xrb8fHhmPnt0mvbN5DXwb2y43bhAnriRWlrI0j2yZsW5t68deyf369ytRZG29T26g9SOpNXJfcG2SSXmhPK0aHds9rLxw+kviC/HrHc+3bvD20x7b2GNXedZbFTtXDtByRb11bmroZ2yu3XfJsEvkmub6gjUrSM+dDJsvYLEjH5KGA3fgB0uYpSdvLd9R2ZutgXjpp2Fx7eHUlDWt92Og2k9+Ys+Sh0j40l2kTwjCJDYI6ncuyHybvPqNly+Q3SSO1RTfZbtTehE/9hC2wRRUYaFoUjXtiLt/0TdOLMxE2TS9SR8S0wmaBWGmut+finqLpsPxAUI3TjEStnOHzmesRADspABJ3lq96ouiwkWPk1tvuqCmIql3rxaNh2tJT1D6jxM89+m6RPl/F9wDvXaLguTB89ivxHJVtX/3nLKtlhO9kRc9f2fjq38MaEv5K26joWTAoXws2ss/0tsyhTcyzaL13Pev7gm1DtimIw+ZvoLd9JYoWDWtv5+rzy1ZckJm3VBsHXfm+K850Gp08uKNGKqcxChsiA2ZQ8cyLsSOCalqZyuI0Hk5e8sruvfhl0g/TjuINy+TFG+THhA1fYMN0ivKYc1zzm2nka1RgnfftmmvXyayjjpcDJx4ml378Snnv/IWd4yAsm82bKYsjRDtislseYy/nXLbXsBX9in1R0z82Pw1s68XnMWTjDX0X/raig1dWa5+U79y4i2zsHc9nNyNaJ37x7Wq/DIaCpfkd8mzL3PA2pw3IxBGF0XTDG2eubaxdbR49u0c2CeMx9VfD2XbEs2Pclphj1j/B1qaVyXvaDnWrHno2ccsU28XWteJ2yS9bYivPjmm5THpmDtOsf8oxlMdAAbuB4O2VNbZ9Yfth/Bcw7vjLxFWnLnrtvHNt2eN5aST2NfEVlNvjsQbDeXF411q/+eloviwXblny7Ouet/vdYtumx9b6kS0swIDLQKuiaCSMRb02TQ9P24M0GdIeD213epReGw+PT4bEF4qiOcJnIozmnEMUrSu2IWRmhcx22qSemLng1NNlydJldf1UL562i6L2+cw+t9tnez3uPssWPReGz03h77xnLZtmsvWfs6woGj5r1Xu/dNu3evtNCX/1bBQ/d/vPqnrfCcrXgo3CuEObFD2LFh3Ps1NTtkl8Objus30lit597wO5guUz33qxbUJVkfC6/lN3ti2NPOjSY+mLbvjClcCeV4HyjoUVL3i51/jDCpXmo0bPxRh2r1Jl0g8qfXxNUoa8ChMIESZsKJqE6biNtBtnwfE118bzxblha+xPn3WMXL/uZrlu3c0y/5TTOstAWDabr8Auno9MmFj8Krp5aZgce+T5Iu9YNr3yjVy9+DyG3PI6PRTz8h7Wjbw85sZdZGPveD67GVE0zq8poxGFYuHIxFUsIuXltfFjaTtRfG1UjsEhirZmj27UQ58XtZ0V2NXWaf6Nv512yVzn9bgPfJNT99Rn5rpYFA0f9iLW0jTzfRykY3gsYDe4F/hljeJJhO2wvajDs8aVyb+ty23a+vnNa38Kyp1Tr4vveUEc3rU2TT9MUdnr59fGd6B0g+18ftI8cB5bwEC1GWiPKDpcVOg0vUW1p6gjgIaCUxLO7WlaKIrSUzS0H787K2q2at96YqYusHTAuImDVxQ1z27BM6b7LFv0XBg+N4W/Tbz+c1T23hOeD39HbXW998tsvMVtfPPCXw0bIYp2VjNp4v2ir0TRol6c+tL/ibU3tWx87XFqenPl9Ho59YwPthx/uQpqK/8L2aHtceNiVj92BTAFo2zDo+HMtVqR6710F3X9jhoW78Uvk74thy9C1mzEAvEvN6xplK1YkS/2qZ29vDVRcVxfHT7zaDnh5MWd93/GhnEDXnTclsu9URUdywmTZ9+8Y64tGt2vF1+un8K8hr/t0P+wDtiyx9vcuAts6eczn938OmZvsu6N0d2359u9rZ+GKZOKdzn2y7VNMMQ6vC7/mqCu5dq3fl7LcNXpepgpn9otXgTMFf0SuxrO8soWHMuxv5Y3Sc/YLBQWgzgCtiN75YUpx26Stsablz/vWF46Kc9+3UmPl/Fp2TBefnNt0US5M/EEceSy7Icx+cq0Q1GYcKhXrbJ2mu1aaXOuM8xiV+zaSww0JYre8Fi82JEVqJyeokMjITMZTp/07NSwocgZ/f5OoSg6XKLh+c5wfG9O0W/KxhU2D/E8pzUE2VYFL653bO35leOWjVqi6IyZR5lV523YWtta8djr2jp83nsu8p93vGfF+Lk185HZPDs67+glnqOy7WSQbvBR34Zv57Nn86JokFfv2bnoWTB6pk7eK9pio+h+Gz6T5j87136mt/a12+ZtM/ieAfpKFNW5Q3XBoyLhcv2tzffm1J6gRfFqmu2et9TClreNKvpv5I2MaBlXsLy5PkpXKo3jN/L089ELf176/rGo8ni9iOJG06tsOel75+NrajZi2pi4L5gmTrc3a5wXt1eWaYDe8a+Lj4WNtUk7Y9NBVGlzbBj5Iva7axsjqsSiduY6aydH9PYa6qjMeb7IO+bz0Ji96sWXx4h341VuMuWzx3KEpLAHn/PblCNmyptaID6W3KAKbsB+PtyFZtQm/k3GlCtgLV3QpTEb5tvfTy8TxvjbPphkb8xR/nz7ZfIcMpOxkxXUbDrWL85vt63oqD1at2mWRbXxb+SNN516ZAX5hKvItik7sdjpTlkQ2tG1iY0nx7YZf5i03QWRsmnbYTl6L0vbv2z74ZXVpO36LNt+RG2nG8bhPyfvpj7YssXlzTDawHEvv7nX5dkih8ecvKb1MogjYxdlLC+MX48iW/kT27dSdq5tvW5jQ2wIA7UZaEoUNfOG2hXfg5XijVgWiaTJ8PhtdsV4Z4EmM7z+m/LI1m9KLVFUBSA7b2kUnxVCGT5vxTG2g0eUrSVmai/RGbOOrttLVP1ZKx7r77aIouGCofqc5b1H2N/p83D2GdU+OzrPimWeozLPdMFzVvjcFYev937ZSJtfSvhrwkaRDd3n8fQdIXlvaMpGOQtdGX/5ekjkI/8ZNeu32veGUrbJ+LB2nI34pp1h+0oUVcPo3J5WvFQhU3uPfu/VHckxXYzprk2fl0Wnn123Z5/2/rzqkzdK0QJONp12zllayrnxi1teT5MIZqfBsSA2UKmyL7j14U1e9LxetGnj6AtGcXy2HI6IW7MR0wodCH9+ujvl/rCcVnCwjUGcv1QQSMsWxeXk2dpusGzDsnn5im4SlkndJg2qFWoS3+yU+61dbBzhb3tNnr2DY6WYtekEW99/6ZyLNu+G51A8ycmrbdjzxMzUJn69yI3b2vihF+SNxF6+LTPChy2TvfZaZSrrj5C5NM9xucNy2nib2tqHj9SmkR1sHQnKZPKeHrO28fMY1I0cP0T13E0zuMazUVr3lCE/rcEnGlmbuLwbfgO/ZY7FtrUcvvJQ5JuEhzw7Wnu4cZtw+Q80Nu7MPcFek4ig9mFyqzz9puOnoE6HZfXraU77YduLojoT2GCv++GqKb5z2HFtlYnTltsfmVDvvmTsmtgmiCOX5SCM5iMou7ZtoX1dptj3fYs9sAcMDDwDTYmi9BIsJWxZ8Yrt4BEtO+2LWmLmqDEHleamVjy2DO0SRd13ouR9wn3WynmW9Z/r7fuH8y5W9jnKTScjguY8d9ln0uT5rbU2tJTwFzzrlbWRFUbtc/wrDwXlacpGWt4oHhuvHdnm6ij2WTTjJ8/etW1XyjYNxDeQ9/u+E0Wnzzo2EUDfePM3ctwJC00vTlcYtYDosSLjf+VrTyfx2PB5WxVMi+Lo1ePmBbhNDUmv2oB8124E+9Y+uTef6tnC3ij71s89coNuv/2Dh63K2mFg6zT1a2Dt3/56RXmwaX8zgChaHcHOimlsO+fzM88+p7TwWcsPh0yZUTeetoii7XpW7NF3rO4Kf917Tm/Hs2h3bdPZ+2zfiaL6YOYOdVdhVIVS/QuH1msv0qIHORVT80TQ8FjXe4m2q2EqjKd7lbHI9hzvbKXHvjXs26M37Hb7tB03ynbnifhqcFvYnofX0L4PPEdBT+HSvgt9ye+B9yU+wAfVYABRtHMCWS3Ri3P9afej5r5PRo4eX1fQrOV/vV7jqRVGzw0mUbRXO111Vfjr4ntoO971umqbDj8v96Uoqg9pbs9QHVKvx3TeTxVM9a+MmBkKoOHvWj1Ne/ZBMaf7e8+WpcOVB7v04ctAF29Gg5mfdtwoB3P5qps3RNGu+l7bE29Yf2R/d/hSV/PDPbHwQzh+6MP7Oby3jXdE0f4U5+oJapzvjN8PmjhV5hw7r2lhVAVRvV7jqeejgRJF79/hDJPXtjiezimZOqqH2ueOCX8P7fSmurPrT2SmwuqQrdrxrtcx23SozLWe9fpWFA0XXdKen7UMkXcuFEHd3yqIdnNxpbz8tfeYnYMwaMQGAMr2losHfezZAAOIoqadbMeNEu4a4K5r7SyiaHe5tPfV4vlbu5ufwcgkeYIBGBjsDCCKdkYcqydocb5/7a6Cpvb01CHwOjdo2T8deq/XlRFElZ+BEkX9ueijZ6BeFES1be6Y8GfeOZ3nQ52X3/uQ3tl7Yzve9Tpmm669F6U27ltRVCFWIdQdMr/l4f8iugK9/av3EOKKoO5+/wmiKRD1bMJ5bAUDMAADMAADMAADMAAD1WAAUbR/xTmE1/727UCJov10b+gn4a/dfukn2/S1KKqO196c7lB6V9ysB4Yb1u4jiFbjAbAeG5yHAxiAARiAARiAARiAgX5nAFG0v4UzhNH+9S+iaOv3p0tX3yD7jT644RHH/X5fUJuobfqlnH0vilpHuYsvWYHTniva2nC61VXmy8xDWhQXx1tvlLAhNoQBGIABGIABGIABGICB7jGAKNq/ohmCaH/7FlG09XbynJUfk0Onz+kb8a9d9061idqmXfENdDyVEUXV0LoC/d33PmCG1Ouw+nrG1zD6p4Jqf80f2noDUc92nMfGMAADMAADMAADMAADMNDbDKiw8p/32a/uoi4IbP0tsOHf3vKv1llE0dbb3rnzF8tpS1fU1Y2qdp9Tm6ht+qXclRJFrdNU4FSB1P4u2moYxNDWG5Mi+3Ic28IADMAADMAADMAADMDA4GVg9PjJss+w/RFFh/aWKIaIWW1/aZ3Vukvb2nrbqj0i555wKraMF0BSW/RTL1GtI5UURWkcWm8csCE2hAEYgAEYgAEYgAEYgIH+ZmDU2IkycswERFFEURjoIQa0zmrdpX1uvX0+cOI0IwJq70gdNl7FOUa1zFp2tYEKomqTfmILUTRWvPvJqZSl9cYPG2JDGIABGIABGIABGIABGDgw6nE2chyiWA+JYvQUrW5P0WEjx9FLtAMajw4XV0FQFxjSlder9KdlNj1m+2jIvHtvRxTtQIVxDcw+D9MwAAMwAAMwAAMwAAMwAAO9ysDw/ccbkUV7n+mwXOYYra7ghtg6OH2vdVLrptZRHTavdbZX2xvyzb2y2wwgiiKK0mDCAAzAAAzAAAzAAAzAAAzAQE0GdDiuCi66gAt/2AAGBhcDWjcZMo+g2G1BsR/SQxTl4afmw08/QE4ZuDnAAAzAAAzAAAzAAAzAAAzAAAzAAAzAAAy4DCCKIooiisIADMAADMAADMAADMAADMAADMAADMAADMBApRhAFAX4SgHvfhFgny9EMAADMAADMAADMAADMAADMAADMAADMFBNBhBFEUURRWEABmAABmAABmAABmAABmAABmAABmAABmCgUgwgigJ8pYDn6081v/7gd/wOAzAAAzAAAzAAAzAAAzAAAzAAAzDgMoAoiiiKKAoDMAADMAADMAADMAADMAADMAADMAADMAADlWIAURTgKwW8+0WAfb4QwQAMwAAMwAAMwAAMwAAMwAAMwAAMwEA1GUAURRRFFIUBGIABGIABGIABGIABGIABGIABGIABGICBSjGAKArwlQKerz/V/PqD3/E7DMAADMAADMAADMAADMAADMAADMCAywCiKKIooigMwAAMwAAMwAAMwAAMwAAMwAAMwAAMwAAMVIoBRFGArxTw7hcB9vlCBAMwAAMwAAMwAAMwAAMwAAMwAAMwAAPVZABRFFEUURQGYAAGYAAGYAAGYAAGYAAGYAAGYAAGYAAGKsUAoijAVwp4vv5U8+sPfsfvMAADMAADMAADMAADMAADMAADMAADLgOIooiiiKIwAAMwAAMwAAMwAAMwAAMwAAMwAAMwAAMwUCkGEEUBvlLAu18E2OcLEQzAAAzAAAzAAAzAAAzAAAzAAAzAAAxUkwFEUURRRFEYgAEYgAEYgAEYgAEYgAEYgAEYgAEYgAEYqBQDiKIAXyng+fpTza8/+B2/wwAMwAAMwAAMwAAMwAAMwAAMwAAMuAy8a8jQ4cIfNoABGIABGIABGIABGIABGIABGIABGIABGIABGKgKA4iiiMKI4jAAAzAAAzAAAzAAAzAAAzAAAzAAAzAAAzBQKQYQRQG+UsBX5WsH5eTLHgzAAAzAAAzAAAzAAAzAAAzAAAzAAAwUM4AoiiiKKAoDMAADMAADMAADMAADMAADMAADMAADMAADlWIAURTgKwU8X0iKv5BgG2wDAzAAAzAAAzAAAzAAAzAAAzAAAzBQFQYQRRFFEUVhAAZgAAZgAAZgAAZgAAZgAAZgAAZgAAZgoFIMIIoCfKWAr8rXDsrJlz0YgAEYgAEYgAEYgAEYgAEYgAEYgAEYKGYAURRRFFEUBmAABmAABmAABmAABmAABmAABmAABmAABirFAKIowFcKeL6QFH8hwTbYBgZgAAZgAAZgAAZgAAZgAAZgAAZgoCoMIIoiiiKKwgAMwAAMwAAMwAAMwAAMwAAMwAAMwAAMwEClGEAUBfhKAV+Vrx2Uky97MAADMAADMAADMAADMAADMAADMAADMFDMAKIooiiiKAzAAAzAAAzAAAzAAAzAAAzAAAzAAAzAAAxUigFEUYCvFPB8ISn+QoJtsA0MwAAMwAAMwAAMwAAMwAAMwAAMwEBVGEAURRRFFIUBGIABGIABGIABGIABGIABGIABGIABGICBSjGAKArwlQK+OrIGOQAAIABJREFUKl87KCdf9mAABmAABmAABmAABmAABmAABmAABmCgmAFEUURRRFEYgAEYgAEYgAEYgAEYgAEYgAEYgAEYgAEYqBQDiKIAXyng+UJS/IUE22AbGIABGIABGIABGIABGIABGIABGICBqjCAKIooiigKAzAAAzAAAzAAAzAAAzAAAzAAAzAAAzAAA5ViAFEU4CsFfFW+dlBOvuzBAAzAAAzAAAzAAAzAQHcYOODASTL58CNl2sxj5PBZx/I3iG2gPlJfqc9aqR/7jhgj4ydNk0Onz668vw+ZNqtrNsB/7W1fetF3rdTbvGsRRRFFW7oZ5EHFse48fGFn7AwDMAADMAADMAADMAADA8fAPsP2NwLb5Gmz5ODJ02XchKn89YAN1FfqMxVH1YeN1qFhI8caMVSvnzDlPZX3uX4I6Cb7+K997Uyv+a7RulomPKIoomjDN4EyYBFm4B7OsD22hwEYgAEYgAEYgAEYgIHOM6Ci2KSpR3RVEOqm+NTvaanv1IeN1BXtITplxhyZMn02fo8F8G4La5ZL/Ne6ONpLvmuknjYSFlEUUbShm0AjcBG28w9i2BgbwwAMwAAMwAAMwAAMwED3GTBD5qfNQhjrgZ6hVkTL22qP0UaG0o+fdJgRUvPiquqxgRLW1N74rzVhtJd816n7HKIooiiiKAzAAAzAAAzAAAzAAAzAAAzAQAMMaA9Dhsy3JsgMBhHRDMVuoLeo9hJlyLzv94EU1vCf74tG61Qv+a7vRdGpM+bI2pvvkNvu2VL3T8N1yiDE2/2vrNgcm8MADMAADMAADMAADMAADPQSA7rgS6MCBOFbE3A6ZT/1ZVn2BlJE6lT5W413oG2C/5qvV73ku7J1tNFwg6an6LU3f0Zuvn2TfOBDH5FFSz5U+Hfp6uuMaNpoQQnPQ1bjDMyUfRZtk7n3iSx9VOTsR/fI5CN7yY7rZMpmzbfInLO7k++xG6L0zt7wSOkHi8b90p2ylMrX2buMfc/evE2GN9CzwI27cjZr0k6uzdgfRHUAf1ajrcPP+BkGYAAGMgy0S0w4Zt4pcvmam+TmO+41f7qvx1oVqri+vFCkviz7fNkuv1v/LD33AtE/+7sXt+22SaM2GEj/NZrXwRa+l3xXto42Gm7QiKLaQ1TF0HoF0DAatl447/ycbXKSEbViwSbeX/LgXjn6kk2yT1/d5FMhbMm6Mna6QiZvjOxy0uXrGrPrQNntT06S8z6zRW5YcVSQ30dkTujnFsSqdy/ZJad78e2VKXN6SYxIWciIoofeKRPX7pEFD1rBN2Jg8cZdcnALZeykwDf88r2RAGl8skcmT6vliyVy8Ked+t4pkRZRNKiDtXzCOe++NFDtJ+nCLAzAAAzAAAy0hYF2iAkqhum77dXrPiXnrrzM/Om+Hut1oWywiT+18jNQotphRxxtfK3+1v1aeRzM59pRF1opX7f8N/PoeXL1DZ8yHy/OWXlpxl9ah/XjhobRsK2UqVvX9pLvOvUuVSlR1BP9Ri6TESt3y+JHRU5f/4i8uysPBxfJ2Gv2yKLrO9mLLhXClj66Ww4eV0eIWPx6Ivx59umKPerkrSAPf7pwndx2z62yeEJ4fTtF0SVy8O2RqLZ00zYZMTJMqxd+pyx4oujc/I8E2qO01V6l3RNFRRatvqX4gXbaszLfFbQRRYttVVDPOnXTId5eaDvII5zCAAzAAAzAQD0GWhUTtDeoimHzTnl/Rjw55bSzzTl6jJbv7dmKiNQtUS3M48pLVieiqO6H53vld6t1odVydst/199yl2z4zL1i/ebWXVtnL161VjScCqOtlqsb1/eS7+q1yc2er64oaoSAmTLi6rfNsOiJU7tx449Fqk4JNKZMcRoPvG0E3/mXXFFDDIl7023ea3rS9oYoOlUW37BFbrvqA/KnuWJOKgS2Vp52xdMNrorSSMuQiqK3yLT74h6UD+6WySddIe8eFl9/0C0ydvVumb6kKL76x7sliprpDL7wuoy2eQ9YGLFa67XI4geibceG89NTtEb7Up+XZm9cXIdtYQAGYAAGYAAGBpqBVsWEK665yfQQLRI+tMeohik6z/H2CabdEtVcn9leoiqwWZGtV3uLtloXXLs0s98t/+lHjI9ccqXp1Rv25ra9vtWH1p/NlKXb1/SS7zrV5ldcFB0uQ2JRIxWNOvmAEYtU3RBFN78s03T4cA3haEjcm27u1a/3jig642K54Z775LzjivyUCoGIoqktEr6nPivz4h6URy+b2XZBqyui6ObdZp5XFT1nnZ5Xhk0y6wsq/O6WuXFvX0TRovrC8U7dXIkXtmAABmAABmCgvxloVUzQHme1hsjbobg1RZKVW+X513bK9he2yjkTHJFww9Oy/bWn5Tr3WMn9c+7fbuL7qAk/W8773HPy/KtxGiu/KM+8+qpsvtRJq2S8mXKccJs89oOd8sStAz9/ardEtUlTj5Cj33uKnHzaWWYeWTts3gqkOp+sntMwGjZjs1xbz5azbn1anvnBTtmuLLy6Q564a1nJa9vgxwlTpZW6MOWcu+Wxb8d5f227bFzeeJ665T+tk+oz/dP664rYuq/H7HkNW+S/cx54NfKV+sv8vSqbVzZY7rjuP7ahwesChpr1XaYMYRsUpFNki0Z816l7KqLost2mR9msxc5Ne9gaGb96t8x35ltc+uBembVsTSAiRcO1VXzbZ8GzcvTGt+MFeURO37hLJi9YloT350OMe+qFC+CMXCPj43ke7VDm0zfvkSMy6abi6j4LtsncB9xhz/E5nUvz9NdlyaMic5cvSfKRgjRTRq+LRdN4OLUvIs6UfZe9LHM3vm3iMPl5+G2Zv+5x2dfrnZfmZciMx+WIO/cm4Zfcl5f34YmtNG8ar9p2zrkX5eTR8UncE3DOxffJbbdeLIcFPQPTcqVCoFeeZF5ZnRd0mYy6fLcsMsKZyNIH9sj00+v7yi6mk/hSbTzjKTna2t/0sJwp+7zvKWOHxXH8Wkadq3P8DF/AcwXEfRa8LPNM+L0yxS7mNGyN6bmp834m9t/wrIw61I/HlD2wvfI3fkZqi0QUHZZOMbDomk2lbD4kh8tkPl6PheHilinxycg1MvbyXTL/gbR+qM/nXh7M5+v6aO4aOXhDFH7p+mi6Cdfuoy/ZE7Hz6cezU1/E3C/d8IiML1z4SRfRiuqs5fDsh9+WBXe+LuOPPCHHLstk1CW7TJtgmP1CnP+8nqJ5x2JerX1cNu2xjHBb1v85/tF2Y/L7svUn8Ulh/eEabAQDMAADMAADMAADZRhoVkyw4oCKJ7VEUdvzzIbP3VpR9LWd8uTnlqciTGlRdJlc9+Xt8sITtyXXeqLoBz4vT762Qx5bd2x0viVR9CrZ+Oyr8sz9F0dxVUgU1WHWOtekFczs1hXOXMHNntdr6k2hMOWTT8oLr70qW65eJlMmTJXp522SLRtjG1/6RXnype2ysVHBraSgZZlsui7EDDzzl1fJMdObF/caEdaazmtsE9sL1BVErR2suK1h7LG8bSQoNvfRIolvMIiiTQqhSRliQb1Me9vJMBUXRZdEIs6DwTDcOc/K0Ru2ydjjY6Fs2EUy6uq9svTRt2XOEldgjASmxZv2yuL7dsn4Y+JzY9bJxE/rsN29MmWuK2A5AmIoSkx4ROY8ILLUjWfkFTLqot1mzk9XRBkyNI5n4x45fuPLgUgWnzMLDNlwz8q+YXrjHpe5j8bzMsZiVJjG5A27ZMqZt8i7zXyaKiK9bHqU+nOw2vT2ykkP7JEpi+Ph+iOvkNHWZmenguOQeA7TeZfdGQ3bHrZE9l28TY5YWWKRpxEfkI9/dotcvXRqjmhlH97i/Dwq4pXHEdyO3qC+TIVpIziqr+IFhhLxLQwTL9qUnHd6LGockfCYio5RvE46X9glY505XhMx7PbdxhdePoatkymbnGvdvDy4S8a686kWzRH64B6Zl1l9fqaMvj4eUq5i7e0vy9hcETC2p3JpRVk3D/H+6Xc+5a26npTJ6Q2d2Cvn+iIfzb09zaMVC5N41A/jnoptFi64lC6wpL1I8/IzZOhM0biyDFh775UjFrv1fJmM3eDkxynHvLsjcdYK5qaxbocoWtb/NcIlQnhY9/ldo/2w7QjbTj54EDd8wQAMwAAM9AMDrYor7RRFn3x2m2z/wXOyflEsLJUWRS+WzS/slO1fTUVRV7AYZ4SXJnqx5Ypqt8ljr+2U5x+IBbvcMM0LY16+G4y706Ka24vw/UuXez0Mw3xrWA2jfIS9EcOw+tsIbNu/Ipflldlw0C7/Ffum2bpwxubtsv35L8oZeXlv4Fin/efa3fqmliiq84u614T7iKIpS434rlP3jeqKoirard4jSx/dK9OdHp2FhrY97G593HmhtgLYbjnYFalUdBi2SWapmHT3s87q9rFg5whGUXqxOPuF3TI+jGdoOu9putq2Ff5CQUgfsOJzsYD37uW7jZg7fb4rzg43opAOLzb5zhVF8x7WrMi0W8YnPQRtXt6WMI0hQ6+QiXfHvVFjIWbsehWedsnYJoSZcUtvlds+u05OHJGXN3vM5qdIFBU5+8HdMtEI2DPl3fPTRYcWX32n49uCeIZa20UCmlmEaYxr20dk+t2vy8Rkrs6Z8u4Zj8vRca/RueelYlsi2OliXxsel32TxZxS4dITyadtkemxUJouMnSFTN4Y5+UBW67hMiQR5qNznkA27CIZe70vCi7ZtCunh2TsPxUB1Wb2I0G8SNnpsTjo9kROyuQwPvySXXL05Y/IiIPiHpgjl8mo1fFK8g+8LCMsC4lwrXneK9Pmp7bSeuKJokNT8dMTVu0CS/dF8eblxwrzKkKfdPUW2df4T/2U2vfs+HpTP+Oepxp+/uotsZ9OkH0XRx8JjJgd1zcTvmVRtAH/L456g5/96B6ZYj/KqH/O3SXTWpgbNmqXbJ1iiz1gAAZgAAZgAAZgIGSgWSHICiTtFEUf2xCJmy98eZ3pLTguEEVPWr1VnnjJDq9+VZ54YK2cNCEWRJMhvFHPteu+aofKx0Pz7XkVTj2RLRi2/dJXZNWEqbLorufkBR1ur9e9+qo88bnLZcqESBCNhgr78SfDfxetlc1fT4cVP//1rXKZEXnjfD7zFdnyfBzvC0/KGnPOGd6v6T3/RTmrATHN+qIRYaZZv+tq5Cpyau/PWiuT6zkNo2FrhbN5H6e9d1/bKS88s1VWnTE7FeOMr+zw7FiM/sAmeWK7c+zrn5fztIdm3Ovwya8+baZKSHxS0pbN2eQUufWZnfL8Y1+Uh1SYN2WI81MyXWuDbvjPpmV7g9revHnbelMfFIqi01fK+ie2p0Prv/20rD8n8mlUL5+Tx7QOaA9Nt6fo9Mtl87d3ygtfvU1OasJ2tmyNbKMyxCy99JxsXr0kZa+BPDTiu7ANbtfvQSWKrr99U6ZLeR5keqwhA3hiSyQSqZCxaP3jMtwTtGrd7H2xMUo/FkU9oTSNY/T1mlaOgOgIRiaeuNebL8ql8QyxouVldvh+Xl5s+ODcsC1mfsWl7jDj+NiSdbEdbfyX1++tGQlTaa/KUIQN/bLPBdqTbq9MmxvlL1oA522Zs6zccPk0vqNk2a1b5JaLT6rj+wIx02HAn4dypoy/NWbC80tBPK449+gemZgRsWM/HLRGRp35uEy8/HWZs263LHg4SsMV8BLB7oHXZVQiMqugbsX2t2VaOAQ6FNyOtKJujigd+1lZ90RRI0JGw/xnbRKnx+Tbcvwlzoruic1y4h4aT7+gwujtTyVD2JMyebbUMi2RfY7fIuPPfVamr9slR99th9I7AnmSnsjxK53exbFo6ouiw2WIFSsdAdMusGQXGMvmxwr7Iktvf8r5YBH7zYqqj2qZo2ORkJ8fft94GH9be4o24v/5L5sF1c5+9G2Zu9K2D3FZrNjMtk6bgb3SdhZbYAsYgAEYgAEYKMtAc0JQ1ENKh1PrO22tHmV2NWt3heuMaOEII1NWfUWef+1V2fzR2bF4GQ/PNaLZDnly48UyXYdXX7rViGhP3KZzeWZ7iiaiqAobYU9RRxSNhm3r/JUa72xZdOttRhRN8zhbFm3c5sxtGvQUdfKu+dioos4zn5dz5kyVcXOuMiLP9q/fLcfYPP7gaVl/xmyZcsYmefK1nfLM/Stl3HIVBHfIQ5+Mh/c3IMak+YzmxOyG31Xk1AW0ioRRK4hqmLyeiG6e3X0VvZ+Mxc7nH/vzVBhz/OWG1/0pZ+jUCDvlsfXWzzvlhSfvlkVNDGNvri7E7CV+vVue+MFOef6hqxoW1xoR1prLa9qzUW2noqfWT53iQlea1z/dr9cL2PrAExRVzDfD0E+R657YIdtf+Eokbk9fJuu/ukO2v/QV0fl9Tb3UaRIutVNZRB8tHtuwRK7TcN/eGgncDdaBlu0xZ3mUz9eek/Un+Hay5a21bcR3Zetoo+EGlSh68+2bZNGSD9X8u3T1deYG0lBBY7ElEaRGXhH3lHtb5rhDu13xYNqdMl4FrVv3yAJdyd3OD+n2CBsaiVcLVuWLiYUCYigYxflzexH65YvSsXMrJkJkrhgbiKKJiJf2KrW9RxPBLbSPtYMO3z93mxyxbpfM2/y2LE7mWM0RRXPzkrOQ1YQtckQ8pFvn8jxi5Z1OD8kaD2HHXSm33HO3LJtRI4zJd4GYGZfRTGkQD5O3Nk7ENs8vBfEk9hTxhDBrs2HrZOLtVvBLBXjTmzAY0p8V7OKyJXnNXm/jSXrbWpFUF9SyeUi2aRmyoqi140x59zGPy6zYJxr/3PNiQbJm3MNlSDwfr2uHvDLtc/rriSic5t+WLU8Udfmy+Qx7iurxW2TafVE8kdBtF1jaIxOnRtdl85PaZN4FecL8OpnmTTlQJ7y1kdsu5B2LfWLzk7RFQ3PmYW3E/0OXydj1Dm8Pvy3z1jbysSe1r60PbLEJDMAADMAADMAADNRnoFkxQQUVFcVU+KolFug5K6AV9jzzhMXZsurLO2T7s5+XM4wYFomiZ+nCSd7w6qiHXjRkvnlR1Ka1KBBhdOGcLV/fLi9s3xH3eLNzJ9YQRWNxc8uqVFQ55g4rqIZ5jH5rr9hx09fJQyoGbt8uD921Vs5QQTXIT5nfjQgzzfrd5kPnCC0SxK0QXm8eURuXt51+ipx329Nm4a1EWAxFUe2J+NBz8sz2HUlvXtMr1OOocRs2Z5PYj4+sTXxmhL+iqRxq+LWb/vNsPmGqXHHNTeYvPF7rd35P0ah+PHmHs/DYqq+Y+WJ1ESbvY4XaIvbZ89/eLtt/8LRcZ6fOqGGnvDw157uAEZMX/TgRHC+Rl0Z816n70qASRVUQrVdQDdNsT1FXiEiHdodD1mfK8Mt0WL3Igk+/LJPP3SIjpl4k+4yJxRFX/IhFUT/e9AYaiW2pQJOImZ74NlxsT9Di1cALRNEwHiO85OTTnT80FpKW3u3MM5onis7dJvMfFlm6ebdMv+hxGX38RbLPpCXxEGZXtIrTy81LKop6C1kN1aHHz8qsO2Mx5+E9wdyrqQ0jHsbIiVdtkdtuOFfGJYJfGMb+TkUszy+J0OTmPbqmfaKoM+z5gd0y7dw7ZbhhJ+2d6ObJCmR2zsyE/SSvVjjM28ZiohXg3GHoiY1SWxSLorHdhq2RKfEw/LM3bYvmoLVx5wquJUXRaelq9wvWPRtxNHVZwnwi7mqek3JnfaS2Sfzk1EHbU1MXVbI9R91e0VkbpzZpVBTN/WhhbeTkaUjeMeOTtFdyTQ4SO+T53R5zxOShdnEvRxzNzGds6wfbpJ4l9QSbYBMYgAEYgAEYgIHGGWhWTLALtZQZGq1h9N23cOGWUMxaFPW2e/IZKyhOlUJR1CyuFAqOgfhi4nfmpHREtuue2Cnbn9kkx3jCxzp5SHv7PbJOzvrAYpnuiLPj4iH0yZyibt6bEEWTeVDnLJfL7vqKPKnTA2x/UlY12dOxbB1o1u9WkLK9hK3/tUeo7RVqBdOavYM9e2dFqMse0d6GW+UcDef4S9Nf9VjcE3H5MnnvnEiEGzhRNBbnnUW+ek0U1Y8VV9/wKfNX+OEix1+NiaLbZePyoF5qnHH9eUbnE35te9RDPCcty13RtlWeTbwf1V6rO8T9qFGUXngcUdR5KdUeoGtvvsOIotrwu3/aQM086r2y6IxlcsmV17ZJFE1FGG/hoHjoajK0PMljLKa44kcsiqY9ON2baSyAeIJSHEcoIJYcPp+KOAXxmLzm5TNdaX7skmgOQm8IeSzCpEJNLOJp3t1h3Ykw5YpWcXpWSEvsFdli+CqdO9IVhl0bDZchRz4lc7UXrmfXIMyEc+Xqe7bIxxeOqSuaJ8Jz0CuzluCWiG2eX+JyhfEkNsjLc3qNL3Cnx1Mb5/QQtLYb9rgcbebrdO0c2MSGTYZPpz2Bkxv6BLsYUd7w+Wx8I66OFxOyvpi7TRaYfLQwfL5IIDx7Vzxs3xH3EjEwv9yJn2z+1AbJgku7Ze7tkWDosp0VRVNhstzw+SVycBxvtk2w8/0GLNgye1NnqL3vlOkPRHmsyUEj/rcc2O3IW2TK3bFw6s1nnPV3wom9lm2J9gU7wg0MwAAMwAAMwEDEQLNigr7nqpCy9NzzS/1pWL0mFBPMb1dYjAWRMz6nIonO9WeHz0eChT98foc8tl57pMXC1DObkiHXXo+0GqLoMbc9J9tfe1UeWr/cDJ8/6467ZVUsfD65cZlMscN/bT4mrJUt23fKC4+sjeY99fIe9xoMhs+/8MRt6fD5pAdhVshVW0w3q7BHAlKurWoIRo0IM8363eZJh1mrP1VEO2flpYnuoTzoMT2nYWz4ettzNj4pmz+pPpgqU957lWx5Yae88OU/j2xsehrukC2rnXkpn/m8LJqu0x08LS/o8PkNqcBm9mvYqSgvzdokYmib3OpMixBN65AVe4vS1uPd9J+bD+3Jrf7SP62n7rla+/mi6CnRMPhw+Py3v2gEbq9eqo+S+hMPn2+yt2izvrvu/niY/5yL5davR8P8L+vwB4lO3XsGTU/RPx0xxgifWlALlt3qMR1ab39fe/NnGnt5zYh+9mHGihpvy6zF8WI58RyNrmhhjG/nGnQFmVgUPTtHPBwS95A7/fpNTl5jcSwjVsSLxhQstJQIi9NsvuN4PBEvOOflc7hofubrgj66+JMzB6MpW8Y+a6KVz8M4htpFfVzRygp+OaJcvNiU1ys1R3gxwpUnHtuyRNvDVtwtt33mSpnzJ/5xk/dMfDY/RQstuXmP4kvENs+eBfGUFEWThZN0Qa+r00WNXK6ygp0tX7qIkFlo6fjz5N1GnJ4p7550i4xdvVum20V0nHlDl256WUZPixczihdlsiusJz1F5zwrR2/YJuNPWiP72Pl0hy3xFg1Ke1qmNqi10NKcs9MFkTJlSgRCu3CSDtd/SuYmK9q3KIo6Cy6ZofkB25n8DB0u7z57lywxYm+NhZYc9m1v1GjeznWRL4YtkeErd8fzeQaiaCLuavybZB/1XTJlRwlR1ClTXf8veVmOX/1IOjfyyGUydm0sbhd8qMivN5Y9ttgHBmAABmAABmAABsow0KyYYEUx+25bZlsokiXCiCsixaJhIkbOlkXrnpRnfhAvivLqdnniLl38KLrmpA2ROGZFVE98qSGKjptwrHx083NmYR4jwn57q3x0wmw5T4frm0WWtsvGv1Th1A6fd859+4tyVpD3KWf8uTz0bTvkfqc88+SmeI7EUAR1fi//vDyTWdTJtUW5/W6KahevWmt0DZ1CQX2vvYBt72F7TMPUEtXcc4vWO759baekC1RNlXHTL5eN8eJUOgfrlI9+MbHXM/dvlScGWBQdN2GJrHnM8rJDnnxIFwAr5zPXBt30n03X9urVeUQbnfYgXxSN5tLd6C429uxX4gXFinuKGiE7XmipmXlFm23HVj2ULor2grMglLVP2W0jvivTLjcTZtCIom7mtXFYfe0G86f77rmm9jOin3OjH/eIzFGB5kHbKzKep/DBXTLeCEzRnItzNr8tp2d6NEbD2pc8+LYsvnNbLEjF4XWuwwd3yVhvIR67OM1umXiou2L5cBkyIcqHt9q4zul50W45/dFw7tNYrPJEPFum+Jwj6kQ2S4W2eRdc4ds0xz7JgkjnxmHHrJPx6/eaeUX9eTnj9NQG9+2S8XYF7GlbZMqdKs7s9YbGj71mt0xZvEbebVZaj1Z/n/cFkUXeyu+2LMNlyJ+cJOd9ZovcsOIoP88ZMVSvifzhzVtp7ZAIVZ0URdPh814e7ntZpseLOZUTRVXEftwRDuOef7GQp3EnIufQ4bLvymi6By9Ns6L9tmT+1iR8YodsnOb6B/fIRHfO1XgahTBu+3vB9Vu8xYoyIqQzfN5eo9u5V78uJ5nytCqKOgsu6eJpq52FovLm6zTcBPNwOnY1eVQbzHXq57BNckTcw9Mtg2F71W4xxyxnJv4rZKLtrenG/eDrMqssB2X9n4jOWX8evzKo57l1xqlrnC/RxmCvpu7BsAVbMAADMAADfchAs2JCWbGAcI2LY83arBFhplW/6xyUVgy1w+Y137pvxVEN02xZBuK6Vm3Sap676T+bV/WX+vHyNTeZP91vZAi9jWegt73ku069hwxKUfQDH/qIaM9R/dP9lgufI/q5ce5z3m4zlDcR5mY8LrM2pvPznb5xl0w8/haZoguweOJHJMKddPktMmLlLplve789/LbM3/CsjPIE0fhlWhcaclb8nnW685I94RaZuG5vuqiTijx3vi4Tjw9X4m5GFI3Fo7xerXn2GbZGxq/bK6fHq6YvfXCvHL3yFhlxuQ6Hd4VFm5fHZZ8lL8u8+9LVzDXv42c44tLQ4TLikj2ywNrpUZElD+6VWStv8YQ11zd/unCd3HbPrbI4z5aZh6uBFkV1lXXfbqdvfF3GHtrgnKK2XIdukskbfB5O3xwtTmV6H9pwQ2fKvstel3lWuFP+1j0u+w6LfeOKqMPWyNjLo4WzrG9vwnkqAAAgAElEQVRV1Dv9gb0yd/XjMtyI1Q6TmkZePjbukilnZlc7z4iiQ4fLPgu2ydyYi6Vf2CtzdYX7RJxtgyiaLLiU7a2cl5+IrxNk+LmvmwXEbG9azdu8tU/JiPCDhdpgQuQL28N0yX27ZcqCZVI4f+iETTLl03uTHqlNcZBn99D/0x6RI+5M66n6cvHGXTJ5Ud4iUoFfE3447rY57MMDDMAADMAADMBAGQbaKSbo6tUqquif7g+0UFK19LspqmkPQ1cMDW2t55paaKmJHpZh2s3+bmddaCYP3fSfmz/tIWpXn9d991yv7PeS78q0y82EGZSiaDMFGZhrrCiav/r8wOSp2w8xVhR9pHXxOiPSTJXFN2yR2676gPxp5ly3y0l61eAZP+NnGIABGIABGIABGICB+gy0U0zQhXWsuNLKIju9IsQMtnwOlKg22OzQbH7aWReayQP+a75XdS/5rlP3JUTRlsQ2RNFkYaPcofz1HyZqgj3jYrnhnvvkvONajKclH5N2TR9h2w58DIA5mIMBGIABGIABGICBwc7AtJnH9GTPsGZEp36/Rn1ZlreBFpEGoy8G2ib4r3dF0UZ8V7aONhoOUbQlUQdRtKOiaEu+4UGy0caA8DADAzAAAzAAAzAAAzAAA+UYmHz4kXLw5OkIowM4bLsdAqH6UH1Zlvsp02fLhCnvwe+O3wdSFMV/zQuiWn96yXdl62ij4RBFWxLeEEURRcs9NDVaMQmPXWEABmAABmAABmAABmBg8DJwwIGTZPK0WYhjjjjWDpGy23GoD9WXZeva+EnTjIja7XwO5vQGUljDf70rijbqu7J1tNFwiKKIoqVvAPlwdXJO0cH7EJRvC/KLXWAABmAABmAABmAABmCgKgxoD8NeXHF6MAts3cyb+q6RXqLK9b4jxsih02eL9hjtZl4Hc1oDJYqqD/Bfb4qizdS9Tt1XEEVbEkV54OkUmMQLWzAAAzAAAzAAAzAAAzAAA4OZgX2G7W9EGe3xxFD61sSZbop+Zsj1tFnGd+rDRhkbNnKsTJkxx1zPUPruD8F2/ae+wH/N171uC9qu75qpe436ukx4RFFE0YYbkTJgEYYHWBiAARiAARiAARiAARiAgSowYIbSH36k6KIhKjLwN3htoD7S3oWNDJnPY1h7jI6fdJgRR6vu70Omzeoa8/ivvXWrF32XVx9bOYYoiiiKKAoDMAADMAADMAADMAADMAADMAADMAADMAADlWIAURTgKwV8K18QuJaeDjAAAzAAAzAAAzAAAzAAAzAAAzAAAzDQHwwgiiKKIorCAAzAAAzAAAzAAAzAAAzAAAzAAAzAAAzAQKUYQBQF+EoBz9ec/viagx/xIwzAAAzAAAzAAAzAAAzAAAzAAAzAQCsMIIoiiiKKwgAMwAAMwAAMwAAMwAAMwAAMwAAMwAAMwEClGEAUBfhKAd/KFwSu5QsUDMAADMAADMAADMAADMAADMAADMAADPQHA4iiiKKIojAAAzAAAzAAAzAAAzAAAzAAAzAAAzAAAzBQKQYQRQG+UsDzNac/vubgR/wIAzAAAzAAAzAAAzAAAzAAAzAAAzDQCgOIooiiiKIwAAMwAAMwAAMwAAMwAAMwAAMwAAMwAAMwUCkGEEUBvlLAt/IFgWv5AgUDMAADMAADMAADMAADMAADMAADMAAD/cEAoiiiKKIoDMAADMAADMAADMAADMAADMAADMAADMAADFSKAURRgK8U8HzN6Y+vOfgRP8IADMAADMAADMAADMAADMAADMAADLTCAKIooiiiKAzAAAzAAAzAAAzAAAzAAAzAAAzAAAzAAAxUigFEUYCvFPCtfEHgWr5AwQAMwAAMwAAMwAAMwAAMwAAMwAAMwEB/MIAoiiiKKAoDMAADMAADMAADMAADMAADMAADMAADMAADlWIAURTgKwU8X3P642sOfsSPMAADMAADMAADMAADMAADMAADMAADrTCAKIooiigKAzAAAzAAAzAAAzAAAzAAAzAAAzAAAzAAA5ViAFEU4CsFfCtfELiWL1AwAAMwAAMwAAMwAAMwAAMwAAMwAAMw0B8MIIoiiiKKwgAMwAAMwAAMwAAMwAAMwAAMwAAMwAAMwEClGEAUBfhKAc/XnP74moMf8SMMwAAMwAAMwAAMwAAMwAAMwAAMwEArDCCKIooiisIADMAADMAADMAADMAADMAADMAADMAADMBApRhAFAX4SgHfyhcEruULFAzAAAzAAAzAAAzAAAzAAAzAAAzAAAz0BwOIooiiiKIwAAMwAAMwAAMwAAMwAAMwAAMwAAMwAAMwUCkGEEUBvlLA8zWnP77m4Ef8CAMwAAMwAAMwAAMwAAMwAAMwAAMw0AoDiKKIooiiMAADMAADMAADMAADMAADMAADMAADMAADMFApBhBFAb5SwLfyBYFr+QIFAzAAAzAAAzAAAzAAAzAAAzAAAzAAA/3BAKIooiiiKAzAAAzAAAzAAAzAAAzAAAzAAAzAAAzAAAxUigFEUYCvFPB8zemPrzn4ET/CAAzAAAzAAAzAAAzAAAzAAAzAAAy0wgCiKKIooigMwAAMwAAMwAAMwAAMwAAMwAAMwAAMwAAMVIoBRFGArxTwrXxB4Fq+QMEADMAADMAADMAADMAADMAADMAADMBAfzCAKIooiigKAzAAAzAAAzAAAzAAAzAAAzAAAzAAAzAAA5ViAFEU4CsFfDu+5gwfNU5Gj58s4ydNkwmHzjB/uq/H9Fw70iCO/vjqhB/xIwzAAAzAAAzAAAzAAAzAAAzAAAwMTgYQRRFFEfFKMqCCpxFCp8yQCTX+NAzi6OBs8LgR4RcYgAEYgAEYgAEYgAEYgAEYgAEYgAFlAFG0pCBGhRkuYw46VI593yJZeu4FcuHlnzR/uq/H9Fw/22j/sRNrCqF5Iqle02s26Xc/9po/BjK/Va7vA2l3N+25Jywy7ezHPnGjNPKn7fPsY0/sufbHLTv7PKRqG/S+BWfIeRetNn+6zz0KLmgbYAAGYAAGYAAGYKCdDCCKIoqWenHWF2z7Ur703I/KCQuWmD/d1+P6En7ksfNLxdVOgLsRVzOCqBVJB6MwaoWWcz5ymfeCOePI44wvu2FT0hjcN7Iq1/fBxOaFl68VbWO1zjbyp9eokDSYytKPeVH/2Puiuz3l/R+UEaMPkj8ZPlrev3SF8YV7XvfxT34beOj02aL202cKa7P3n7VC9M/+1nMa5tDDZ8N4l55h9XlBnxH6sR5Tpvy6iF2wCwzAAAzAQFUYQBTt0gNlLwNlX0Z0qy95YVnMi1/8wqIvgOH5Xv6tw+CtwNnsdjANpdcXTn2xVF+ed/Fq0+tX/WMFUT2n4ov2/tWX+l72HXlv7kZe5fo+2Jix9bHRfGkd1msbvY7wjdUZtXEoWi94/zJRsVSFOxWSNIzWKVfUth8Tsbdvb7Wd2kvtp/t6v3KfOXRf71XWxhpW97Gjb8dO2ENtrQx3Im7i7Lz/sDE2hgEYgAEYgIFiBvpOFF3/qbvl0cefyjy4Pf/Sq3LTp+7KHK8Lx4QPyScf/u/y3Ms7Zftr0d+272yVC5sVU8/6gjz32k557t4PNZ6XZtNs4TrbY6xMDwErrNUdtjnlfFl7zxa5Tf9uPl8ObiF/df3XYtxl5hCtJ5ZqHJ3OZ9n4rT9V8NSXSRVG9Vrt+asvPe6fvtQ3JoxOl6U3x35txr/z1zo8LJSL77lDlk4pbrzKlplw5W1o+WhrfQ/q4Nwr2lDvTRvS/3y4QoQKRG7vQq2zriDk9uQqJ4q2WF8Dv5p6VhG/2DbF9Y89plsd4m3b0rzh3qX8o+3hPWtlbmBnU3+uWOjfU4zdo7Deea9N9duBg8+5w2lv/XNuWbq5rzZzma6XtobVa+qFM+eNPZ37U2jDwM6l4mzwmsFo87LlLGK93vXqI22baoZzfdOSX/S5YYtcPL8kzzXqR838Nuh34irpD+xau55gH+wDAzAAAx1joK9EURVEVbi8+roNGYPpMT3XkDB69I3yyPd2yvYXn5JPnnuMjFEQJ5wmFz5wv3ysWSh7SBS1L3bayyV8qAtfyO15DatiWt6LoA1jts5LnHe8Wbt24LqavUQPmyPHnnaxrFzzKbnxzjvkz95be/GlwdJbVEVOd8in+tHa333BPHjyDPOyWVfg9uweiSzuC0lDApj3gtIfoqiWf+050xMbW1sPxm2t+l6U39L13XKi9f7mtXLxzY0JmkZMaOlluTdfylwhIhTStLeh/lnf1Aprw/jbFuur9WkHtr3ib9fmvm2Hmw9O9qNTeC70ZXg++p3XBkaiT0Ys9dpOh/Wi4x3wWX4ZnLyUSLPInkXPG+XsOFzyxMi55wz8B9le4Vx9W+SbWn63zxTuc0Zh+IFgtW6aeXWwMaYLy1uiPnAttoYBGIABGICB7jDQN6KoFUR1WwSPDVNOGJ0n676+U7a//JSsPrqNzughUdS+cLjD16xtwxdye1zDlnp47gFRdPT4ycVD5997may94w5Zve4eue2eu+qKohqXtdFAb62P8l5U3GOl/Og92GdFliFD9aUi29sp1wbeC0p/vIz0kihaVN9V+CzqMWxZ0mtzferxEYkTKhI3KgY0Gr5MXnohjFsHrX9svsM2uFZYe42/bbG+Br71427tntkr/nZtHpY/9I97PvSley7dj/zjfVQxbeQdsjboRV/Yznhtams+SfPVuXiK7Flky3J2HC6F9ukgw2Xs1Suca1mKfKPPDLoAVlheK4jqNjyX+3sgWK2bZn88h+Tae4DZJ0+da0exLbaFARiAgcYZ6AtR1IqdtQRRC4cNW1cYLSlejlh8qzz4zCvJ0PrtL35TPnvRvOQhUM8/8q146P2rr8iXt34zGD4/Xk654Sn5hh2e//J35cFPnCIjBsEDS9GLiNqy2XPWD0NCUdT8Toe22d6G5qXBDsVOxLWcB9XMw230QmmG6Ov1bi+zgrSSvMW2LzV0/sybSomig2kIvZaz6AXHtUGZMG74IUNzRBbHz9kXwCC858McHyd1Ir7unHgahmQKhho+Hxr3FrIs3Xy+LHV6cdbNm6at+bPX54gSyTmTnyAvSXgtV8q5J3gk5Wu8Iff90Nz1RXVaOdDe3zrPbF46Rddlw6pN4h6iDhdeuKBuqn1U0EhsmwyNDPkosndkC+tfNy7P9kG6tv3x8jYA/nHrYCgAhXavFTa/HJHNvLJ6foltfE7MvW1DvXoQtK3mI4jbCzjwi43D2jKwe7G/I2Er4SCp882xnm+PxuNybR7GGfrHPR/60j3n7ltu7TH9bW2U8uvXBe8ar021Now/UgXnbBoDuS2yZ5EtG7JjTWbqcBowb+qMV1f8diayYU79cWzutkXK9cXzc+pjfE9Nfd04o+3yZ55vrPCp53ThK5uWPV5aELX318RH1hZqQ9v+u+1KcD9Png3tdamdTH2wcVyx0BfIY3/M1akknDCmHEHblEz1FBz32k/brrFNWLBMsE2ZxBbYAgZgAAYGHwM9L4pecsUaI0iWEUQtgFYY1Wvtscz22qdMvI9cW8NpOrz+5Z2y7cnPyGkToqH1n3z8h7L9te/KHWcNlyEHXCUPqtj5ra1y4bzxMmTCh2Tdk3o+nVP0yGufkm2v/VAeuUGF0EPknPu+K9tfe0U+q9cP8IOVDrN2ew66+Sl6SdEweo2KKG74zL73QhE+yC6UuTonlBdGRamF8fxq/kugidt52bDiXPoi4cbv7quN47RybD3h0NpD4s1coiVFUY0rY4OcNLsVJu8FJ0y7TBj/mtC28Ut4LIR4L+um7EF4z4c5Pk7sFV2XvKQ4ceX7PGf4pKZ1Tzq0vVTekhevWCC1L3BevofLwfMXJvPkhj2U/N/TZe78wTO0vqi+Kwf2T+e01KkVXL+Xqu/qI63P1maFArr74rtQlsZTD2T94/IR8+AKbsa/aQ9l+2KcvMCa8zatgMMabYJb7m7su3UwFIBUcHBFh1ph8/Maltuvr1Ev70D09Oym7WcUR1rvsn5JzwXpmfbd+iBqiwv9XaOO5ZetO/dP1+ZhPmrdI0Nfhtcmv717oNovtpfaw/LuhYnbOnvOsZsR4ZL6F7RhSdvaHbsl5QvSLbJnkS1L23GoFYTTNj/NQ8hwwKlhPm1LtB1bmvd8Yj+8WdubDwQ59cfxQdiuhb8zz0CBvdIydN5voW9c4dPuqzBq9922qVQ+HVZtu+JOE+HxGzCfPhv6vjP2dOxtP2wmbZLxrcOEidedk9Rtz9TGfvy1nh9LlXkA/Un+Ol9nsDE2hgEYgIHeYaBvRNG6PT+dh492iaKn3JMjYM7/nHz1tZ2y7S8/JkOuscLq+FREWOYutHSm3KG9SJ+9X06w+Yuv/8Y9Z6bX2HNd3haJJFrB9YG36KE3EknW1s6/91AbvpTEFciEcV+abcUKH1SDFzwv7vgaffg1LysFaeXYFlG00dVmI9smPS6050Xyghi8rBt7By8Y3ktRjo8THwXX6fESPk8EsTgeV6DMvIwGLz9u2OgGp3lwBApXME3yGb2IJy9g9sXcsclgulkW1Xd9GbZ/Okdivihap77HZXdtEdo8a2Nb3/PYcfjI833gvzAt/+U24snN22DxiytE1BOAGgmbMmx7YcVbj03Hxjl1JrFRUb3N80vSDmfrRhJfRlyK2/eCOuZe1+191+Zh2kVCnoar58s0Lqetc+3p7Idse79j35iecK44pP70/JbWtTTt7h/T9kXtFuZB25yw3dEwGrZo3tYwjuh3ZM/bkp77zd07TFyOD2xanu0zvaazNvfDq739Opc9332f2LK5rOsznv52nwF1X4+Fx+31dbcejw739n7q2tvs5z0bute5+6ndvPuMl2YUxjsf+MPeNwbjvaKufa0d2WbaF2yX1g9sgS1gAAaqykDPi6LqOCtylhFGbVjd1nT6BVtl22s75aufOaUw3Or/osPin5LV3kPGjfKIrlL/+I2SK5p6w/LjsPGq9nZ1e7cnac08eum2vxLXeqmrla9S17kPuKYc9mXFF9IisSt6YU9FLf/FweTFfbjVfTsUyt0mL4UFaQX2ZPh8c6Jo6iefyewLXvDS4vow8zLixhVcp36r6fMcXgKRrnbeHF5cnpKh3G76/oua/4IVlUGPGT4THt2yDdx+Ub3Vl1wVTFXIyav3Rdf5YdUHgQBnflt75fjUqY9Z/zg+9bhJ7efaPnt9mJ7jY08YTOPzy9Od42p7a/cZRx5XUwByw5YT3UIbhGVybOy00Zn67bXlzjU162TttLP+Kq5jA+EXm6Zrc3vMbmvVi3L+ifyRcKz2TNhM7afnXZ94tkt84PR0tPWqoN7Y/A/E1i7cFqatguih02d77Y/OZ6wjUlxhLryu8LexizONQF7bZNpnh2drN7v1uI989f+z9/5Pd1V1vuf8A/kht+aam+nmMpgmLRIa4mgEhXCN5DYxdMdGDN3wWFKBKD4CGsFWeYKABIjG5EoaTC5IJEJMA02UTi7fyoQvEfEZTKYyeKdvbnWNPeV0TZdl3WmtqW6tma7P1Gftvfb+rLXXPmef5+zzPOfLK1VPzjl7r6+f9Vrf3nuttQPbp/qwyOah+6i83YMd3z7GdXP+f1vW9W3yKburWKp/tXb3tkt9BrYp+S7Ciu3tfsdjQ+svXXZFfdI0BHHG9tffqTCyOFwfXtTH+S+Pwi4pW3JtbgxiN+wGAzAAAxPLwFiIojo48GJnJ2HUu+kqiLoKcaPsff20zL62XzaekR7wJEXPfKXn0T3XytI7X5LZU2/Jtz9j/H/mkBNb9f6ixflK0ed2yblDWAn9xE0nH/EALJvwfaJyvfGLV+IBrsm/DlrLyZ+3nQ5O/eQvMVC1g1sNu6HglI4ri7Pji5ZW5FvrG26fH6YXLelLc3SCY88Ai8u3iZvYj19FYSfo1k11AmgnMPEEJVHGBSORP73escwT7vOVhH7FR7e0xcKDzVfw3XFdTmSDCViR/owvF2dDToM4onDauldX33Xy2/eLlmz9NOm39rHf4zxVy8fwUdOW2DKr+k8xkZWL+qu2P74dmt9PK0TENol/W7e+LGM34e96G2TujI3zMkuWUVD3jJ/getVuybDyeKrlZfxHdSzMk3FnOBuUG2vzOI62RFEv3OgZyLZtzey3Wabtqsd4lW1e77IzEyNhtKZOxvmYz98qfKpN9QGAjVevxStC1Y1ej8VS66/+e1NOO9SRRLsTcmvi8CxGNg/d5+x6N13qT33eBlMHOrHeSlp8vp2tEnZP2DuLV+3s64b1Z697m2T3fb/v69bZvnyih6VpUdSHFR83Ul5vxR4mTYSHbWEABmAABmBgsAyMjSiqoHjR8wt33BsMqPWeXtMVmM0E0czo537mkHsp0vEX98uNl5/jwlx6/ia57YlH5BYdsKzPt8pXzhR9Re5fv0QWvWu7PK2rQF/eL1PuzNEbZXf+0qVMFF0iG9wW/Lfk6e2b5FwVX5dvkBsfeyRafTpYCOoq2Zm/d65bIfbhjddV7Fk34ctWeszUiihFXMEAd71MmyfuxURh7YyZBNrBbjSwdU/z90l5xmR839qvJq7EAHTJ75xV//b5HkVRDavIeyKu+bqn4paurtEJjv6lVnU0cZNOry0ja/P8u056zBZYV87FZKZPUTQSOeP0OaHLCpAuLeYssSZpM2m34Z89NSMbV/j8hhPhUPhZKRu3bC7OG01NyGy48/29U32vS0vT+h7awdsqKnNXBqWgrBPS2jMmgxU8GXeBkJkqT9PGhAJ+8zahzg6Dut6LEKGikReTBiWKOmYDES5uay3/8T1T7toG9lDenerYoGzfJFwtn40f+4R7CZm+iMz/6cpG30fqd3/df6of9dskjkyY0RVxtm74urOz8gCw6D+9jfN2L2tvjTCq9rdt4gL2S9YOajfto7Q98tfjlaJZW3V7cqu992M/V28x+fZ2KdrzzpxW7ObPFM3HHYVQ7cY09oGKrQumDzQ2D8qqsL+mR8vVC31RvSncze/1Xtoia/vG3wMeszIpbKt5tmPGLmND769Rv2/KQ9Ma9lVxGQ5vX9HYzgvED+mb3/qKvbE3DMAADPTGwFiJolr4Knoe+9HJYjDtgdBrvQii3t+ZV0Vvlz/5lhx98RGZygcWev/Ay9nLk1R0Pf7yEbn9qkxA1TDe+6n98rSuOFVxVN9Mv/1g9Pb5NbJpz0ty9KR/Q/1b8vz3t8uGIRm4XHjJv3eTNz/Z9nZJffqVG+ondb+45icPumXNDUizAXCx5d0PUq0781IcF05wb0ZWBwNqrQQ6mA2362YD5Zq4auxdu4X+A1vky1H4O+7fIhd5sdR8DtOb571YopNKfwZYUS65DZq4if1kvxMTmciubpKS221mar1stBO/oAzjyYht2OriqSvzzK+NWwW0cPKTr/qoS5tfgWXL3HOq6TbX/YQs5DQTNII0FJNym7eF/T64+h4JOgUXWZkVNqu1ZVm2mduYj6heR7atig+WocivL9cijQtXJnMVInwdTtdTnx9rA3/NfsY2zu9FZVSsunL2iv2U5ebrSFHW6j4Kq7xX+nPXat3Z9M7/dxWitYzm8hevfKwvq5zPCpeZjUL7R+fvqt2MP9/+FDY19+rjn1+7Zg/lZirCqE+fF0T1SI+6Fezerf/MhE07HohE0trxQpb30L9pyyyX2zaLW5FbPHyJ64IXss2DMRNvyX5ehlEb5vOyUJ9zbYsapdfa0dkv0TZZUTQY/5mHm9FZ0v7hl297Kv1+VD80rfG4oCh7V1eGt69oZOch6NNI5/y2p9gbe8MADMBAMwbGThSl4JsVfC920tVgOiDWFaOprfR6Te85N1dXV5X2EtewuW20WtQIoO6N9NHvYVklqrb1wrVundc3ievZYLHNm7iJ/Yzi73jyM4p5GESaJ7m+D8Ke/YQ5VyGimSjafl8RrOaa4Am4f7ig5df1IeEE26mubqjw6QVnXV2rYwz90+9qU72nbur8j/r16kOcAdTVHrlTu6dWRfvVz50+mzxUn58yS4itPdphftK58OVNPikDGIABGICBSWIAUZQBUaOJhU7sdGWGHxh/8ENXiv75bYB6b1wnf7/7P/5+9230kRDqxVH1O2wNim6Z1/JSQbRuYtnEzbDlq9f0IIrWd/aTXN975WiQ7n1720lwSN3Tdrn5SsR6DnrN2zCKOb3moS33etbl3M67bK882srLQoSjIqj2Q1oHdDu9P/ZFr+m9hUjTvMTpVkGa1ahDMkbV8YKWxVz+FqItSpVVtuozXiVMfUvZimtwAQMwAAMwMEkMIIoOyYBzFKBTAU1XIGVnfun2thn3Xa813cY2CvlMpXEuwugwCqKpvE3qNUTRzp39JNf3YakTusLKP4zqRYyY74dUxRbTIdvyOyzlSDo6tzWd7KNjCz3qpdML3zr5H5175dZsu5V+dNI/9zIeVB7LdskfnYAgOihbE+7w8U+ZUCYwAAMw0JwBRFFE0fFdcdFy2eo2+NozRs1KUXUzTFvmaRCbN4jYClvBAAzAAAzAAAzAAAzAAAzAAAzAwGQwgCjasnBGxRn/iqOC579d9s5MID33XbL83He573oNMXT8y586ThnDAAzAAAzAAAzAAAzAAAzAAAzAwOgzgCiKKMpKURiAARiAARiAARiAARiAARiAARiAARiAARiYKAYQRQF+ooDnSc7oP8mhDClDGIABGIABGIABGIABGIABGIABGICBfhlAFEUURRSFARiAARiAARiAARiAARiAARiAARiAARiAgYliAFEU4CcK+H6fIuCfJ1EwAAMwAAMwAAMwAAMwAAMwAAMwAAMwMPoMIIoiiiKKwgAMwAAMwAAMwAAMwAAMwAAMwAAMwAAMwMBEMYAoCvATBTxPckb/SQ5lSBnCAAzAAAzAAAzAAAzAAAzAAAzAAAz0ywCiKKIooigMwAAMwAAMwAAMwAAMwAAMwAAMwAAMwAAMTBQDiKIAP1HA9/sUAf88iczUP4sAACAASURBVIIBGIABGIABGIABGIABGIABGIABGICB0WcAURRRFFEUBmAABmAABmAABmAABmAABmAABmAABmAABiaKAURRgJ8o4HmSM/pPcihDyhAGYAAGYAAGYAAGYAAGYAAGYAAGYKBfBhBFEUURRWEABmAABmAABmAABmAABmAABmAABmAABmBgohhAFAX4iQK+36cI+OdJFAzAAAzAAAzAAAzAAAzAAAzAAAzAAAyMPgOIooiiiKIwAAMwAAMwAAMwAAMwAAMwAAMwAAMwAAMwMFEMLLgo+tuv3CT8DcYGPLUY/acWlCFlCAMwAAMwAAMwAAMwAAMwAAMwAAMwAAPtM/DfnbX8PFnIPwTRwQiiateFLFfiXth6hf2xPwzAAAzAAAzAAAzAAAzAAAzAAAzAAAzUM7DgK0VRuttXurEpNoUBGIABGIABGIABGIABGIABGIABGIABGICBegYQRTkvYqLOi6AxqG8MsA22gQEYgAEYgAEYgAEYgAEYgAEYgAEYmBQGEEURRRFFYQAGYAAGYAAGYAAGYAAGYAAGYAAGYAAGYGCiGEAUBfiJAn5SnnaQT57swQAMwAAMwAAMwAAMwAAMwAAMwAAMwEA9A4iiiKKIojAAAzAAAzAAAzAAAzAAAzAAAzAAAzAAAzAwUQwgigL8RAHPE5L6JyTYBtvAAAzAAAzAAAzAAAzAAAzAAAzAAAxMCgOIooiiiKIwAAMwAAMwAAMwAAMwAAMwAAMwAAMwAAMwMFEMIIoC/EQBPylPO8gnT/ZgAAZgAAZgAAZgAAZgAAZgAAZgAAZgoJ4BRFFEUURRGIABGIABGIABGIABGIABGIABGIABGIABGJgoBhBFAX6igOcJSf0TEmyDbWAABmAABmAABmAABmAABmAABmAABiaFAURRRFFEURiAARiAARiAARiAARiAARiAARiAARiAARiYKAYQRQF+ooCflKcd5JMnezAAAzAAAzAAAzAAAzAAAzAAAzAAAzBQzwCiKKIooigMwAAMwAAMwAAMwAAMwAAMwAAMwAAMwAAMTBQDiKIAP1HA84Sk/gkJtsE2MAADMAADMAADMAADMAADMAADMAADk8IAoiiiKKIoDMAADMAADMAADMAADMAADMAADMAADMAADEwUA4iiAD9RwE/K0w7yyZM9GIABGIABGIABGIABGIABGIABGIABGKhnAFEUURRRFAZgAAZgAAZgAAZgAAZgAAZgAAZgAAZgAAYmigFEUYCfKOB5QlL/hATbYBsYgAEYgAEYgAEYgAEYgAEYgAEYgIFJYQBRFFEUURQGYAAGYAAGYAAGYAAGYAAGYAAGYAAGYAAGJooBRFGAnyjgJ+VpB/nkyR4MwAAMwAAMwAAMwAAMwAAMwAAMwAAM1DOAKIooiigKAzAAAzAAAzAAAzAAAzAAAzAAAzAAAzAAAxPFAKIowE8U8DwhqX9Cgm2wDQzAAAzAAAzAAAzAAAzAAAzAAAzAwKQwgCiKKIooCgMwAAMwAAMwAAMwAAMwAAMwAAMwAAMwAAMTxQCiKMBPFPCT8rSDfPJkDwZgAAZgAAZgAAZgAAZgAAZgAAZgAAbqGUAURRRFFIUBGIABGIABGIABGIABGIABGIABGIABGICBiWIAURTgJwp4npDUPyHBNtgGBmAABmAABmAABmAABmAABmAABmBgUhhAFEUURRSFARiAARiAARiAARiAARiAARiAARiAARiAgYliAFEU4CcK+El52kE+ebIHAzAAAzAAAzAAAzAAAzAAAzAAAzAAA/UMIIoiiiKKwgAMwAAMwAAMwAAMwAAMwAAMwAAMwAAMwMBEMYAoCvATBTxPSOqfkGAbbAMDMAADMAADMAADMAADMAADMAADMDApDCCKIooiisIADMAADMAADMAADMAADMAADMAADMAADMDARDGAKArwEwX8pDztIJ882YMBGIABGIABGIABGIABGIABGIABGICBegYQRWtE0TPe/g555wXvlfPfc7FcsOoS/obcBlpOWl5ablT4+gqPbbANDMAADMAADEwuA4xv2x3TtzH+/N2PnCvnfO1iOW/fGvmDxz7I3wLZQO2v5aDlQRs5uW0kZU/Zw8DkMYAoGomi/+ptv+vEtXeev0rOfudKOWv5efyNiA20vLTcVBzVcqRBm7wGjTKnzGEABmAABmCgygDj28GN5+c6/lz8e2c4Ee6cBy6R5V+/SJbdv0qW3cffgtng/lWuHLQ8VBzV8qEtqbYl2ASbwAAMjBsDiKKRKKqC2jvOezdC6IgIoSnRWstPy3HcKiv5oQOCARiAARiAARiYCwOMbwcnivqxaK/jTxXe3rH7YoTQIRSCtVy0fOZS1/BDGw0DMAADo8UAoqgRRd2WovNXIYiOsCDqB6a6YpSt9KPVGNF5UF4wAAMwAAMw0D4DjG8HL4j2Ov50W+YfuARBdAgFUb9SVVeMspW+/faINh6bwgAMDBsDiKJGFNWn6GyZn7+Box9ADuLTbWVitShPuE39HrbGl/QwIIABGIABGJgPBhjfzt/Ytun4U1chui3zQywKenFwUj+1fFgtShs9H200ccAZDCwsA4iiRjTRw9IHIdAR5vwNRq2ttTxpYBa2gcH+2B8GYAAGYAAGFpYBxrfzOw5tMv7Ul/pwhuiQn596/yr38ivar4Vtv7A/9ocBGBg0A4iiRhTVt8xbUY3v8zuIbNveWp6DrkCETyMNAzAAAzAAAzAwzAwwvp3f8WyT8ae+ZX5SV2COUr61nIa5bsdp27DnhMyeOi0HttImx7bhN0zAAAzUMYAoiig6tkJwk0FpXcXgOo0mDMAADMAADMDAODCAKIooOkpC5DClddhE0XO/8pITPWdPvSE711fbZ0TRqk3GoQ0nD5QrDAyWAURRRFFEUcMADc5gGxzsi31hAAZgAAZgYH4ZQBRFFB0moXGU0jJcougquf3w6VwUPS1HH72xsop1IUTR1V86KM++9harU5lPVnikr5/fvh57z93eiKKmAWPQOL+Dxra3y8fhtblS9IL3XCzffeaIHH39hPz5Hdsqjf6nt3zR3VM36pZGqfdG6ao/u87ZULf9xH/YtXd7wiA2gwEYgAEYUAYY387v+LbJ+JPt80N+nmj+AqyhEkXXPyLPnzotxx97SPb++LTMvn5Qpsw8Vuv6QoiiCxEnfRt9GwzAQJsMIIqazqTNQeN73r9GvnDnV2Xbzj0ydcNNldWYGz/2CXdP3ajbWNDjd/8D2CaD0qaV6a9felWO/eik3PPVB5xgd/kfXVUIn/pdRbz/8M1HRd09vP8vi3uV8JdvkE1f2iW7n3hJnv/xW/L8nmvr3S5eKRu37ZPptcPQ6K2X6Qd3ysYVg0uL2veR7zwpKjDHf3pPBeleBOf3fmq/PP16LrC++YZ8+9Y1HWw9uHxVGDBtDvewOwzAAAzAwKAZaHN8y/i0+/i0yfhz0KLonte/K0/85K85tzQXN+e6OnWYRNFMfHxL9n5iiUw9qmeHviXfvnVZMLYtBMrtt8juw9n5ojpHOXp4v2x6v21rz5ENXzkkz/pxsoqtL78kOz9VjpWLsOz5pFfvl6O6eOGZu2XR4mtl92vVhQycZ2rtzPdB92+ED2NtMIAoagSKNgeNX77/G3Lvrj1yw6dvkx0P7pM16z5cCJ/6Xa9Nf25G1N1nv/iV4h6Dze6DzaY2ajIobVqJdEDxla9+Q84+53wngKpo5/1et/kmd03vqWiqwqi/V/ncekRmf/yGPP39N+S4DlIQRQtbqY2tXa3tVAztSRi9Onua/vzDN8qZi9fILQd1YPiK3J84f8nFs2KzzDw4I6tNe2Dj5zsdLgzAAAzAwKgy0Ob49qyLpuWeJ4/LsZ8YMWT2pDy5/ZoFHsteKFdvf0FePJml68ndO+TJn5yWHx7aIRcvP0/OuuGgHDt1Wo49Oj3wdDYZfw5aFD36X98U/ZurGGj9Xfr9J+TlX/5afvMvUvz7zX87JlvmKjie+pkL529PDf9q0eERRW+UvSpg+tWh1x104uTxgzOy1IxdvZA5e/IN2X39Klm6eJmsvvOIm3PMvviQXObcLpONe95wourT2zfJuWcskaXn3yi7X9a684bsviYTWn1YgcgZiKJZn5B0Z9I0qu0m6abPh4HJYQBR1DTabQ4aVfS8/tO3yh+8+/1OANWVoV7M+/DGj7trek9FUxVG/b1h+bzinsPy4uys/MUN7YmU8523JoPSpo3dF+641wmfKtypOKcCqPer3/Wa3tM/devv1X7mgwpE0bKx7SSKqh17EUZvPPiWzL55SG45Iw8/t/fzD340XTaIomm7mPaxlmXcYDsYgAEYGGoGWhvfXrFDnpw9LbM/ekHumf5jWali48p1cvXtB2XfN26Y81i2lTHnVd+Sw6dUBL0vS9dliKJtiKKXHntTfvEvIr/59Zvy+HPTcul9q+TSAw/IC393TO5EFJ23er/01kPZYoriHFG/SvMluf1d5VjaC5TheaOr5K7ndI7yityvu8/etV2e1jnLc7vkvbbtNoKnCq0+LETR0r6MhbEFDIwnA4iipjNobdC4/Dz52A03O+FTxVFdMaoCqBcF9bte03v6p279vWH5nHpURb6TshdRtBjw+K3zVhD1DePSM5Y1F0SVuZ5E0WwbvefFbqc/e2qn7Niy2W2z31Fsb9et7hlbzs+2zXJ2znnmfr2s3lLen5laWeTR5WftTMGm+s/iy7fPr9UVld5vuysrY1FUt9LHRxE0E0Y/Kjv1affLj8i6on7fLQeK7T5RYx7ld8eW9c4ezlZFXr0dvN+4TKLjBZzI6u0U+/Vh8OnrD5+wAAMwAAODY6Cd8e3HZdcPVBD9K7l5ZbsPzFsZc3ZbCdrtvgq8Lf01eSg/EitF9+yTk78VkX96U+7b0+KqTlaKhuPuYqxa1wYsk1v0Yf+pE7L3utKNFy2fvXdVEZ6/FgiZVuD80hJZ9KUjbs5SXZiRj5Vf2y8brJ/a7fNZWuripE0vywpbYAsYGG4GEEVNR9TOoLEcVPmt81YQ9QOud5z37jkJonc8q0/6jsreh47KsXyL0LHnviWfvOlbcuhH2UrF2R8dlV2fvDAf3H1c7tBtTrnb2ZMn5dBDn5UVbuB3iXxybxmO3tv3hfMkiyMPS4WkHx6UKef+I3Lzo8b9j47KX9x0iYvHD2j37T2cxfXsjtYGl95mvX42GZT20kDp1m4V7lJ+Lv7A5e6ebqVP3a9c60EULcXOJbLIiW3l2Z6ZcFf+dvGsnTHnkGYCqRdSvdDnfy9ygqDx734bsXPFZtnozjTNhdZCYM1FwVxArOTP1Kum91KiqAqjsf/uwujn5dtv+vOOfAOcP1F3ZyD5a+azslJ0pWzcEonJUd6tmJyJzN6O8Vmw62X1UJwLa/I7h/KJy4Hf2BMGYAAGRoOBVsa3N/2V235+eOe6ruO7FVMPyOM/KHfQ6Lh0720fSfqrHXNeMSN/cXhWfujHrz+ZlSe335CPX8uxthsb3vuCG4PpOCL7e0HuWL5DntTffjxaEUXz7fb+GICfzMrjd12TDr9HsbTJ+HMQouiHHrm22C4fb5+39+zW+E7fLy3Eyw8X4Vbdf1jufOu/yC/+udhZL7/6xzflW0+XIur1b7wpP1dxVf/9y6/lP//DL93Xcvv8Z+Vbf/f38iu/Pf+f/15efvVjHeIsw66mp917Q7F93q/sLPj2nOefP3gk3xZfs7pz8RLZ9JiKqtl5pIiio9Fu079STjAwfwwgihpxoJVBoxk46ZZ5XWmXEvMuXrPO3dOt9Kn7ddf84PHY45+XlcsvkU8+ng86Z1+Qe668UFZc+U23fWj2uQeyM5SW75C9hx6QTR+4UM5aeY3cc/in5QrQ2w/LD0+dlsMPfVxWLr9QrvjCX8lf3JMNNL3IWa4UvVA2PTors6dmZa8KoRrWsz+V2Z+8IHdcdp5k7k/L7KsH5ZMXRYNVY5O6fA3iepNBaS+NjRdF9YU/5cC7HJjE2+o7ht2DKFoImDmrKsB5Qc6v/OwUV2f3VsCz3+NGKFoJqWlRAbUQCmP3vf+ORdFOebLCaHXlbmpVaK+iaJR+K5ra70X7Ye2T2dGXUad8cC+yc2FPrsMGDMAADLTFQBvj24t3Hs/Gj5/sMsbTLfZ6ludz35QpHQ9e9PFsvHiq/kimyphz5Wdl76s6pvwr+dyVOn5dJ598TMegP5Un76kRZSuiZ2dR9A/vfUF+qOFtVyH0kjz8dnZINRl/ti2Kfvb7d8s//tP/J/qpQqEVReN7TYXE+/7u1yLya/nRD+qFxutP/Ux+I7+Vn5/+mvzRfavkj468IH/7/+arS3V7/ZHX5RciomeQ3vntVaLnk578p0wfzUTRD0sRjwqhe+6QZ3/5W5F/+Zk8dbA+3qZ56NfdMIii5977ipt3hFvitX3cIDt19fapE7L76qy99Ks2n39gg1lU4N3lW+3XPiTPqsBas33en1O69M6XXLzP7lpXhvWJg9n5pGaRgY8zXp3aVvtFOPSFMAADg2YAUdRMwtsYNFpxz4ui+gZ6v/XZfsbb6q3fuu+ZKHpctl+WD0o/mR8c/9hnc3H1mmx7U7G6Mxq85k/Tn7z3PDkrF0WPHbhLrlbR1IiXlQFq/sT9h0/fVz5Fz/0/eY8XRX8qj98exWfCtOHr9xumPyd/+b3nk396L3bf6+8mg9JeKpgXRevekF4V5zo0YH2IoiqEesEtLYpmopxlrd69FUKtsBenPXGvZVH0u4f+U09vmPfCqB5rEJZjLoC++JB5cVIulD6lb8uM8+ZX4JoVsurGrZott8Dv8C9iSuY7to8pgxZX0ybTnsoP19LljF2wCwzAwAQy0Mb49oqHclG0OFZpWvb+sHww7HcVXf2IipeRuOjP+zwwkxzbVcac92QrP5+8145N75LHdVXni9/MH/pH482eRNEb5C9UdD32HbnSj1PzNL74yNzPRvXj1Cbjz7ZF0Qt2rpH/+f/4m0IY9aKoF0T1nrrpRSQsxMpaUfRr8iMVOP/5TbnPnC+65b/qStDfyskfrpI7//eqsHrpW39vVoo+K3+rv/7haXdeqUvf7H/J7v8v3UXRmefuk7f+r79J/um9XvKbcrvwoqgXNMOt8348eNkD+sKk0+IFUy9Qzr75ktx11TmyaPE5smHHK9l5pI/dkr+UaZnc+ES2ctS+aGnni2/J7EnzUtL12UtLZ1/THYNLZNHya+X+59RfuBurEG2L8BPj7Alsd30Z8QkPMDD8DCCKmka6jUGjHxDppxdFt3zpK+67/rZ/qW311n/qeyaK6ragfDBYGQTm29+9KLryGvnc3sNy6NWfyg/1cPx864UTRZeH2+GPPfedYpVnZYCax+P9208Nq+Lep6/LZ0oYbUMQVds1GZT20kh5UbQXP7Vu+xBFm6/8zBqg5u6tQBo3XrHo1/5KUT2XtRdhVEVRXbVbFUWXyW3PnHYvWrrR1+98YBc87fb39DNe/RkLn/a+E0sjAdXd99vnQ9up/f05pbU82LTwHdEGBmAABmCgRQZaGd/mD8IPbbdCpY5Fc3E0H3fecUjHmmac6saB0arNaGwYjyGTwmoUT2WMXBkPR3EG9/N7ie3Ibbydvsn4s21RVAU9K4z+/P/+R9E/XT06F0FUw5v6m0y8/M+zdeJkLmj+8tlQfCy23a+Sp3SZqPxMnjKi6TJzf9kP3pRfOQm0+l+5vb4u/ux6ShhtQxBVGyy4KJq/ZX42P+ezMo70qz7zl4t6UfTpRx+Rp/Vt9cr4yRPy7KMzstq/fNS1LWtk0wMvyfN63FReD46+eEhu/+PszfNZPMtk3Z1H5Hl/hMWbb8i3H8jeej9rVoouOmOT3H+43EV34M/DcXAlzS22bYSNrWEABtpgAFHUNMytDBrNQM+LopWBm3HT671eRdFse/1Jefyez8oVf7xOVtiVoj4dK9fJpm8cdVvpdVu+pikeoJ7lV4o2fcrvw27waYXRtgRRzUOTQWkvlajTi5Z6Cce57UEUDbaoR4JcdaVoLF7q707b7UMh1IXnV0Rq3QjOFI1Ev1g4NHWpZ3vkfpsKo14QVRFV/cTxLf1M9pbOZ3d9VJYuXiO3HDwhs28ekdvMGzoDP1b0XLxEYruGdgltquE44dO+6MqsDo3DCuJtwWaEx2AABmAABmCgEwOtjG9X5is1f/CtcnWlG+OFomhS0MxXYdYJjpUxZ6eVos/uKHcs2TFmIHqqWNtJFM1XitatOrXhzuF7k/HnIETRWBjtRxDVsJYdfEF+rlrlf3tBrreiZvG900rRbNt9ttr0l/LyX5fCZraSVCQTPTNh9Tf/575QWC3iKP25NNVct8JoW4LoUIiijBMrY/xObR336AthAAbmwgCiqOlsWhk0msFTpxct9SqGeve9iqLZE/vjskvPZCrOdTotbqXoF74le7+QHSq/Mj9A34ui2aD2p/L4F7IXKZ21fJ3ccUjPI52VfbfrGaTnyYoPfFa2P/4t9xKmyoDW2MGnvdOniqFtCqIaV5NBadNK84U77i2fpL5+QnraKm8YW7Q1e+OjfyrrP6tvgNQGLRcsp+wb30NhMiW4ZQKe3/Y9I9MdzyANRVG1R+jfxxeLre2vFPVl0U0Y7SaIZuFET7dfPhI9/a52GJmw6Vd1ZsKnP4JgZsuMzERi8UzwZnprn8ym3m8galsW+M5AFwZgAAZgYB4YaGt8u+KTB+XFU6flh4e/KZvWZePDFR+4Sx7XnUh+h9I133Jn21fPFD0uu66JtrznY8XKmNMLsK9WzxR9/PZ4pWrdzqlOouh5MuW2+f9UDn3js3Lxyuzs088d+E65E6vHcawd4zYZfw5KFLXC6FxXiFrx8b7Tv5TfiMivfvGC3Hcge+HSHx3ZJy//3TG5875V8sV8q3zlTNH/53X5ogqYr/6vzv9vfvmCbNmjZ4rmZ46KF0Wn5alf6FuYfi0n39zmziW99MAD8sLPjwVb8m2a6r6rGNqmIKrxLPhK0XloH/z4m8/q3ACbYBMYmAwGEEVNZ9PWoFEHRh+74ebiHFE9U3QuW+XtAMt/71UUXfHJ6K30jx114l4miv6VeSv9T+XFQw/I1Tow1IHgFffJ4/6sqFe/I1frtZU3yD2HzJtAT56Uw4/d5c526lcU9flr87PJoLRpQ6fi5X/45qNODNXvupW+qV/c9d6Y1gmjzQTR3uPru4yilaZ9h2faJcJagPLE/rRvMAADY8RAm+PbFVP3yb7nTpZvhdett7M/lRef3iFX5ELiyk0PyJOv6oP0bGvuD199Qe7Z5B+yJ4TRxJhzxZV3yd7nojfY5w/yk2PFnlaKahrCI6RmT/5UXjz8gHvQnwy/B5G0yfhzkKJonWg4t+sfli2zr8vf/pN/fby+Qf638qt/eFa2uFWbH5M73/qZ/EpfrqT/9N4vXnAvVcri07fT/6x8s/w//Uye/Vt7pugqWbbna/LsL34tv/Fvn/+XX8svfv6ETNWsCp1bPpqtOI3DRhRlDMY4HAZgYPwZQBQ1g942B426Smz6czNODNXvupW+30EW/hMD6Q6D1CaD0qaN3F+/9Ko8++Kr8pWvfsMN8i//o6uYMJq609SOvbiLhdGhFUTzFb2cGzr+HWYv/OIWHmAABoaFgTbHt4xFu49Fm4w/R0cUnZuYGIuLo/obUZR2fFjacdIBizAwOAYQRY2w0+ag8cv3f0O+fN835PpP3+pWjK5Z92FE0Q4C5iAG2U0GpU0bFxXk9PzKYz86KbqVvqk/3PXXeFlhVF+qVHeG6PzaOdoer9vozRmi85uW/uxLWrEfDMAADIw/A22ObwcxXhu3MJuMP9sWRf2b5/Uc0bq//+0fft7XuZ2jKmz2k25E0fFvH+kDKWMYgAFE0QGJou95/xr5wl1flXt37XFb6cdtwDcK+WkyKKURHP5GUIVRPbpA//Q7ZTb8ZUYZUUYwAAMwMDwMIIp2X93Z5ri2yfizbVH0s9+/W7527D92/FM3/QiEk+gXUXR42jH6FMoCBmBgUAwgig5IFG1zcEVYcxvMNhmUDqpiES6NNgzAAAzAAAzAwDAwgCg6t3HkXMffTcafbYuikyhYzkeeEUVpw4ehDScNcAgDg2UAURRRdGy39TcZlNLADLaBwb7YFwZgAAZgAAYWlgFEUUTR+RAQxzEORNGFbbvoO7A/DMDAfDCAKGpE0fPfc/HYCoRzfdo9yv60POejEhEHjTUMwAAMwAAMwMCwMsD4dn5F0Sbjz/P2rZFl90/2S4yGXkS9f5VoOQ1rvSZd9DkwAAMw0A4DiKJGFH3nBe+Vs9+5EmF0nl+INAjhVctRy5OGop2GAjtiRxiAARiAARgYTQYY386fKNp0/HnO1y6W5V+/iDM+7xteYVjLR8uJdm802z3KjXKDARhoygCiqBFFz3j7O+Sd569CFB0DUVTLUcuzaUXAHY0mDMAADMAADMDAODLA+Hb+RNGm48/f/ci5cs4DlyCKDrEoquWj5TSObQJ5oq+DARiAgZIBRFEjiioY+jT9Hee9G2F0hIVRLT9WiZaVnAYPW8AADMAADMDAZDPA+Hbwwmiv409dhfiO3RcjjA6hMKrlwirRyW4z6TMpfxiYHAYQRSNR9F+97XedoKZPetlKP/gBZJtb592WpfNXufLTcqQhm5yGjLKmrGEABmAABmCgngHGt4Mb0851/Ln4985wwpuuSHRb6TljdGEF4vtXuXLQ8lBBVMuHNqW+TcE22AYGYGBcGEAUjURRX7Buq9EF7xU9LF3f2snfcNtAy0lXQbBlnsbZ12E+YQEGYAAGYAAGQgYY37Y7nm1j/Om20n/tYvdSH33bOX8LYwN9qZKKoWyZD9sM2lDsAQMwMO4MIIrWiKLjXvDkj8YNBmAABmAABmAABmAABmAABmAABmAABmBgUhlAFEUUZWsIDMAADMAADMAADMAADMAADMAADMAADMAADEwUA4iiAD9RwE/q9W6lNgAAIABJREFU0w/yzZM/GIABGIABGIABGIABGIABGIABGIABGCgZQBRFFEUUhQEYgAEYgAEYgAEYgAEYgAEYgAEYgAEYgIGJYgBRFOAnCnieiJRPRLAFtoABGIABGIABGIABGIABGIABGIABGJhUBhBFEUURRWEABmAABmAABmAABmAABmAABmAABmAABmBgohhAFAX4iQJ+Up9+kG+e/MEADMAADMAADMAADMAADMAADMAADMBAyQCiKKIooigMwAAMwAAMwAAMwAAMwAAMwAAMwAAMwAAMTBQDiKIAP1HA80SkfCKCLbAFDMAADMAADMAADMAADMAADMAADMDApDKAKIooiigKAzAAAzAAAzAAAzAAAzAAAzAAAzAAAzAAAxPFAKIowE8U8JP69IN88+QPBmAABmAABmAABmAABmAABmAABmAABkoGEEURRRFFYQAGYAAGYAAGYAAGYAAGYAAGYAAGYAAGYGCiGEAUBfiJAp4nIuUTEWyBLWAABmAABmAABmAABmAABmAABmAABiaVAURRRFFEURiAARiAARiAARiAARiAARiAARiAARiAARiYKAYQRQF+ooCf1Kcf5JsnfzAAAzAAAzAAAzAAAzAAA80ZWCkbt+2T6bXzb7Ozp3bKjgdnZHWfc/W2wmluswHYau3MnG2xess+2bFts5zdpx0XNP8tpB07DIDLFsplWLhCFB2jwhwWqEgHjQ4MwAAMwAAMwAAMwAAMwAAMtMOAE3Ue3CkbV6TCy8TLmamVLS92WS/TtXGm0tHitT6EwIC5tsJZQM3ACbtb1s+pbJ1fRFHBDi3WzQWsC0HdbjEdiKIJY/73S8+Uc/7gPfIH736fXLDqEv6wAQzAAAzAAAzAAAzAAAzAAAyMMQN/8O73uzmgzgUHNfmeW7iZ6LnjwX2yIymOqXg5gBWdKzbLTAurNeeW595FnPEUvloWvIdaJG45rwmdZ75YJJ7e6+9C2gxRNKos/8O//T057396nyw/912i3xeycIh7tCoT5UV5wQAMwAAMwAAMwAAMwMBoMrD0zLPdHFAXxgzVPNCJkztl41oVKROrRQckdI2ayKiradtfLbvQLLcreLsyTQrrC51PjX8BVyZHmhBt+DDwMH9pQBQ1FUCfCmonuPzctrcezF+BUoGxNQzAAAzAAAzAAAzAAAzAAAzMjQGdC+oimaFZMVqInvmK0UjUSomX7pquLM3/Gp0L6uIp/ajfWGTMtvF7N/bMT7Oa1cVp7y2R0F8p7Hoh09/P4ouEwGLFqo2jDGNRIt1ZfqNw3Lw/u+btEp+3WdrSujNxGe0gVb9K/yV7Lm9BmWVhl7a1cUWrgb0gvsK6CW0b578It/C7RBa5777css/CnRMjzb0grWU+Uvl11+KwI//pMg7D9eVflItZodyZ5YwJLW/rrsybz3tchtae9txVy5jaJLJ1l/KvtRH+hnqxIaKoAVS3zOsKUWAOGynsgT1gAAZgAAZgAAZgAAZgAAYmhQGdE+rccBjyGwhtTgAMBZ5YdMsEJiPmJPzE+coEJRtuKTZlbnOxyJxPaeO13xctXikbt/iX++T+jFB29tRMfjZqdm9m287wZU5OZKumX935M1VdfCYtmehX3ndpjsPJxbtSMKumLcvHjEwXYljVTWy74Lfa2qbLC7bmWlCelTRlYp0XsTO3O4NjDAJbO/8m32tnSlvGacnFTx92aSMrfofxB3kzuklxPc9fGWbmP7ZxpYwTYQV2ye+7vBZlsUQyAdjkN8+Thl/E6dJk3MR2yG1eprnkNbBtwDFtf1HmibIb9XuIoqZQ9RwZ3TYx6oVK+mm0YAAGYAAGYAAGYAAGYAAGYGBuDOj2ed1BOAz2U6GmEHxUqNlmf0cilhOEjKDo5rqxn8gmsbDm/Gi4pbCUiaZhuKWIVR9+6SaKU+OoCIKZm9hPFneZFlcmcT5j4WtxvnKwECNr0hiEk7mJVweGQlkiH0ZPcKJdFOf01GaZia+t1XDy+Ixg7K/58q6IgnG+gvSHaauk29nblmH3+DvzH7GX2yEov5oyToUbcu4FUJve0mbePmmGwnSFdqjhwKW9073Qtqn0c210bYQoahoxfakSMI8uzJQdZQcDMAADMAADMAADMAADMNAGA8MxNwwFHpcvK4RFgmYoAHkOOos9ST82jooQW25V9qvtMuHSirUad+d4s1V/seiVb7U3QmH39FX9qJ0Cf5GdCj6CfCZs3S0PRktwYVrhUcNWMTR1Tf1V0pTZqxRl0/YLRMdi63tsx6rf0F+T+D0/NZ+B7Uo3QTw1bgr7F/ar2j4ov8JdlK9k+DasyH3F5mW6NU1pjkM31bRzf9RtgihaVLAl7m2So16gpJ9GCQZgAAZgAAZgAAZgAAZgAAb6Y2AoRNGkiGOEnkAUMtfNHDd7gU3d2+nTfpwgVaxuzESm8rzHmrMWXVrt+YxWnKqWRSCeFemN05P99uKrZzr0G/vRuKJrgZ3KtAThJN1oHqJVqkVay3B8ujKhUwVKm24NI77mV0Kaszz1LFYjBteVW0osdNcetGVctX3Fn8tvp/gT+TN5D2xnrtt46twU9vL+KpxH5efdRUcAuPADm8Vib2SHZBlH+axwHN0v0sL1SjmOqG0QRU3BDUXHZ9IzLpCRDxpMGIABGIABGIABGIABGICBUWJgKOaGKuIU4mTJjxODHpyRjVM7jZCWFpK829XJeWbCTy4KFVuUIyGqcxlaEcp+L9Pu/at4VsaR34/Fsfi3y0Mcbvw7Fsa8ABmvpsz8+TQkBbwmIlpgVw1zRlYH5abXdsrGqagsu4Wdup+0R2a7IP0Vv4lyrriplpEvq9RnEJ+3Qc6OF7GTZezd2s9KWhLpLVZy+nJMu7GibGU1ciWeujwnmLLp5ftY7bBGFDVAD0XHZ9KTany4VtdwcR02YAAGYAAGYAAGYAAGYAAG2mFgGOaGgcATzBMz0SZ+Q3xFAHUikF1BWLWNi6MQXtfLtL60Jlh1mG9FL9zkomO+Qm/1Fi9SVcXIMGwNx7utEZ1i0a8iYmVCWLCiMvajdqpcy+LzAqhfSWoFZ01reT+zUyz81ZeHt6svF7u6NE9zZFO/EtTGqfF5QTGOu3J+5orNMj21shCngrRV7Jayd2yTbPu4j79qQ5/H/DMSQH1+yrJJxRmFkTNdyWtFAPXCtmW5Gr4Lp/JiJs+cxh3neb1MN+CYNjVdbuNiF0RR07kMQ8c3LmCRj/FuOChfyhcGYAAGYAAGYAAGYGCcGVj4uWF6JZy3eSYAWZEo49GJY7oV2/1Zca6O10woytyrgFQVmwoRsQjXC02l4Oe31xeimptnR/f9VueKaOnTVqZFw/F59GHrpxURM1uYOArhNgzHuctFvCIsnxaXzlSeU+eS+nz79MafeVqCsPNrRdqMn05pygXtIr2xqBrft+EX4ZblX3Jh8lC4y3kx6Vb3VVubtKvdojQE7l3YZfye2+SnSYcNo0yzpi8Ky/gpbGRtoOkr3Bi/xbUszxmvhqGc8ZDjKN+OGa4ly3IEbYMoagpt4Ts+Kta4VCzyAcswAAMwAAMwAAMwAAMwMLoMMDdc+LJrJMyZ+fwg65sTaI1oOMi4Fj5sFYmNkDhPNu4p3yrIxiLoMKaTNBWrmXsq33m0G6KoMTYd38J3fMNaUUgXbMAADMAADMAADMAADMDA5DDA3HChyzq9enNh6uAIiIRG1+jXRqMgALtVpBMjUi90XRzv+BFFTeNBxzfesPfbOeAfPmAABmAABmAABmAABmBgMhhgbrjA5ey2OQ/5akWjJdAuzCcv2XZ3u9Ue+8+n/ccrLkRR05DR8Y0X3DSMlCcMwAAMwAAMwAAMwAAMwMBcGGBuuMDcuPMqzfmXZt4+l/LEzwKXZ6vlN0yriMfJrpOZF0RRUznp+CazEtBBUu4wAAMwAAMwAAMwAAMwAAOWAeaG8GB54Ds8wMB4MoAoiig69Aff0viMZ+NDuVKuMAADMAADMAADMAADw8oAoihsDiubpAs2YaA9BhBFEUURRQ0DNC7tNS7YElvCAAzAAAzAAAzAAAyMKgOIorA7quySbtiFgeYMIIoaQYyOrzk4VDJsBQMwAAMwAAMwAAMwAAMwMK4MMDeE7XFlm3zBNgyUDCCKIoqyUtQwQONQNg7YAlvAAAzAAAzAAAzAAAxMKgOIorA/qeyTb9ifJAYQRY0gRsdH5Z+kyk9e4R0GYAAGYAAGYAAGYAAG0gwwN0zbBV6wCwzAwDgxgCiKKMpKUcPAOFVu8kJnBQMwAAMwAAMwAAMwAANzYwBRdG52gzfsBgMwMEoMIIoaQYyOj8o7SpWXtMIrDMAADMAADMAADIwnA2efc778+R3b5LvPHJHZU6fd38P7/9Jdu+A9F7OowczhBlUHmBuOZ90aFC+ECy8wMJoMIIqaDpWObzQhpvGh3GAABmAABmAABmAABsaBgaVnLHPCpxdCv3voP8kX7rhX7vnqA6Lf/XUVTNXtOOR5WPPA3HCJnD21U3Y8OCOrzZy5Wl7rZfrBnbJxxVzboJWycds+mV47V//4q5YJNsEmMNCUAURR08CPRce3tXya7AdNs6eOyG0mnwEcufsDW+sqzbWy+7XTMvvaftmweIlsePANmT31huy8us59l+tnrJMbH3hJnn8ze+KtaTz+8hG5/apzgkHdbc/o/Q7prsvPgl/P7ZU/0c/KYHD52LDnhMw+c3dgu6B8F9wenXnQcj6659qRTf8o2Zq0dmYR+2AfGIABGKhhYMVmmXlwn+zwf1vWV/rtTDjxbroJKEtkUR7mwESQbmleO1PmJxZ8+vHbx7jr2I9Oiq4AfeQ7TzrhU0XQlOip1/SejjF3PfStSlkEHL//Ftl9+EQhpB5/+ZDcsmb0hFTH17bNcnYf9g3s0jCcsZgbNsxrrX1cXelSp12d6eKmYzr6FVVr2q6OceKntsyxW+d2FfuMnX0QRQ3UY9HxdRU5ow6gq/s2RdENcvvht2T2zVdk92c2yJmLl8jS8zfJ7U/pYO2E7P1EOUhbOFH0Rtn54gk5/tRchcbMXlZkdnnJReW2O5/JEUXvlgOnTsjuuYrxpp63XQaEF7Up2HrsBgowDuMwMMkMrJSNW6wYla3omplaWbR1q7fskx09ClbqZ3rLjOxICKz989YlzU7AKVe1hYJbP37746RczHBaPr3li4V96+xx3eabnNipq0jTbjbI/S+eltk3j8jta5bJ0jXb5YAuSnjxoS6r/vrLRzot7Yap/FgGBxXnWMwN52NcpsJpj21AUGZ9i6rt8hWkbT7sRxw1bRjlCovzwwCiqGmExqLj6ypyRmB1dR+Kov1UzHO/8pLMnnpLvv2ZUvzMwtsgO39wWmZfPyhTeXksnCiq4tvpPlZfVkXRRVfvl6MDWvWKKBrxbOpzP6ziF7vCAAzAwPgzEK5uLEWyRYt11ZJf9bivsXAXhFcr9mnYdkWVj8vGX9q+WZil+/ng1qXJ529OYoa3gX6m8912Pmya7fcsns7psO7t9yZ+e8mHF0WPvn7CrRi1fnXb/FV/dl1FOPArRvX8Ues++x6PaZfJ7d9XkfSQ3Dji4yVE0fmt81W2wvjdgxHfJsyBLVev+hFV5xBntzxxPyxj7IE9xpkBRFHTiE6CKPreT+2Xp1/Pt66ffEO+ffAV95S5WNl4xkfl9qd0i3zm5ujhQ/K03T6v27WDFXtrZNOel+ToyTzM11+SndeFW+GzCrQue1r944OyydjcV65z79V0vCV7P5E1OF4UvevWQ/K8D1u32f9xJqg6MVBXlz5wKIs730K+9I+3y7dfLLcJzb7+kuz+1Jp8oJgPDr//kNzyRJnH55/aLuvOWCKZeJnnI8+/s8vld1fCvP+aWNj1DWUzUTRLv4/Lbq/PRehi+729t0QW5SJ2Vj5HZHewfT5fTblVRdi8/NzW9Dzf7loU3uIovtqt+HnYdqWmpqVYAevzHYZXcJWXeZDv1/bL7mD7fOi3OD7BicreVuVRDspOEN6AhGfPKJ+ecT5hAQZgYAwYiMU8XemUT+pDwUVXRjYR7tbLdDGpz4TO9NZwLwj6LeQqkNaJcsZtYuxUz2G2mrPY7h4Jj17Yc0JGLv72supO/Xv39nt9eiJeam2t7vzZgmEerC2z9G92ZxDuiPJWl4YynT78ME1hmYf3+vFbl57UdT/21k8VRq0bvZZaPapiqN5LrxbNx95vviS3v3+JLF2zS57VY6sOfl6W1vIU2r1c/Rddj+yelcl6KZnKhH93PcFYr+4XFSsR69KR1TnPvOfT2nAu34dlbljwqXbwD2wiEdK78WVQ2MC1dTUPeVx49iGNsp/b0oWffbf1T+1oy9WnJ3ATxVmkxXNn85HgYy5lhZ+w3cIe2AMGmjOAKOob58VLZFg6vr4ADkSzXEjywtX6h7LB0OFdsmG5Do4+L3tfztxk4tUyufHgW+7M0L03rZOli8+RDdtfkuMqpvkzRQNRdJls3JOdMbpbhdAz1sntz+j2+CNy27tiCG+RvT/usAIzWrGaiaKn5fhT2+Uyl9Z8y0+QjtMy+/J+mVqex/X+u922oON5/hYt35ClpzgD1YuDb8mBOzV/y2T1nUdc/spzLXM3Vhz80n458JVNcu4ZarPt8rRuPfI2Nfxk5ebFQZ//7HcZfi7kGf9O2PPxXb1fDhRnbEZ+nY2MqOnFQu93cZ52H7a/X4iFUXi5IFqmLU67z4N+NhNFA8HcxV9ueXf59GlTu+VlXsTfKe+J+OPwAjtWysXmhe99tTHYNpioYkvqEwyMKgPhZN8LClqebsLvBc5YPA0m+7GYUNpCwytFgljIif1pWhLCq8bl09G47c3jsoJJJHx4QaNIn7ufiD8ZZ5jWLJ+ZLZPiSCKMwDYad5BHbyuTHmfz8neW/vJ39zpo05yFX+Q9T58t/zC8fvyWPIRh9n69ThTVcN0LmJ45ku6b9EzRF9+S2XyBwVG/ECBRLl6QtgLW6ik9OqF3ptSeykMRVhcGu7kvRdHMdnF5hb9Xyuq15fEO/dh+OOaGmf1ntu0sHtxUz+Qt3QRsO7vbtiirq0W5RHVLbdWx/Vu8JBe+bRtm68gScWX1oIkziqNaf9N1sp9yw2/vbQw2w2aTzACiqBkUDEfH12eFjMRFC/c695KkUqTSe0vv1C3tpyUTRUtBsHyCvCl80VIgimbujx+cKZ84f+aQExkPfCnOx+fl2yomFgJedD9KdyaKviL3m7cQbnxYV4C+ITv/xK8Q1K34ZTip/C1amwvBj92SC3uno7OU8vy9/IiscyyUNrC2s9/9Ktb0y6syYVFtmv2F9l6UC5HhCkqN04idhkkr9Gm8hYCYu7H3q8JlLILmdvNl4ETLKF4tB3/fpKMadi5qFiJnWlAt09ztflmO3tZN8tbUjj5MPqt2xibYBAZgYHIZyMUeO4H3fV8uJoSCnU7+jRhQEfQ8S6FIEAo2URguvtB9sVLLrwhznw1FQCdAmDS68EPRwYkSVjQtVmf69Nd95sJLfJ6otUkkgFTYqqQvznuYVu/f2rCa/rr06vU4zd3D93H257dTmnq/p2PK9GrQJfIfvvmoG3OW6fbhL5N192aLG47/4KVs59fJE/LtW/0OKu8u/6zjuVJm6j60Y6VMXP2xHIbl3Kv7JqKoX+ldtUOUT1/HG3wOx9xQbRcf4xFx7crIiNBFu2LEyTy/zvbFg4iwXGKxNXTrBU9brnbFu9o5S2shusbpSLYPURoalEubZUxYc68f2A7bjQsDiKKm4R2Ojq/PyhWJixbU255SoS4hgnlR9E8eked1y06xUlHTkot8ufjlhCq/fb5YiegFwPIzFKs0nHwLz2v7ZaOxuU9ftn3+hOy+Jst/Sni0cdvvPoxk/vzqSSf0pQTPMH+Z+BeKt7qiducTL8nzP35Ljvut/LEdizyF4p9LZyEcat7yNBSiqbdZKZ5meffXfVrCcH2eXfiFiKlhl+GoGw3LlkXgPmelFHDzOIP0ZuUxV1FU48t4qqbNp8/yls67t5vNW3c7ehvx6cuQT1iAARiAgZIBKypEE3kj6DhRwIt+7rrZhqpCRSEueNvacPWahm1FhPi3d5MQPVVAqITv46n5rBG2OouKocBV2sjGEecru2fD9f5S1/y9zJ6RDQPBJ50W9eeFFhdGIOradNrvqTSnw9c0ByvsKmKqhtvUr01D8+96bqi+PMnbyn7+9UuvOuHz2RdflY/82ccDN/5t9da9+37dQXec0tHHbnEvN3U7ur6vO8LCRQfeX61d58JUhd1Q+KrE1cV9N1FU86Bl6FYr91pnijF8tayGYm6YFBIjtk2b5cszW7Fp254sf872hY1Cpp0NTd0Kf0dx5nYLwqukI2tbfTsZhpfbu+KnWg5FnjqUFW6wGwzAwFwZQBQ1jetQdHwmPXMq1A6iaLbSMhwIrd5lzhQ9Y7s8nZ81VMadr/BMiaK5wHfcrcLsXgkvc3H18qKlV+Qusw1/02PlQM6Je5EA2GmlaCnMnZbZ53bJuYWd8239xZs4c7GtEBpvlL16Butrh+S2j62T956/zAmNFXG5CC8WL7PfpfCnv624F9pNRcHSbbiyM76nZeRExCKtVeFR79eKoipqJwXQME0ZC9Ww3fb3wn+c7yyMMs2p+6FtSreZ30DArWyf72zHkt9UXriGfWAABmBg4hmIhR4nPKiAEIoEaiedyDtBTv0YwaBqw8xv6CYWQePfymIoGBXhVoSiBtwW+Qjdah686FcRpBJ5LtLgxjdpMUTdaFherPR+CnsVYyOflqptnZ8gzWk3Nsxq+n349rM+zTasLM2x/fvxa9PQ23cVRb9btw1+8RL3oiUVQFUg9bbWT72mf/aa+56YE5zpXnpaMw6N64Qvv6B8yjx1ZKrCbmjjShl2cd9EFPX5d2EXol+ZXn+/l8+hmBsmy0XtGdXpKM91dtBys21UUR8q5RzXgzDOzI6ZGx+ei9OtbC8ffJTtQxxeVjYuPVHaeykj3PbHOPbDfjCwRBBFfYc/ZmeKWiGsAD1/Ynz8me2yOj8f84BuafcrRRevktsP6+83xJ0RuvgcmXo4fyFRUhRdJbc9lZ9B+pkN7in00vM3yV2PPiQbjF2L+M/YJLv1DNM3X5Hdxv3tT2Xb4neblxc5sU9XrT72eZfWM696xJ2HOnt4uxM0U6LooujM1PJM0Vfk/vXa4PnVhW+IPzPV5+/pr6zKB5O5m+cecvEWfvLfZ16en23acKWoy3u3szULW8XCYfbbb2fP8mxW+vqVunMVRStninbqFEIBs7BLJIoGZ626wXiZXlemhfv4TNHOeU+tVHX2sOEVduyUD+4V9RF7VSeQ2ASbwMDkMBALAEZ4KEQCx0M2kc8ExVDYidvTWGzI7lv/fjVbvHqrJtyKUNSkDwtFCpcGzZtZrVoRpDqKomkho8i7s6NZ5Rr/tnUqtnlxz9ooT78VSbqmP7ZLb2kOxaN+/Mbp6O23bo/XMXn6TfLpsDq+aGl9tgNMx/16Pv+i5Tfm4/DU2f8afiZ6lSLWEunpTFH7wKDCbsh4hcEu7juLoitl4xY9+zS3kanLBaf+Xo+fwyCKptqVkFnz4MbkL3bjbOHqYCmm6rWsLLIXl9myz7bSm7qd8+EfrrjwXN0sw0vGWaQpUbfy9ATxFu7TzPdbpvjHrjAAAzEDiKKm4R2Gji8uoJ5/12yJzkTSZbLuziPh29wfsGeKLpFFeiD74fzt7SdPyNN7dsneTm+fz99WX2wrP3lCnn3482YlZlTpzlgnN+rb6nMxVgd/R188VLxV3uc3E0Vfkt27yjfbHz28Xza9PwsvKYouXiJnXrVdDrysQm0m9h7XN9ZfdU4oeB4+KDttHh+4MdtW5FhYJht3vZK9XErF4i/pb5uGh2T39zXsUuzzac4+Y3HPprf040Vfn04vfPqXD2XXT8iBZ04EZ3xm+c7ypgLkbam3z5s3xGs8ViB3/gsRVdPmheI8zEIgj8pNbeNFWGfbI3KbslaIknm+95Rvvg9eupTXsyDfz9ztVroWK2MDdjvkvYgzXylrjyII8pbIg6nvYbnhFnvAAAzAwKQx4CbwxaomK1Rm4pB/cVAwYc9FgMq96Hqwjdfcm16rYfu4wngCP9pfVYSipozmwmIyb14EWW8E8Mx9IHb4/tKk3efZfcYCWBGXFVHC9KbEHc9cKabkaZnaLDM1YWYijk1/GE+2bbhcqVak26bZ5qsiwM7Rr7fZHD+9wJl6y7y3U/ypL1nSMWOdkPreT+2Xp3XHUz5WSo25wzAjJgub9chUhV0Nt2SjUoZd3MeiqD/7ckcepmOr4MXXr4iLOZTLws8NM7tX26DSll7MrtTfXHAsr+dlW5Rpbh9fF2w9UFs5/zaenAHv35XZTpkx5erLpYxTBdsyDFdORTzrZXqb+i9F1azulu5DNvsvT8LDhjAAAykGEEVNB7nwHR+QpiBt71ouACKcmYlQW8ylxeD2yq6tdBIOZQIDMAADMAADw8tALoqaF20Ob1rb58ivFv3KV7/Rdaym54+q2Fn3AqZJstug8rrwc8NIpHbCbyT6VsRLw6UXPHPBOBBX/Ry41n8ZdyFyOrfm7NaU345xlmFmq9ez30X4zi+i6KB4JlxTNzz/fHbtayaBG0RRUxEWvuOjog620iGKDs6+iKKDsy3tAraFARiAARiYFAYmWxRVzvVsURU7VRhdesayyoRVr+166FvOTfIsUTO3od70V28WfG7oRMdIBKV8K3UCzvvjHPthv0lnAFHUdCwL3vGZtEw6mIPJP6LoYOyqHQmi6OBsS0eNbWEABmAABiaFAURRZd2vGFVxVAVQ3VKvf14MZYXo/NSHhZ4blsdKzE9+aWexMwzAwCQygChqhMiF7vgmEUDyTMMLAzAAAzAAAzAAAzAAAyEDek6onhnqV46qEKrfVTCtO0MUG4Y27NceCz037HQOb795w3+7rGBP7AkDo8sAoiiiKFtrgfyIAAAgAElEQVQQDAM0ZqPbmFF2lB0MwAAMwAAMwAAMwEBbDCysKJqtmk6eA8rchfkrDMAADLTGAKKogWlhOz4GMG0NYAgHlmAABmAABmAABmAABmAABvphgLkh/PTDD37hBwZGgwFEUUTR1hR2Kv1oVHrKiXKCARiAARiAARiAARiAgc4MIIp2tg/8YB8YgIFxYABRFFEUUdQwMA6VmjzQOcEADMAADMAADMAADMBAfwwgivZnP/jDfjAAA6PAAKKoEcTo+Ki0o1BpSSOcwgAMwAAMwAAMwAAMwMBgGWBuOFj7wi/2hQEYGAYGEEURRVkpahgYhkpJGugcYAAGYAAGYAAGYAAGYGBhGUAUXVj7wz/2hwEYmA8GEEWNIEbHR6Wbj0pHHHAGAzAAAzAAAzAAAzAAA8PNAHPD4S4f6g/lAwMw0AYDiKKIoqwUNQy0UakIg8YZBmAABmAABmAABmAABkabAUTR0S4/6h/lBwMw0IQBRFEjiNHxUWmaVBrcwAkMwAAMwAAMwAAMwAAMjDcDzA3Hu3ypv5QvDMCAMoAoiijKSlHDAA0jDSMMwAAMwAAMwAAMwAAMwACiKAzQDsAADIw/A4iiRhCj4xt/4GnUKGMYgAEYgAEYgAEYgAEYgIFuDDA3hJFujHAfRmBg9BlAFEUUZaWoYYBGbfQbNcqQMoQBGIABGIABGIABGOiXAURRGOqXIfzDEAwMPwOIokYQo+MbfmBpVCgjGIABGIABGIABGIABGICBQTPA3BDGBs0Y4cMYDCw8A4iiiKKsFDUM0CgtfKNEGVAGMAADMAADMAADMAADC80AoigMLjSDxA+DMDB4BhBFjSBGxzd44KjU2BgGYAAGYAAGYAAGYAAGYGDYGWBuCKPDzijpg1EY6J8BRFFEUVaKGgZoVPpvVLAhNoQBGIABGIABGIABGBh1BhBFYXjUGSb9MAwD3RlAFDWCGB1fd2CoVNgIBmAABmAABmAABmAABmBg3Blgbgjj4844+YNxGFgiiKJGFD135YVy1vLz+MMGMAADMAADMAADMAADMAADMDDBDOjcEMEA0QgGYAAGxpsBRFEjiurTwLf9ztv5wwYwAAMwAAMwAAMwAAMwAAMwMMEMsFJ0vIUQhC7KFwZgQBlAFEUUZbA3wYM9HgLwEAQGYAAGYAAGYAAGYAAGqgwgiiKYIJrBAAyMPwOIooiiiKKIojAAAzAAAzAAAzAAAzAAAzBgGEAUHX8xBMGLMoYBGEAURRRl8GMGPzwlrz4lxybYBAZgAAZgAAZgAAZgYNIYQBRFLEEwgwEYGH8GEEURRRFFEUVhAAZgAAZgAAZgAAZgAAZgwDCAKDr+YgiCF2UMAzCAKIooyuDHDH4m7Qk4+WXVBwzAAAzAAAzAAAzAAAxUGUAURSxBMIMBGBh/BhBFEUURRRFFYQAGYAAGYAAGYAAGYAAGYMAwMAyi6Lavf1N2PLiv8jd1/afljLPeIf966Zly/advk5ltOytu9BqCzvgLOpQxZQwD/TGAKIooyuDHDH54Sl59So5NsAkMwAAMwAAMwAAMwMCkMTAMoqgKojfddodc8ZFri7+p628SFUvv+fo35daZe50YesOnbyvuq1v1o357FkvWzlTF1amVvYdj5tid0rB6yz6ZGWD4neLmXn9CEvbDfuPCAKKoabC145u0zp78MsCFARiAARiAARiAARiAARiAgZCBYRFFVeSMxYez33lBIV7q9/i++pmzKLpts5zt58grNsvMg/tkeu1gBCBE0cHYNeaB39gZBuoZQBT1Df7iJYIoGg4EGBhhDxiAARiAARiAARiAARiAgUlkYJhFURU4tm7b5f5SYkdroujiJTJI4XKQYafswrV6YQjbYJtJZQBRFFGU1bFsn4cBGIABGIABGIABGIABGIABw8Cwi6K6RV7/UkLGYEXR9TJtzjkNtr9H2++De4uXyNlT5uzTbZtlo90+r363bZbVhZudsnHFEllkw9yyPsyvvfdg7t7M71O24RriHwzAgGUAUdQ0mqwU5Sn4JD4FJ89wDwMwAAMwAAMwAAMwAAMhA4iiXpCckdXFnDkTRMvt9Pq7FCNXbzFunWBZ/naCqN2anwuahXAa/S4EVC+Euq38ZVyZWFqG737b8Is0IwBZAYjv8AADIQOIoqaxbFMUPef8VbL2io/K5Rv+tPJ36do/ljPPXsGTWPMklkFYOAjDHtgDBmAABmAABmAABmAABhaOgYkVRc0q0B1ekPRzZhUuI+FRxctC2PTu3KcVTFfKxm3Vs0mD7fNx2LEIujgMI/Dr4tP7RjQN0hKKIIhC2AMGYMAzgChqGss2RVEVRC9es17Of88lwZ8XSfU+wujCDXIYYGJ7GIABGIABGIABGIABGICBOgYmVhQtRM94VWi0/T0lnuYvZtKXPGV/XqS0AmkpxgTCZiyKLlY/ZiVoIIpmAmkZj4+vKrx64YPP0u7YAlvAQMkAouiARFEVP1UQjTtZvX7RpX/oVpEOShj94vdOy+wp/3dSHvqYHexcLw8d9/dOy7GHrw/S2Nnv2+WjD58swz7+hHy0wWrPjn7ueq4M71Q1PbH9it8fe0KOdXOfh33wLpv/6neb525u4/hnT8X2rYZf+Glgq+Zu75ODUdyBnbvZJkhLxkTjvAd+3y5v62pnTetpmf3efQFrzfOa2VTLKea1Lgxniz7jqwvbXnfszEM8Ns5evl9zrx8g7pJr3t2QzXdPy1Y3kO3BT8xEX7+vlJsfDONecd2u4g2rOvjdet37GrJUDasX+71t/ZddvDevr7Odhr9Pdtx6ZcP0pMLpLY3OFn3FF6Yhtq2dXLh8Ox7C8ujJhp6FnKt6W9p0dbfJB2/thQMbtn7vHv6c8ujzymcf9SEuK37D4rgx8D5xffO907Ii2Vbk/UouKDXv7+bfTm33R8PIOqJoYvu8Cpfx6lE/n3aCqBUxrRAarvLMBJnsWrHKtCdRNHsBVLmNvxQ4EHuwBQzAQC8MIIr6Rrzlt893EkVVLNVVoiqKti6M3vWcBOKWE6yeky/mA69QxMnEqsJ9F7+Z+FUXVs1grFv8gaAUpSc5WPSi7nPy0MMnO4hkGtZzcvB7p0N7JMN8u/QiuL3td/oUEWvS0NtgUPNXCrJhuWpZXC8PPdxUhOwzP1rGx0/KsRqRvBBrg7Ku4aWDbXopo/kSRXsrs97z3H/42eSrmRCl6evV/SDyFApWKn6FouP75JrrmoqQYVg921NF0Xt3ydaayWshKPYlUvaWxvmYhA4iDi3Hm2/9clSWdfx0twmiaJ3tuN5zPe/Q7xAWPLXJgO8zbr5uOt2v9PTwaL7LptouD6KvaNPebYSFKJoJK7qasxRCq6tHC/EhFjX1d3De6L5w6727v6/ceh/777hSNCHYmnl9kSauhS+mwh7YAwYqDCCKGija3D5fJ4qqCPr+NR9yq0gvvPQP3XmjesZoGx13Ogwrntnv2WCqs3gUuq+IUm61ZimSpuLv1U/FfYfJiqY9vXLQi3z+s/vAsZd43/Y7oV1S+R78NZuG5vlMp6tP/14UNSJtGU+WzoPfOzmWK0XLfHZnbGHc9ipyVic9859um4Ze0x+Xgw0rvtfgtxdFo5WrmU2ysG++dVdDoa8uvt7SOPBJqJuUf1k+2KHt7Z0JzaOG2TSv3d0hitbxxPXe+cRm2GyeGdB2NvGwrb92bdB5qLbLA++PWu2H5mafYRFFP33rVrniymuCv/PedZF787y+fV6/x/fVj+7+6FkcrAiTKoxmQmixorN2i3y0pX3LTPASJk2LE1j91vot693vItxK3J22z2eCbfEyJh9msfWflXI9l73RRfALP5PEAKKoqfzzIYqueNf7ZM26P6m8fGlwA1IVpXLh0olX0Zb3jsKm8ZsUAruJaVa484ORzn5UnCxWrnYZDNWJoqXQ2zkua/NAFM3t9EV7VIBf5Zhv2y+OJ3CrI/N4Hs629M/mKyZdOopjDGy+0u4zsbXuaIPMj4/32MNPdFkp6u3tP7UsyrBnPRPOxrGdIrd2BWhum4fyIxpcWVl7eTv5stN737svO3YhuBfmJ3UMQWC/40+IxulF8LKMff7CPFTvh3ny4SgDQTyBXfKwNQ+B7U5LUMZFvjzvNq5yNa/lbf6+R6KiE/mm5YN2O7pf5ZivUCm2T7sJWz4Jui7bRu5XbPrVLt5tuRI17T7bruy38sfbnrM0+rC2XjcdbJ/XSaKPN203jbMMe4cT3zwX8SQucmsmpdnkbjrb1uhFUGsvbyfPtt679UqpTgqjOIL0aLq65zfcLhnmoRKfpqPIf7jNPSynJkJnxIvLq43f3w/zUJa/t3v0mdtKyy896Q/DixlQf0Fe7p2Wa+Lt8x3s0M3maa6iPPhy53OAD3GxOSxOCANJUVTb2ibtdGYj3xe4PtL1AZlf21aGfUnUjsZH0Wgbem8v44M8vFuvdO2674eCOKNxRW1fEbTfnccIN6+3fZKxRdEPxv77Y2oYRNGt28IjhLytm3yq30kSNsgrQh4MwMBcGEAUnWdRNB7w6lZ6XVUaX2/rdyAO5eJVcA5oB1E08DsfomiHtKTsoemz4pZzo2EUIl4olKXC8Ncqoqg9kzMXQkux1otffqCVC3xFvHr9ennoe6UA7WxZ3E+5z4S0dByZe5tXTW8oJOZhnrLiq09fFrb1n0pPEXdwjEKUrlwgLNyqQFBwlbaLug1ZytNaiIn+XNJy1XGYPn9/rqJolAfLcszcXfcVR014NsLPMI9hvrJ4AsHZ2avMVxiWL59BfnoRK48jn3gUk5Z8wlJOVOLJhv6ORcn3yTW3lmehuQlYIS6m3GfX0nFk6SvSk4tmO7wo6QSoUjArw/A2y8K2/qvpMULh+i9LGUaYrmwiadxq3PkkcUVlhWNpV+evEEy7pad7fquioYZZpiuIz5WnmUQX6X27vM2Vrb13ZdfVn0HYhfhn4/dlUaYni8f8Lvz5MsqE0MLuNo2mfG0ZZpP8MkyXroKxvFzshL6THXIRulP4818vS9sQN7aAgQlkICWK5teCh5a23YvaVtcuPriv6NO8OFq0dVG7mLk3fYLr10r//gztwn/X8UEpsgbte9Fflf1kxviV8sGa87k/eKtJV5Du7n1m13xFduu1vg2DKFo3wb9s/ZXFQ1H9XueO64hEMAADMNCZAUTRcRZFY0GmEK/MADQWhfzgIfZrhSTvpuvZmqGAlA1EMkEsENVceLFwZdJYxBdeU0HKCn3ZWZ92ZV5dXGE4mq6KKFoImJnb4H7FFg3iCeyccJ8omyJ/gV+f9pRt9V6NMBflJzwCIJEeY/Mg74l0lqJovR0D8TCZH5sG+93nNww7CM+lNfQT3E+kObStZaaMLzVwDmzhV5kW4m6qTMJ0pcIc7LVoUlIRpOKVe1YAU1vEvxP2CcS3hPtEnDqJcROvwK8POxGGK2O9ritCo8lTZdJo/dvvPvzy0wqQbmJViJu5G5N267YUS8uVMq4cjfuyXE0aGuQ3iKfIdyQQ5umsutXyzt26uEp/ZXrK/AfXat2b9NecOVtNh4mjkmcbXkK8reQ5YtjdD7mtxh/bwTBTCd+kNQ87sAvXBvbQFjvD3sQyoO1i3He5tjJc5ahtW91OiUqfpf2P7R+D/jvdjgZhJPqvsG2N2m6/gj/oN2082fdCZG3clpp4Kv2H1hlzv6ZPCvLVON50fRxmUVRFjve87wPuD8Gjs+CBfbAPDMBAJwYQRcdVFK2ImnZFn+n4VaCKBbOU34oQqGGo4JMLSk7oMtuznVBUJxLFIlQm5MVCqRO2zLbl1P1AFHXpNmkwfru9+TwQuxIiWnC/Yosa4auSHr9isOo+zmuxXVvtmEhPKGqa8swHfy68vFzd90K4825tGux3X66hHQs7p9JirxnB09osSIN1bwarpfsUN3MXRTvaVuM37MaM2QlbkAdr58K29enuFK6No/3vdoJiVz56DkJxKZxsqBs7+Sj9+BUl5dYtLzpV3bvJidnWVvjRiVRiElYbZ25zF14+mUxPfGye4/Rk94o0mNWGybBs+szkzE4UrT/7vSxLkx4bXsF+mEYbdhZGeL+Mo5oXn69i1U4+ydbrxbUiXlOeidWUZfpt/CYvJhxNU93E16W3rvw1jK42sfGXaS7t1MUOXcMvwyzzzDVsAQMwMEAGtG1OiqK+L83jNv1OXB5lX2DcBmHattN+N/my7aP9nrfvZTurfqphVNJQESlN+xyIpyYNGpfpq7J+LH+gl0hTmI5qmpydkv6iOE0fFtvW/h52UbTTJJ97iEAwAAMw0IwBRNFxFEVVdEqdjWgEK9/hV4SeOr+pVaGJ8Hy42WcstnkByouDOkBJC6JhOOmBjKa9EOuSg5tE/El3oeCWEiFLwc6n2Qq7iXhi4S+wVY37QlyL8hv4ze+5azYNHfzEaXE20DR4/zY99nsWZpD3VFjRNXV/0J2vWpZzwFkqP/lq3Uw8rKYhE+DnuH1e01dn24CHDizWpDnIV0UsV/ul8hKVVZCGtu9FIlZiotB50pOYcMRhBJO2Gvd1k6HAb553d63DCkfrJ06Ls6Xm2fu36YlsEZ1vWZ3cVQU7tZV7a7BZjRP465Yem3Zf7lF+w/JQm9g8hCtTXXpqtiOGbaiGUS+MujwEk2nLoY2/akONp5pm7z/tPtja39UmqTCya16I7WiHruH7tPIZMoM9sAcMDIwBbZcqba62tYMSRVPtaN7H+f450X+FbbvtCzI2gv6v6H/TfY2GlVz1WmmjTTyapqRNfB/fIF++r53jJ6JoM0EB4QU7wQAMjDIDiKLjJoqqAJQSRPPBgApWpUAUiUBd/Dqx0IQdhlUzeI7CDP1E8fc4YBlmUTQUy/zLfLxImBLKOtkiu2cFYGfH4m3v4fmlOoh38RcrgKv+w/s2PerWi6VappFfLc8i3LzM42uuzEsBs0hPIUxm8ZUc+jNDvX0ykTqIJw7T/S7du/yY81RD+2d5SK7WDM5PNXYIROd6/6l4bL5CO9fUkR65722SFk0Yep70mMlJns54EuR+F5OWqvtM1EtPkvw9L25p3tzEyZ5JZs4v1fuhgKfxhdsNq/f95ClOW+g3zpezc2wvN0FLxOcnlU7ATNwvJr9hnNX8xvmL7RGKotmK3WgS7XkKzk+NOPBu9NNNSL2NUoxau2Xh6Ms4VvgwUpNWf68y2fXh2/R0t4ljohKnsXOnNCTKJGTMp4lPx7wvOz45NgAGBsdAUhTN2/uiP6n+tnW00mdVwrRtd953FH21tndZ21vsIoj7u8oDrzA8TUslDcFK0SvlZpOXqtu8zY3jde2575O69w8u3E756pNjRFGEnlEWekg7/MJAMwYQRcdMFH3oeLjtOduGbUWuXJDKt5aXQlF4vdi+HQhkXtzL4yhErs6TSS9YuTCNn+C62epuxT87AMy+16QzFurcIMiIXB0GRZnAmOXJ2SMW+eIzRysrAlPxZEKat+Ox7z0nxwpBOeXer6K15WfLLQzv4F36u7xv8+DirNgj9B8IjtFqxrBcnpOD5q3vqVW01WuavzJtWm4uTFP2fgWlt09KyA/y9L37wnNf8zLx/o89fJ8o+57nSnxO5EzYNrpesGdE0SAdBaeZIBvGk5fJw/Zt9aVwW2W5c71pw/019/q3sucTjHjy0XXSU50E+YmU36q99dYvy9ZiQpJy74U3nxb99BOecmLmw4vfLJsJWMavFcdcvc4mTd5/INilVlkWW7m/LDebN5gnJ2wVe6mYZ9OemhR2Sk/3/MZvSo/tEaczmxAm7OMEyfK6FZ5LtnKRs7BJ6V7tmU2WbZnmYuZ107K18BPaowy7wYS+KMvQZnGeNcyAg/xtxzZPtXZIMJIK36ab74Nvm7AxNp5EBirtlGtHwzY0buvq7BT3Be4BV9Gm+r4mDDuOvxBEtZ2s9HdZu5tsZ/N4KmkIRNGofwnSZvmP3N365eDlgvHW+lT73TFfHcb/dba11xFFmwkKCC/YCQZgYJQZQBQdM1HUduR8t4MuvsPDoBkIhWrsPWh7E/78M5aLoo227FM+818+2BybwwAMjDkDtTsQBpNvRFGEnlEWekg7/MJAMwYQRQckiq694qPy/jUfkvPfc0nHP3WzZt2fDG6LTp9PSMdncBmtlPQr/iorKgczqBofO2Kf+rJEFK23DdyMh20QRcejHKmPlCMMwMAoMpCvKjXb8gddjoiizQQFhBfsBAMwMMoMIIoOSBRVMVSF0cs3/GnHP3Wz4l3vQxRFvIWBkWcAUXTQkxPCX+hJLKIoDC40g8QPgzAwOQzkImhxXEvNy5oGOH5EFEXoGWWhh7TDLww0YwBRdECi6OQMWBicUtYwAAMwAAMwAAMwAAMwAAPjxQCiaDNBAeEFO8EADIwyA4iiiKKsUBzgE2YGx+M1OKY8KU8YgAEYgAEYgAEYmAwGEEURekZZ6CHt8AsDzRhAFEUURRRFFIUBGIABGIABGIABGIABGIABwwCiaDNBAeEFO8EADIwyA4iiiKIMfszghyf/k/Hkn3KmnGEABmAABmAABmAABjoxgCiK0DPKQg9ph18YaMYAoiiiKKIooigMwAAMwAAMwAAMwAAMwAAMGAYQRZsJCggv2AkGYGCUGUAURRRl8GMGP52eFnOP1QQwAAMwAAMwAAMwAAMwMBkMIIoi9Iyy0EPa4RcGmjGAKIooiiiKKAoDMAADMAADMAADMAADMAADhgFE0WaCAsILdoIBGBhlBhBFEUUZ/JjBD0/+J+PJP+VMOcMADMAADMAADMAADHRiAFEUoWeUhR7SDr8w0IwBRFFEUURRRFEYgAEYgAEYgAEYgAEYgAEYMAwgijYTFBBesBMMwMAoM4AoGomiZy0/T/jDBjAAAzAAAzAAAzAAAzAAAzAwuQwgiiL0jLLQQ9rhFwaaMYAoGomigNMMHOyEnWAABmAABmAABmAABmAABsaVAURR2B5XtskXbMNAyQCiKKKoUCHKCoEtsAUMwAAMwAAMwAAMwAAMwACiKAzQDsAADIw/A4iiiKKIooYBGr3xb/QoY8oYBmAABmAABmAABmCgGwOIojDSjRHuwwgMjD4DiKJGEKPjG32gaZQoQxiAARiAARiAARiAARiAgX4ZYG4IQ/0yhH8YgoHhZwBRFFGUlaKGARqt4W+0KCPKCAZgAAZgAAZgAAZgYNAMIIrC2KAZI3wYg4GFZwBR1AhidHwLDySNAmUAAzAAAzAAAzAAAzAAAzCw0AwM+9zwqmuvl6nrb2KBi5nPLzQzxE+7BQOjxwCiqGlEh73jo4KNXgWjzCgzGIABGIABGIABGIABGBg9BoZ9bnjTbXeI/sHW6LFFmVFmMDA8DCCKIorSkRoGaJyGp3GiLCgLGIABGIABGIABGICBhWJgGEXR8951kXz61q2y48F9wZ9e03t922rtjAt3em0dd+tlWuPest7FtXpLmY7ptStl47byd5DGbZvl7MqcK3OfiuvsqZ2yI+mnLl1c77vsK+WDTbHpZDCAKGoq/zB2fFTEyaiIlDPlDAMwAAMwAAMwAAMwAAPDw8CwzA1v23pvIIBu3bZLrvjItaKf9rsVIWe27ZybQKqi6LadMlMjSDqx0oiiyqsKozNTK6P4VDzdKRtXdCrPelGUetDJbtyDDxhokwFEUUTRqAOjgrVZwQgLnmAABmAABmAABmAABmBg9BgYFlH04jUfKkRR/e5ZirfP17nz7ht9elE0KWhmQuf0lp3FSlENE1F09NhuxILRSXBPGY8zA4iiprIPS8c3zsCRNxpUGIABGIABGIABGIABGICBYWdgWOaGui3erwK1W+RjUbTOXU92dqLoZlmt29fzLfKFf723Zb241aLm3kBE0Twd5Zb7aGu+WclarF51RwrMyGo/v7d58ccNmHQvWpwfBZDfC1a7ql/vJykQU38LLry9+SweWGCb0aofiKKm8g5Lx0clGq1KRHlRXjAAAzAAAzAAAzAAAzAwXgwMy9xQxU+/VV7PDvWcxaJonTvvvtFnIUbG29/Lre7zL4pmcVvRcvVUdkapS0sskHrhMxc2C38rNsvMg/vEn2EairkrZfXa/AgA568qrpYC7Xhx3ogLo5ngnvIfNwYQRU0Fb7PjW/aO8+Wy9VfJ5Rv+tPJ3yQevkH9zxrKiQxs3qMgPDSUMwAAMwAAMwAAMwAAMwMAoM9Dm3HCudjjjrHe4FYt6hqj+6epFvabhWVG0k7ue4i5E0WhbvLk+76KoiTvMSynUltdVzM0FzYQ/K4Tq98pq2ORxABpPt/NRqetlGWALbDFaDCCKDkgUXbv+Krno310u515wYfDnRVIVTBFGR6uy0LhRXjAAAzAAAzAAAzAAAzAwGQwMgyg6df1Nsu3r35R/vfRM96ff9ZoyaEXRTu564tUKiW5lZSYwWjFxvkXROL4yP+H298p2d5uXfM5v86HhOGFUt8kXq00zobUMa1+xjd6vMC3jn4x6QH4p53FnAFF0QKKoip8qiMYA6fVVF18mKpoORBi9er8cPXVEbjP50jTc9sxpmT2V/R3Yaiv2tbL7tfKeujm659os3S6s8N7sa/tlg4bt7z1zdyWPG/ackNngehzHCdl9dZ4GH06eNpdGH0eUh9iW/LblyHd4SDEQb33yblJP1v29Zp/1A9Rm/nsrr7p8ZHHFA9wsbDuojZ7u59unygFveb8YHBfnSJXbrBbp4PrB1BtWo9UUru2KB+rlNqyOcdDuVfqU3lgZBH+ESRnAAAy0xUDeNxUCTBxu2HcU236HsG+Y33FAbKf5+T0MoqiKoPd8/Zty1TXXuz/9rte0TlpRtJO7nupvJCTqmGV6Sredl+OYuOzT47DOY7csTR3GozYd9ntQF9R/OYar5DPhL53WJdk5qXm9dHleOz+MVdIc5I80YB8YmA8GEEVNw9Nmx9dJFFWxVFeJDkQYrRFFFSYVRgvBU/OdC5LBtcXXyu5nrPBZFVgdmOr3tQHW5WkAACAASURBVBNy9JQROHNbhqLo3XLg1GkJhNir98tuL8x2SO98VADioKEdbwbqBqQdBqGmTexkm3hA3JbbdDh1+cj4rRvgLlpczadLd3xg/orNMj2VnSNVH9YScaLotp3BxMCnN/DnRNdokL52s2xc0S291EdvTz5hAQZgYNwYyPqfXGBKiaLReYfDlf9qP9zLOGC48tK8brU5N5yrDfTlSTd8+rZitaJ+9y9bsqJoJ3c9xR0Lifo7eiAcl30wBirGkVVmqumojtMKN0E6NKzwoXTdmaKFf01HEEZW7mVaV8rGLdm5pM6PdevyXIrAQZhF/ppzhH9sBQPDzQCiqGnY2uz46kRRt63+0svlnRe8V95z8WXuvFE9Y7S1itJBZAxF0YRYaWzh0tMhrExQPSK7dVVotLIzEEU7haHxdbsfp4nf7bGCLSfAlnUD0g6D0IZcxAPiTm1YL27T4dTlIx7gxh1ulM8Gg9xysByHVQ6uNybOoAr82YF1wp6B28T9tA0S6cHvBNRhyp36AANjx4CKnwlRdLj7hmo/3H/fPvxstzk3HATHVhRtLfzKGEbHUuGDXlv2yq3feRNuL68yU01jNk7z/v2nC6eSDg2vjMueBWrT4MKwL1qK6pqtZ6G/UAR1ebTxReFU8zL8PJNmyggG0gwgippJZZsdX50o+vsr3i0f+MMPV16+1BqgHUTGQBTdeqQiZlbS0CGsUszMtsbb1aaBKLq4i/jaKQ5TNpW0cQ8xAAYaMFA3IA3FQj+4DQaAfkDp7ewERT8YnZGNUzuDw+kDv9GbPf0gVz/LAXM4uA23CIaD5JmpzTIdr+706UoeiO87vDCfdiBc16Z0dFMM0LO0l3mJts+nVoo2Sq9PN5915cN12IABGBh5BpKiqPYroSjTKZ++3y5Fncyv7YvDfjXfHmxEnuB+3r+t1r7du/HjgHwFa3E9F4eqaQhX8i2K/Nk+M8hbML6Iwsh3fPi4p9dWxzU2z+ouyJfpe4M4G15vc244l/i7+RmIKNrQNt3Sxn3aahiAgVFhAFHUNPxtdnx1omgMhm6lV7fx9Tn/7iAyWlE0FC5rKqwLKzxTtBA/bTzue7mNvhJ2EU5iK35xr4yniMOUzZztQRjtsYUtR9CW1clDVpdCsdBPKMqJRHa/+O0mLGay5ic6fsKkkxazBcmFZ56o+4lTWY9jUdGmM4q7OAQ/XKVQhhUJkgGnNp/2e02bV8TlxV/9NPkuRNF81ai5VxFT/STP2MGnuZzE+nhMHEH669Ppw+ITG8EADMDAiDGQEkXza4Eomeg/fFn7ftsLjb5fqeu3M/e2r4n64bzPKvzn/bwPf9Fi209n9o7TkJ277fvquM9dL6trzmhcvcWkKxhvdB8PdM1Xn31qm3NDX3b9ft629d5SuPYCdv45s23nCI5VR6z+9slUv+WPf3iBgfYZQBQ1DVubHd/4iKIJIVNtZkXRxUvECqH2e1BpdXWqvlDJvoQpCidwb8qG6+1Xfmw6CTatTmKycg8nK25SUQicuV2MAFgR/BbnK05iP77OuslUOcmphG/C9hyqGzcZi/xm9+vykaU1lb5qPsM8+3jjz/qwyu3zZ+f5tG7tdxtmNmELV67UubX++D4J9ZM8wjkMTCQDuQDq+xJng1yELERJ/5Cupp9N9qvmQV0oYqb7vyCMRL8c9lXVfjjw7/pFG0/23eanWVmbeLqOB2x8ZV2qpqu81ywNpfs254a9xl3n/uI1H5IrPnJt8k/v1fnjelmu2AJbwAAMWAYQRf0kfvESabPjG3ZRdFFr2+d9hSq3ydeKos7W0XZ7RFEGL6YO2saJ775u9fNpJheBnXUi4Vdz1AicxaSt4aTDre7wKx/DFZbxBMX9jlY3uK1xOvlLTMzCyV3VHuHEzd4P017vrvTT0U2cNjdhy+zY0Z9bYVMeHdDZbZkW6gC2gAEYgIExZKDoX03eUgJg6lrel8f9qtuqHqwstf2//W7itH2a/Z7HEfZV1TAqaai83DDrg4v+PRiHmHS4fNrxQz4+SaQpHA9U0+TqS9Kfia8uHYnrbc4NqctzKwPsht1gAAYGzQCiqOkA2+z4hl4UdWd9llvek6B1EixT99xK0PzlS3Y1qLGxxhOIpqlwIvfJtOEGMRUGGjAQioJlXQonEtWJTbgqMpwYZR2zXisOuY8nINFErhK+uq9Z/ZKdQVauMnVpduGVIm6ZjzIt6dUoUf7jdCYYSuW1iC/h3+Vt22bRly+l01BNY8c4Emkq4udeA+YZOMILDMDAkDOgfVogYGp6tV9O9X3RtbwfqPSrlTBtPx/1hb4vsX1xon8L+yobXmbfShoqomhZDsGYwcevn9F4IRA9NU1Jm/jxQIN82bjm8L3NuSH1suQBW2ALGICBYWIAUdR0kG12fMMviubi5KnTcmCrrZTXyu5n9ssGtUsnwbLmnp5bGmyRv3q/HNhzrZnIslJ0mBoA0mLZH8/vbtISTSriyUnmxk8y1A46+SlXNlbCcJOYUhSNJ0ax+/h+HH7IYRa3FRhdelt40dKi4oUN0SRzxWaZnlrp2qlwEhgxkZg0lmEaUXTtjHmhVNWeHeMwfVJolygtuDP9CraBFRiAgRFioCJgZmmP++b4ty3jSr9aCTMUMeN+udIPJ/q3sK8Kw9O0VNIQiKLrZdo8/Ky6zcsrjtcJoX480n080DVfffaVbc4NbfnxfYTqa58MUdaUNQwMPwOIoqaha7PjW1hRtHxpkRMoTx2Rx71YGYugTtwM3RciaeLe7Kn8jNEaUXRR/rb58tzQbFt9lo4snuBFSp3iMGVDYzL8jQllNLxllE0azNY0M1HRcssmK5tl47bSjRUlCzd+y/u2zeJeBlGEk01c/NthZ7bMyEwgxJb3i5c2eGHVhxmInqV7DTP1tlnLm5s4FuFkeZiZ+vcmP36ClZVRxR4mremwMsE0vbXfr3Qxomglb6XArOnuGAftHmInDMAADIwlA9W+R/ursH8K+oeij62OL7J+e31ppy6iaKUfNw8+XX8ai5N5X2XHAkX681WulTQEomi2itOPC3ZUVsb6PEXutszItLVJ1J+mxgNFuvJxQDHOaKEetTk3tOMWvvvy5xMWYAAGFp4BRFHTYbbZ8S2YKGryQwVb+ApGGVAGo8BAdWJDuY1CuZFGOIUBGIABGJgoBpxIGu32GODcp8254USV0wDLBDvS5sEADLTNAKKoabTb7PjWrr9KLrr0cnnnBe/t+KduPvCHHy6f9Jr0tF3YhEcDAgMwkGIAURQuUlxwDS5gAAZgAAaGh4F8VWmHFbRtp7XNuWHbaSM86iYMwAAMtMMAoqgRIdvs+M694EJRYVRXjHb6Uze/v+LdiKKmHKjc7VRu7IgdmzKAKAorTVnBHazAAAzAAAzMDwPR1nrdHj+Pgqjmsc254fzYDDaxMwzAAAz0ygCiqBHj6PioQL1WINzDDAzAAAzAAAzAAAzAAAyMHwPMDcevTKmnlCkMwEDMAKIooiirVA0DcQXhN40mDMAADMAADMAADMAADEweA4iik1fm1HPKHAYmjwFEUSOI0fFNXgWg0aPMYQAGYAAGYAAGYAAGYAAGYgaYG8JEzAS/YQIGxo8BRFFEUVaKGgZo5MavkaNMKVMYgAEYgAEYgAEYgIFeGUAUhZlemcE9zMDA6DGAKGoEMTq+0QOYRocygwEYgAEYgAEYgAEYgAEYaJsB5oYw1TZThAdTMDB8DCCKIoqyUtQwQCM1fI0UZUKZwAAMwAAMwAAMwAAMzDcDiKIwN9/MER/MwcD8M4AoagQxOr75B5BKj81hAAZgAAZgAAZgAAZgAAaGjQHmhjA5bEySHpiEgfYZQBRFFGWlqGGARqb9RgabYlMYgAEYgAEYgAEYgIFRYwBRFGZHjVnSC7Mw0DsDiKJGEKPj6x0gKh02gwEYgAEYgAEYgAEYgAEYGDcGmBvC9LgxTX5gGgaqDCCKRqLoWcvPE/6wAQzAAAzAAAzAAAzAAAzAAAxMLgOIolXxAEEFm8AADIwbA4iikSg6bgVMfmi0YAAGYAAGYAAGYAAGYAAGYKA3BhBFe7MXfGEvGICBUWQAURRRlDNFDQOjWIlJM50PDMAADMAADMAADMAADLTLAKJou/aET+wJAzAwjAwgihpBjI6PSjqMlZQ0wSUMwAAMwAAMwAAMwAAMzC8DzA3n197wjb1hAAYWggFEUURRVooaBhaiEhInjT8MwAAMwAAMwAAMwAAMDBcDiKLDVR7UD8oDBmBgEAwgihpBjI6PSjaISkaYcAUDMAADMAADMAADMAADo8UAc8PRKi/qF+UFAzAwFwYQRRFFWSlqGJhLJcIPjS8MwAAMwAAMwAAMwAAMjBcDiKLjVZ7UT8oTBmAgxQCiqBHE6PioJKlKwjW4gAEYgAEYgAEYgAEYgIHJYoC54WSVN/Wb8oaByWQAURRRlJWihgEawslsCCl3yh0GYAAGYAAGYAAGYMAygCgKD5YHvsMDDIwnA4iiRhCj4xtPyGm8KFcYgAEYgAEYgAEYgAEYgIFeGGBuCC+98IJbeIGB0WQAURRRlJWihgEastFsyCg3yg0GYAAGYAAGYAAGYKBNBoZBFD1r+XnCHzaAARgYBANttpejHBaiqBHEhqHjG2WYSDsDURiAARiAARiAARiAARiAgXFggLkhHI8Dx+QBjmGgMwOIooiirBQ1DNBgdG4wsA/2gQEYgAEYgAEYgAEYmAQGEEXhfBI4J49wPukMIIoaQazNjm/ZO86Xy9ZfJZdv+NPK3yUfvEL+zRnLECON7Se9IpJ/OiMYgAEYgAEYgAEYgAEYGB4G2pwbUq7DU66UBWUBAzBgGUAUNcJcmx3f2vVXyUX/7nI594ILgz8vkqpgijBKZbSVke/wAAMwAAMwAAMwAAMwAAPDwUCbc0PKdDjKlHKgHGAABmIGEEUHJIqq+KmCaGxwvb7q4stERdOBCKNX75ejp07LrP175m6Tjmtl92vR/VMnZPfVUeXIwzmwNbq+eInc9kzs/7TMvrZfNhhbLlqcx1O5Xoa3Yc8JmbVxbz0SplvzEKS99BvbtdffLu4Bhd1rWnDfXrliy9iWK2Xjtn2y40H7NyOrg7oa+5n777OndsqOLetNezP3sBaiLFdv2SczUytHNv0LYTPiHC3GKS/KCwYWmoG8X962Wc6O++IVm2XG9NfTaxc6rZ3jH/U+v0ldQBTtzEATG+IGG8IADAw7A4iiZkDSZsfXSRRVsVRXiQ5EGHVi5hH5/9s7++e6jrTO/wWiVtTWaD2gMiBixuNQiVOMnSUZwRgbIjw1JlOxQjkOZBXiVUxWIYycxVIgkvGsxQaJjbDH2hjH1o6FtizsjbCI1iIaa6zxyMbYoDX7or/m2epzTp/zdJ9z36T7cu7V5wfVfTnn9MvzfLr79ldPdw/G9RqVmfUNWb74WjTRD8XKLLFTw2qEz5kbC5mipLmWpBc28lAo1eKqyeeRLN/dkOy8wnKlRNEiIqou31bfI4rSOW+VoeZ4Ppx86YmVEf4+ypqMxX3G5tlo9glS+aLoYTl5flx6n968rZqDH+qHn2AABmCgWgwEY+T5T+Xk8bdkODUO75Xe95RQGgikeRpn0uNes4/55fi1mnPDcvLjHvobGIABGKg/A4iiSgio5sBXSBQNltX/ykvy1Wf3y9dePBjsN2r2GK0a/ClRtENcAbAcUdQIlkZYNa9a6AwBzRJFTfmz8lm++yhTWA3vXXDTN5GiiKLVY0GxXTW+SLPJ/JMWRduCiVZtokWbfYKEKFr/HyH0TdgcBmBg2zFgxuGUKOpzYMZvRNFGs1HNuWGj60L+fhvjM0zAAAyEDCCKKpGnmgNfIVH0F57+JfnGb/xW6vClqgFZDVHUiJPR0vIsATTru6D8Tt5WfM0SVsMo0slXvWvliqLRfYPB8nuzlD8Sbs33dtsAf2m8vra+IJPmWf8exULV/EGaTSYittrgWI4oGt4TL7F3lr971857YuqhYbU0f1h6neXzUVTJoWQ5YLg03Xxvl/N76bXra8WWsqcjVtpMWeJJpq23W34dMWvauI3aCep+9i3pdZbPu89+ZOvuLW9M8vTSs/fTB9AHwAAMwAAMaAbKEUWdMS3928T+EzJY/RGMqeF4qsc1fzsYfc2Me871KL9uM47bMdr+Higw7qXL4KXpPeePwfFvbee3hJdGuzsWnzyUHv+L1kvbfRPvqzk3jOu7iXLwbLoNYBNsAgMwUC0GEEXVwFTNga+QKOo7ziylN/f632/6syNMdkhb8FlHe4ZiZSweGhHRi840ome85D1DqCwoijqRpVYU9SNIO6QtTjNDFLWiZvQal0P5KXhebQkQRJ2a+63I6dc5EETVlgLBdXW/Tpv31WMRW+bAllYctINm+DmZCGV/jicuT78lJ+M9Nr17g0mMEjXt5MdOoqzAaYVKez0WC730ovvjvIPPhaJk0pOiLFH0I73EPcg/SS+YRNmyGVajSVlsm2J1zyibn56dLG66L6f95KD92HbDKxzDAAxUkQEzHunxx/b38Tj5acn9ua0QaMdMK47GY5g3Rof3qzHbH3MzxkCzv6lNv63QuKfvCdKw42w4xuvnuwvskdr9niqXU27/d0KHhPW0edh/Rqrn/XpZ227ytZpzQ9pQFdvQJv2JD/ABDMBAFgOIoqpTrebA11hRVB2E5Ame9gCkTLHR2MIXVR2hM2xElYqibpqJWNrmpx2LpSUaq3+fL4JGhzzZOmaV113qXyI/xUhWI+I77JdfBsIJRRz1oUVCw3UwAdOTiUgcjIVN17da6Mtaaq6vpydQ6cmNc7+ZCHmTRHM9nuA57bA8UTSZjIX1SMrsT9b86269jX+dsqYmh1npmTJ6tnXqkM4jvxxRVnwDAzAAA1VjoJAoqscIR2BM294dk+w/9vSYo8fJrDHKG9cyxuBkzDT56/TC8qTKEEV1hmNveswvz34qn6zfKE45yqiXtukm3ldzblhe/dO+5jlsAgMwAAO1ZQBRVA2Q1Rz4GiuK2qjIUIB0D0XSomQarjjq0ovYjKMwo9Pn3TSjdBxB1c0nFiadezIiRVMibrqMSaSpvWbSsXU23+m89Xt7f0b0quKATiexE7Zodlu4E4ZgAqOFx2DSZZeyq1d1TxiVoa4FgqmbruXEnSCpiU3UvkxaWqjU9wfv7ZI9/Zop0KbTzooU1XmZMpo8QpE14/n2MAJFi7DZdTdM+M+bz8pG8fskmsXaiNdmb1OUH4ZhAAa2yEA5omjGmKTtrsfP4PtUmnqc0u9V2bUQqt+rMTsZE9NppMrgiKImn/C3QvCP2cyxPCpLIH7qMTQaOzPK5I6/6TIFtsh8TtW7gt/81Zwbav/xfnP+wG7YDQZgoBYMIIqqgbGaA18+RFEb+ZlePm+jKF2osgVEN9KzQ2KBU9nOpON+76VlxNC70zLpnFxfD1HUL1fYkZiyaqHXtQOdDfZoFQZ88TL8HE9yUpMot95ulIgbVeJfM8wEImI88UlPVsx1LVQ6EyoziYmfdcuR5jGddjmiaFJm3y4mP9c2yb1hWZyypkRR8ywCaNpPpfzIdWwGAzCwDRkoMfZaJvxxyH5vXt0xKVr5of6h6YqHWWOetzIkQ0h080+Pu6kypETRxLcmrcwxPhBEC0S4mjL5Ky6C++14W0a9vLmKtmE576s5NywnP+5JmMEW2AIGYKBeDCCKqsGymgNfbkRReyp8HIHpiZWq/r74mUDoPuOKn6axhtfdvUndZ+J7nIjO8kVRR8T0l88Hy/ALRYpGUaE63yBaFVE08S8dbuvaImPCkDGhiEVS3R+kJjdhWnZSE0yG9GQlSFdPetITKDMpKiiKBkKje72wX8KyJOU2eX2qlt9HZdUTRG9yFUzQUtftAQ++3dy6u5PNsP0E9tDpObakjRX2JbbBNjAAA9uMATNe+uOFs4+13d7Gin9p+6QEyVSa7hicGrP9MbfqouhhOan+0Zkqrx0j/XyDsdrWOxzbk7GePUXpK9JtAZtgExiAga0ygChqB+X2DmlVUTQWJIODiCIB01sebyJHHeFR2cVAFiyrj4TV4L6M510YfVE0OmDJHoYUpJ8hinrpWqHVKVuFomhcfpv23WkJTq53ykJn4voPe7SGPXxxL/SrOzmKBMV4ybcSJoPJiV3SNi4n3xt3Ij3CdKLrZ9+S4NTaeBLkTsiMPYuLonYSaPMzr3ZilMGjFWGDcg9LtzOxiup9PDn5PiutQBi19X7vcFC+ePJVbt3VxNZJz6Qb2yKj/F4f2xq8UU/8CAMwAAOFGHDGTDv2xONc9M+31PfZ9kyJjCVEUVMmP3/9T0p3tUWYpxnT4jFRPx+Ne6kyOP9M9eqjxkrXPt597w3Lydgm6d8F5Zw+79Rri2NtNeeGbr2z/co92AUGYAAG6s8AoqgaLKs58DUsUlTVhwZV/waFzbE5DOSBgUgULXDSLT7Kg48oAxzCAAzAAAxUyEDwD1G93L7C5yucJ1Vzboiva+sr7It9YQAGNssAoqgaHKs58B06/Ir82195Sb767P6if+aeb/zGb8lmHchzNH4YgAEY8BlAFIUJnwk+wwQMwAAMNDcDUVRpHVdhVHNu2Ny2p+3gPxiAgdZlAFG0RqLonmefFyOMmojRYn/mnl94+pcQRZUf6HBat8PBt/i2PgwgitbHzvCMnWEABmAABmrFQCSCxlsK1H9bGkTRWvmWdOk3YAAG8sMAoqgS4xj48gMmnQS+gAEYgAEYgAEYgAEYgAEYaBQDzA1hr1HskS/swUD9GEAURRQlSlUxQOdTv84HW2NrGIABGIABGIABGICBvDKAKAqbeWWTcsEmDFSPAURRJYgx8FUPLBoptoQBGIABGIABGIABGIABGGhWBpgbwm6zsku5YRcGymcAURRRlEhRxQCdR/mdB7bCVjAAAzAAAzAAAzAAA63KAKIobLcq29QLtmEgYQBRVAliDHwJGDQSbAEDMAADMAADMAADMAADMLBdGWBuCPvblX3qDfvbiQFEUSWKPvO1F+UnfvLfEDmpbLKdGgN1pfOHARiAARiAARiAARiAARgwc0IzN4QFWIABGICB1mYAUVQJgLuf+Zp86cs/w+CnbEIH0NodAP7FvzAAAzAAAzAAAzAAAzDgMmDmhGZuiF1cu2AP7AEDMNBqDCCKKgGw8+e+Ij+/+1kGP2WTVgOe+tCJwwAMwAAMwAAMwAAMwAAMFGPAzAnN3LDYPVyDIRiAARhofgYQRT0B0PxHkAGw+cGmc8KHMAADMAADMAADMAADMAADlTJg5oJEicJNpdxwP8zAQHMygCjqiaI/+aWfDgZB899Bs2yCPUabE2w6JPwGAzAAAzAAAzAAAzAAAzBQDgNmzmfmfmYOaARRMycs5znugS8YgAEYaG4GEEU9UdQCbf9DaDbYNicP8ocNYAAGYAAGYAAGYAAGYAAGYKD1GDBzPlYMNrewYefxvOJHGICBShhAFC0gilZiRO6l0cEADMAADMAADMAADMAADMAADMAADMAADMBA8zCAKIooytIQGIABGIABGIABGIABGIABGIABGIABGIABGNhWDCCKAvy2Ap7/2DTPf2zwFb6CARiAARiAARiAARiAgWow8JpM3t2QB+sLMsj8l/kvDMAADMQMIIoCQwwDPziq8YODNOAIBmAABmAABmAABmAABmCgCgy8Oi3L60bMVH+Pn8jyrWnpP9BVwTwOURQeq8Aj2kkFbQ57N0ubQxSlYdOwYQAGYAAGYAAGYAAGYAAGYAAG8saAFUVvjEa+2S0HzyzIqhFJH96U/s5yhRdE0WYRaChnuUxzH6xUhwFE0bwNfJSHH2MwAAMwAAMwAAMwAAMwAAMwAAMpUdSIAFbgfCSTr5YrCthnWD6PkFQuM9wHK9uDAURRfmzwYwMGYAAGYAAGYAAGYAAGYAAGYCBvDGSKon3R/qBrMv5yIlrsOHBKJm89ipfar95ZkpE3dkc+zRZFd74yJjN3nsTPLN+elQG1LP/ImQWZv5tcf3BvSSbfPhBzsv/tSzKnnn9wb1b6YxvuFvP84sNo6f/jRzJ/eVi6bXRr51EZurYiy4/t9ScyN9YTp40glfgWW2ALGKgdA4iicaddOyMDMLaFARiAARiAARiAARiAARiAARioiIGUKLpbjowtBcvnV2+Myn47l31hVGYebsjqrQk5sqtD2nb1y+QdIzYuydBzxuZpUXTHsWlZXN+QxaunAqFyx4GxIA0jbB6P0h24uCBDr78oO9s7JL5u0zx8QebNMv7bl6I8j0j/1UvRQU5d0ntxTR6sr8nUOz2yo71Luj8Ml/0vX+6XtvYu6Z81YusjufJ+eH3PsQmZ+ug1RFHrU15hAQbqwgCiKKDVBbSKBn98gk9gAAZgAAZgAAZgAAZgAAa2OwNWFHUOWlqTKx+8FgiVdo51/LKJEF2T8cOJ6Lzjw6UgAnR+wkRf+qLoPhm6Fe5LOmAjN9s7pPcTk84TufJuko7Nw7z2XTVCZnT99EKQ/uq1U05ZgvufG5O59Q1ZnR2WHbEPowhXsxdq+1EZD0TbFTmnIlN1XrzP9gF2wS4wUF0GEEXjTrq6hgVU7AkDMAADMAADMAADMAADMAADMLBpBqwoGhy01CXd78wG0Z1OlGgsMKoT6pWIunzRRF/6ouiozKh7nNPt1zdk5oPQZztfGZXJa0vBEvpVuwzeXu8ckKl7UZ4P12Tu4mgYMWrm15Fg6qcbfg73NT14Jox4Nd8t374pI2+aiFFY2TQr2I5/IsHAphhAFAWcTYFDZ82ADQMwAAMwAAMwAAMwAAMwAAM1ZMARRU0+XVE054bMTxyJ5nFW8FySIRX16frF3mMPWopE0bvT0ltoPvzqpUCAfXBvQUZOHJXu7n3SezHcs9SKpm2d+6T39LTMBVGfJvJ0QQZf6JC2D8Io0uVP+orONXe+NCAjal/RxYt9CKOF/MH3RVlyea9hykG+MwAAIABJREFUm8QPLecHRFGgbjmo6RAZBGAABmAABmAABmAABmAABpqegZQo2iFtncNyJYjaXJERI0C2d0T7cz6RK9/pKjC380XRHjl320R5ukvutb2O+AJoe5cMBPuAJpGkyf1d0nPe7CFqxNoeaTsU7Tf6xSU5WM58e9dwuJ9psLQebhO7YgtsAQO1ZgBRtJxOmnsKDK400Fo3UNKHMRiAARiAARiAARiAARjYpgxkiaLtHXJwYiXcz/P6qOwxc1Ub1flwSUZeCU+c3/nSKZm8OiE9wVzWF0U7ZM/p8OCjB3dmpT/Y17NL9hwbk5mLw8HcrzvKwxyMtNMclBQt3TfCZxApenpaZs70yR4TndrZI0M3ov1G3zG+2ieD18NT6+1BTkFU6ZkFmXzfXH9Nzl2blv6XorK+ER769OD2Belm7s3cGwZgoI4MIIrW0dj8mNmmP2ZgjE4dBmAABmAABmAABmAABmCgUgYKiKJt8X6e5tCjMDp05xsTMncnFCKDvTsfPpL5T06FomlqT1EzL+uS7vdnZd7uC2r2GL2/JnNnohPgO4/KyI1wuXyw7+etaRm5qpbPGyHzvtrH9N6KXPnwaLL8vbNHBi6vyPLj5J7VO0sy9KrJ24ioj2TVXnv8RBY/uyR9UeQr82bmzTAAA/ViAFG00oGJ+/kxAwMwAAMwAAMwAAMwAAMwAAMwAAMwAAMwAANNzQCiKAA3NcD1+u8B+fCfKhiAARiAARiAARiAARiAARiAARiAARhoHQYQRQuIop0/9xXZ/czX5JmvvSjP7vs6f9gABmAABmAABmAABmAABmAABlqQATPnM3M/MwdE7GgdsQNf4ksYgIFSDCCKeqLoT37pp4MB8ed3PyvtX/pp+QnveimDcp1GBwMwAAMwAAMwAAMwAAMwAAPNw4CZ85m5n5kDGnHUzAnxX/P4D1/hKxiAgc0ygCjqiZ5mEPypnbsYBD27bBYwnqNzggEYgAEYgAEYgAEYgAEYaBYGzFzQzAmbpbyUk7YFAzAAA5tnAFFUiX9muYT57yBAbR4obIftYAAGYAAGYAAGYAAGYAAGmpkBMydkKT0MNzPDlB1+YaA8BhBFlShq/iNolk0AT3nwYCfsBAMwAAMwAAMwAAMwAAMw0GoMmDkh0aJw3WpcUx+YhoE0A4iiShQ1G2yzh2gaEhoONoEBGIABGIABGIABGIABGNguDJg5oZkbbpf6Uk/aNgzAwHZlAFFUiaLmlPntCgL1phOEARiAARiAARiAARiAARiAgZAB5oa0BdoCDMBA6zOAKIooihCsGKDTa/1ODx/jYxiAARiAARiAARiAgVIMIIrCSClGuA4jMND8DCCKKkGMga/5gaZTwocwAAMwAAMwAAMwAAMwAANbZYC5IQxtlSGehyEYyD8DiKKIokSKKgbotPLfaeEjfAQDMAADMAADMAADMFBrBhBFYazWjJE+jMFA4xlAFFWCGANf44GkU8AHMAADMAADMAADMAADMAADjWaAuSEMNppB8odBGKg9A4iiiKJEiioG6HRq3+lgY2wMAzAAAzAAAzAAAzCQdwYQRWE074xSPhiFga0zgCiqBDEGvq0DRaPEhjAAAzAAAzAAAzAAAzAAA83OAHNDGG52hik/DMNAaQYQRRFFiRRVDNBplO40sBE2ggEYgAEYgAEYgAEYaHUGEEVhvNUZp34wDgMdgiiqBDEGPjoFOgUYgAEYgAEYgAEYgAEYgAEYYG4IA/QDMAADrc8AoiiiKJGiigE6vdbv9PAxPoYBGIABGIABGIABGCjFAKIojJRihOswAgPNzwCiqBLEGPiaH2g6JXwIAzAAAzAAAzAAAzAAAzCwVQaYG8LQVhnieRiCgfwzgCiKKEqkqGKATiv/nRY+wkcwAAMwAAMwAAMwAAO1ZgBRFMZqzRjpwxgMNJ4BRFEliDHwNR5IOgV8AAMwAAMwAAMwAAMwAAMw0GgGmBvCYKMZJH8YhIHaM4AoWgNR9J3BP5bf/84HcQTm1375G/LNbx8r+vfigd+M7wf82oOPjbExDMAADMAADMAADMAADMBAIQYQRWGjEBt8Dxsw0DoMIIrWSBQ1wqhtKB+cnZCPzn9a9M/cY+/ntXUaGL7ElzAAAzAAAzAAAzAAAzDQfAwgijafz2hn+AwGYKBSBhBFayCKVuqEat4/ODQqD9Y34r/7//R/5dbSXfn2q78Ti65/8b1P4+v23r9d+qH84t7n43ue2/91+bvlH8n9f/5/cmr4TPy9Kes3fv2b8oMfP3bSWLn/z3Lpv10Prtn6mPRMuiaPm5//QJ766rNOOv/qX39Zrs3dCq7b/LPSNs+betl0q/lq7VWr9KtZVtKig4cBGIABGIABGIABGICB+jCAKFofO8MzdoYBGGgkA4iiLSqKWpHv1w9/OxA3jcBphE4DmxFFf/SP/yK/+9bvFxQa//1/GBQjdBrxc/bm5/JTO5+K77XC5czfLATffenLPyO//TtvBQLoDx+syxtvvRN8r0XRrPy++fJvy51IXPVFUZt2rRsHoigdcK0ZI30YgwEYgAEYgAEYgIHmYwBRtPl8RjvDZzAAA5UygCja4qKoAcIXQf3PPjQmgvPKX9+Um3+3LGc/mpQ7a/8k3/z2bxcURe3zXz/wktxeuS9/s/D3QVSoFUWN8Ln68Ilc+Kvvx2mYZ/7sLy4GaX+x+jAQVM39vuBq067VK6IonWat2CJd2IIBGIABGIABGICB5mUAUbR5fUe7w3cwAAPlMoAoWgNRtJEHLWWJfJP/9arcfbAuR4/9u0CULCWKdv/ab8rS3X8IREsjhhpR9D/9+flY0CwmXE5d+etYRLWiqFm+/9c3/06WfvhAfvlXDgXp2Gt/9f25QBDdTKSorYcRW01Uq1nqb/J68+0/kPnbPxSzdYD5/g//6MO47G+/+35QN7Mk31z7/tzfBsv3bWRtuQ2H++hkYQAGYAAGYAAGYAAGYKB1GUAUbV3f0m7xLQzAgGUAUbRGomijDlryRdFjv3tCvvjRP8rV//4/4iXwRky0e4naV71c/YM//c+BiPrq678nP/+VZ4KIUb0naDFR1AqVZmm+FT6N4PkH7/9xEC363n/8k0Cg/L2T7wVL89/6/T/MFEVtucxr1tJ7A7Cthyn7V55+Tv74Tz+StUgINem+8Ku/IZ8v3wu2DzBbB7x6/E0xy/uNQPvsL70gZmsBI6KaPBBF6RRtp8grLMAADMAADMAADMAADORCFD00LB+dH5fep11/PHV8XE4ecr+rJrPd731a0/SrWdbstA7LyfPD0q3m+vq+pH7mvrR9k3uLp5PcV9wXxl/Dx/fGgTrlPsd9xe2KfbBPNRhAFFUdZS4GPlWezTjYiqJWVDTRkn/+l59I5899Je6EtXDp52H2DjV7iNrITXPdRIlqYXIzoqhZWm+EVZO2KUuwPP/zH4j53uRl8yuWtl9WU497j/63mP1PzbWDPb8V7FFqRE+zBYD57vLM3wTiq0l3/C8vOfUw1//oT76LKLpF5ny/8JnBCQZgAAZgAAZgAAZgoNkZyMXc8NCwDJ8dl4/OviVPqd/siKKl2ldxMTMRRbeWTrmMI4qWsjPXy2WJ+6rPCqKoGlxyMfCp8mwGeCuKmtd9LxyQ+f+5In+/+lB6jhwtSxQ1S+zNUnsrqupXuydoMeHSiJDL9x7JwZ4jTqSoiRoN9hD98eNAxDTRqyYiVUeTmvfF0vbt4Yu7Wc+ae8xhUeba96/Px+9tWtpe9jteq9/RYFNsCgMwAAMwAAMwAAMw0EwM5GJuaCJF3zssvoiHKFqqLSGKNlNbo6yleOZ6LRlBFFUiZC4GPlWezTjeF/mOvPJasMfntblbcbSoLybqfIxwee8f/0XM8nb7/VNffTaI8jRL0b/2y79aULi0eX3v8rUgUtMXPO1p84s/+HGwpD9LOM0SNm05/Fe/HlnPalHU31vVpGeiYFk+Tyfrs8VnmIABGIABGIABGICB7c1ALuaGkSja9vRbMqyWg/uiqBFNPzof/XlRpTHHJo2zb0lvcG+0tDxI1z6bLDd3Rdi90nvW3qOW1QdL++33agm6/l6VRZcxWUpeIG01Jw7LYkROv37mWZVvu/4ciaKqLEmeHUpk1uJpVlnS6TjbFqj03WheVd7zw9LL8vlYW4h5VD7mu+3d1zba/4iiqjFWa+DL20FL4+cvyY8f/x/54MyfBZ2RLyZaCH3x035vXo1YavbrHBgcTomiX/ryz0j/wKngACOzRN7s32me8UVRe6q9ESHN8nnz2b8nS9i05Xi97+0gitXUx3zn1yPrWS2KGqHXCL4mYtTU1Yi4JooWUZRO2DLGKyzAAAzAAAzAAAzAAAwYBqo1N9wST0Z0e+9wMPcxQqh+b8W5QGyM7jF56fucvCMB1D4XCK1KtGxTeSWiqBYaDRdaRFScxM/694f3JOmZz+qe+DmVlpqfm/IH9VOCsPkcCpwqneAZ/TkSJWO7mM+JgJqUR9UnsyxeOuYeazPvfmP3pFy2jKZeYRpalHX84tWXa4VZwDbYphYMIIqqTqhaA58RRfVBS2f//HvJf+7sf7i81w/OTgSD3Vad7EeKmvSe//qvBQcOmRPlzb6bRijUy+LNe7Nn6H+5+GkgGpoT5P1ymEOX7v7D/wrEzF976VvBMnSbhtm39PbKfRkeHRMjkNpnfcHTfG9E1dWHT+JIVP8eK2zatO2rOUxpq6KoEWGNMGxPql/44kexLYzdbLl5pbOFARiAARiAARiAARiAge3NQLXmhlviyBHeEtEviRQ13yURnmFeSuhTc91MEdSbk1rBzxUNbTSofbXiosnbfvdpLBb6ImYogqr7ojwDcTYSaosJhklZIh6jiNentLiaKYq6dklEywKRopll8W2ZfA7EZ99+gQh7WE5a4TSyv857Szxof/Ke+TsMVIUBRFEFUi4GPlUeOszt/UMM/+N/GIABGIABGIABGIABGGgMA7mYGzqiaIcE0Zxn35Lu+PT5LYqicSSla+NEiExEQJfDUBAtGHUaRUeGIqu51wqpbj42TSswxumpOXFSlujZWomiUZ5uWfz6J58LCp1x+ZK6FrxX1dPagtfEbtgCW9SDAURR1RHlYuBT5akHAORBRwMDMAADMAADMAADMAADMAADLgO5mBv6omi0nNycSG8FxCAyU4mbgainPsd+9cW6IDIyW6xMhMhQ/ExHchpxMHk2yNOLjtTL5P0yxmXSc9+Mupr7/GfNZ1se/T7cd9WWyZRP7X8aiLT2WoFI0cyyJCJoWGb12ZRXLetP6uQJxiyfr0o0X2Jft53yPfbYKgOIoqrzy8XAp8qzVefyPB0EDMAADMAADMAADMAADMAADFTOQC7mhllCYSBmasEvFOHKPWjpKT3fDIS9ZGm7Fhut6Gr3xPTTD4TQaPn48HvDwSFO4ZL2dHrpJfTR0nYnf3e5u2XWCJ8n3zMCZJSuFnwjWwTXzg7LyTgiNRQvT6oDqJL6FBBFM8uiRNDAbu5nbQNThjgPXS4OWkIU1W2O97njAVFUQZmLgU+Vxw4EvFb+IwabYTMYgAEYgAEYgAEYgAEYgIHNMsDcMB/sBKLooXyUZbMs8Rz+g4H8MoAoqkRIBr78gkongm9gAAZgAAZgAAZgAAZgAAbqxQBzw3ywhiiaDz/Uq92RD/6uNwOIooiiuQtfrncjID86XhiAARiAARiAARiAARiAAc0Aomg+eEAUzYcfdNvgPT5pJQYQRRFFEUUVA63UuKkLgxUMwAAMwAAMwAAMwAAMbI4BRNHN2Q3esBsMwEAzMYAoqgQxBj4abzM1XsoKrzAAAzAAAzAAAzAAAzBQGwaYG9bGrvCKXWEABvLEAKIooiiRooqBPDVOysJgAQMwAAMwAAMwAAMwAAONYQBRtDF2h3fsDgMwUE8GEEWVIMbAR+OrZ+MjL3iDARiAARiAARiAARiAgXwywNwwn36hveAXGICBajKAKIooSqSoYqCajYu06KxhAAZgAAZgAAZgAAZgoDkZQBRtTr/R3vAbDMBAJQwgiipBjIGPxlNJ4+FeeIEBGIABGIABGIABGICB1mSAuWFr+pX2il9hAAY0A4iiiKJEiioGdOPgPZ0lDMAADMAADMAADMAADGxPBhBFt6ffae/4HQa2FwOIokoQY+DbXvDT2eFvGIABGIABGIABGIABGICBLAaYG8JFFhd8Bxcw0FoMIIoiihIpqhigg2utDg5/4k8YgAEYgAEYgAEYgIHNMIAoCjeb4YZn4AYGmosBRFEliDHwNRe8dDb4CwZgAAZgAAZgAAZgAAZgoBYMMDeEq1pwRZpwBQP5YgBRFFGUSFHFAB1Uvjoo/IE/YAAGYAAGYAAGYAAGGsEAoijcNYI78oQ7GKgvA4iiShBj4KsvfDR27A0DMAADMAADMAADMAADMJBHBpgbwmUeuaRMcAkD1WUAUdQTRc3gxx82gAEYgAEYgAEYgAEYgAEYgIHtzQDiQ3XFB+yJPWEABvLGAKKoJ4rmzUGUh04DBmAABmAABmAABmAABmAABurLgBHEsXl9bY69sTcMwEC9GUAURRRlsFcM1LsBkh+dPgzAAAzAAAzAAAzAAAzkjwFE0fz5hHaCT2AABqrNAKKoEsQY+Ghg1W5gpAdTMAADMAADMAADMAADMNB8DDA3bD6f0c7wGQzAQKUMIIoiihIpqhiotAFxP50uDMAADMAADMAADMAADLQeA4iiredT2ik+hQEY8BlAFFWCGAMfDcRvIHyGCRiAARiAARiAARiAARjYfgwwN9x+Pqed43MY2H4MIIoiihIpqhigE9x+nSA+x+cwAAMwAAMwAAMwAAM+A4iiMOEzwWeYgIHWYwBRVAliDHytBzidFj6FARiAARiAARiAARiAARiolAHmhjBTKTPcDzMw0HwMIIoiihIpqhigE2u+Tgyf4TMYgAEYgAEYgAEYgIFqM4AoClPVZor0YAoG8scAoqgSxBj48gconQY+gQEYgAEYgAEYgAEYgAEYqDcDzA1hrt7MkR/MwUD9GUAURRQlUlQxQCdU/04Im2NzGIABGIABGIABGICBvDGAKAqTeWOS8sAkDFSfAURRJYgx8FUfMBotNoUBGIABGIABGIABGIABGGg2BpgbwmyzMUt5YRYGKmcAURRRlEhRxQCdSOWdCDbDZjAAAzAAAzAAAzAAA63GAKIoTLca09QHpmEgzQCiqBLEGPjSgNBosAkMwAAMwAAMwAAMwAAMwMB2YyAPc8Of3fWLwh82gAEYqAUD261PL1RfRFFEUSJFFQOFGgrfMxGAARiAARiAARiAARiAge3DQB5EUXjbPrzha3wNA41hAFFUCWIMfI2BkMaP3WEABmAABmAABmAABmAABvLEAHNDeMwTj5QFHmGgNgwgiiKKEimqGKCjqU1Hg12xKwzAAAzAAAzAAAzAQDMxgCgKr83EK2WFVxjYHAOIokoQY+DbHEQ0PuwGAzAAAzAAAzAAAzAAAzDQSgwwN4TnVuKZusAzDGQzgCiKKEqkqGKAjiK7o8Au2AUGYAAGYAAGYAAGYGA7MYAoCu/biXfqCu/blQFEUSWIMfDREWzXjoB6wz4MwAAMwAAMwAAMwAAMJAwwN0xsARfYAgZgoFUZQBRFFCVSVDHQqg2dejGIwQAMwAAMwAAMwAAMwED5DCCKlm8ruMJWMAADzcoAoqgSxBj4aMjN2pApN+zCAAzAAAzAAAzAAAzAQPUYYG5YPVvCJbaEARjIKwOIooiiRIoqBvLaUCkXgwgMwAAMwAAMwAAMwAAM1I8BRNH62RqusTUMwECjGEAUVYIYAx8NsVENkXxhDwZgAAZgAAZgAAZgAAbywwBzw/z4gnaBL2AABmrFAKIooiiRooqBWjU00qUThwEYgAEYgAEYgAEYgIHmYQBRtHl8RbvCVzAAA5tlAFFUCWIMfDSkzTYknoMdGIABGIABGIABGIABGGgdBpgbto4vaZf4EgZgoBADiKKIoqlI0Z0vnZLxz9Zk9fGGPFiP/u7flAFlq0JAbb/vX5PJu8pOd6flSO7t1IxlbrFO/IOFpG2tb8jMBzWsXz3zyj37NbQzdU+NJdtvPIAvfA4DMAADrcQAoig8txLP1AWeYSCbAURRNZFt/MDniVVWkIxfF2RQlbf6UHdJz3eXZDXOT4l967XOOxvQ6tex2vl4Pislinbuk97T03Ll1pqs3tf23ZAHj5/I6v1HMv/ZrIwc21dDgaHCMteUOesPr0yWwVtjsqfS/DuH5cpDz7a1Fh4rLWM9hcp65lWpHbi/hu3cti1e8z+O4CN8BAMwAAN5ZKDxc0O4yCMXlAkuYaC1GEAUVZPyxg98BYQhKxDVWJjccWJWluO8fFEJUTS78/N8VlAU7ZKeDxdkWUffFrT1hixffK2GYkm5Za5nZ+eVKbbNkgw9V1k5dnznZqawX9NoTNWPZHPi1aGeQmU986rUDtxfw3buMYetsTUMwAAMwAAMVMRA4+eGjOVl/a6G64q4xqa0KxhwGUAUVZ1o4we+QsKQFShrKUzuk6FbNp/wdfHqKTm4ywWGBuTbw/NZpijaJb0X15zl0vG2BLH459oeUTSxx+LHRyoY6NMcW1sjioY2zZUdVP9L3+L3LXyGCRiAARiAARhoJAONnxvi/0b6n7zhDwa2BwOIompSnp+BzxPaahwhGjb2U+6S40xxb3s0iso6P89XGXbb8W46cnH181kZfL1H9irReefzPdJzYlTOXVuRuY+3eaSojqjNsGlBHx2+JIsFhOZciYH1jN6sZ16qPy3oI+6pQOSnz4UjGIABGIABGGgUA/mZG8JAoxggX9iDgdZnAFFUTdDzM/B5QltdRNFRmdFi0o1RJu6KjcKdoeerlICXjlxc/qRPdpSVdq06oFJlrlW+xdL1y/RIbeXwSKbeKPZscu345UdxRO7q5ysqjRofZlSpP+spVNYzr0rtwP30szAAAzAAAzAAAzllID9zw+S3buE5CfdgGxiAARjYDAOIomoQzs/A5wlEiKI5/rHo+SolinrX11dkpMI9MjfTsIs/45UpVeZGdKZemW7cdCKXV2eHyxCS+2Xqnl12/0SuzNbxhHfVjxS3fWTbegqV9cyrUjtwf477tkb0A+RZVv9Bu6HdwAAMwEBdGMjP3JDxkfERBmAABmrFAKKo+lGRn4HPE4gQRevyw2dzjczzVUpg9K4jihbwpWenG6Oioz4fPLwpA53FBwLngKV7s3I8z2JgPctWz7xUf7q59lTcx6SJfWAABmAABmAABurFQH7mhvi8Xj4nH1iDge3HAKKomsTnZ+DzBKJMUdS7JxbjDsjxsZsyf/dJvIz4wcNHMn9tTI6o/SvDxu6loZfPe+/j/RhfnXaWJIcHAnVJ9zvTMmej9B6vybmX3ca040C/DF1cCMq1qveLfPxElm/flJE3ewpGAg7esNF/5jU6bGrXazJ0fU3itGaHM8S2Lul+c0Kmbq3J6kOVxsMnsvjZtAy+sjvjGbfcbZ090v9xWG57YM+Dx+b5S9J/oEva2j0bxn6w6fTIudsq7/UNWby41eXzu+XIuxfS9VrfkNW7KzJzcVR6nzFls2XwX0uV2d5v7Dcmk9dXZPm+4smwcd8wNSHHAxvY+/Vrdh47DpySyVvJEvfFiaNROb37zfYNHmtzZ/YVqZO7TcHy5X5pq1QM7OyR42emZeb2o4QrU9fHT2T1zpJMjQ2UffDYzlfGQv8o1o1vrpx5TXYav5Qo25GLiY0erD+SyVe1bfV7z24p/krn5XBibDA2K3N3njg2WL2/JnMXRzP6EF2WDtn50oCMXF6SRY+XVcPL9WkZOlbMh25aTrkKsswz2AkGYAAGYAAGYKA2DORnblib+sENdoUBGICBDkEUVZPt/Ax8ntBhhUBV1kwxrrNPxr9wBbhYyAuErAUZfEE3fD+fws8WE0UPnlmSVUdE1SLOERm8rgWewnkszw7LfqeOYVlTomjngFomHaXn74G6q1/GP/eEPKeM4XOLlwcy8zSdw45jF2T+fuHyPlhfk8ljfTJ5V92TIUodnFhJBOqoDIuXT0l3icjHrA5q5ysTMle0TLYsT2R+opD46vk9o8xtL43KjK5Xhu1Cth7Jle8cyBArM/I4PCZzWpxe35BQVDd+9u4P/HnE5fn2BenO4COw03MTMh+XcU3GD1ciBhpRf1YWlYDptJs4XSOQFqqvbVcHZOBacd5Xb4zK/hyKojvfuFSCd1P/NZl6O8vfpettbJr429qL16x2zndwAQMwAAMwAAONZyA/c8PG2wIe8QEMwECrMoAoqkSW/Ax8nkBUlig6K5M3SouAq7OnVESmn48V1NKvBUXRq7NKjLLPaVHUO8BJC0yp909k5oN0JJkrii7J1NUM0UmLop19MnnHlqX06+L5jJPeXxiVGU/AyxTKHq7IvBYPswTGQuV5/EjmPj5VdvThjmPTBU9WzyxbwahUz+9ZZfZEu0LpB98/XJDB1D6pfh6zMvV52heJSObdH/lzz5klJShHYqdqs7ZjPvjxWnLfrTHZY+7x6hAz7D1vBEpX1E+X062/4TRLGOyS3ouqHCm+k3Tnb7v3+WWrd6RoZWytybgTuVp+vRN/86PCsssrLMAADMAADMBAPhnIz9wwn/aBW/wCAzDQCgwgiiqBJD8DnycQlSOKRgLM6mcXpO+lcFn4jmeOSv9VV3x5UHBPS0+81CKjspG/pNmKRYvX7JLt3XLw3QkZjJfPR+kaAfDimPS9/GK4fLi9Q3Y+3ydDfhRpRjSgK4pGwtL9JTl34kiQ1o5n+mTkzKkoWrFL+mddcXj5+pj0du8LxeDOfdJz4oIXbbkkQ46od0BGfAHv3oKMnDgqe4Lozi7Z860BGfHLbnyQJTAa+70wIFMFo3ifyPzFEpGjz6VF2tXPZ2XwdWvPQmXyBSzTcXt8ZZXZCop3l2TyzID0PG+3Gtgte18fkxmTJyV2AAAb2klEQVS7VULE3fxEjxct6uVhBcIvbsrgsdAXO186JSOniyyfN3brHHYOXAqWxWseg/f6gKUNiZfZ2zpEefvCY9CBv3opJTQvX5+Qvm9FvLSb+o7KlB91nCEE7zgx62wt8WD9icxfHpVea7tdL0rv6VmZzxDb/bLVVRTtPOXY2ETDzpzpk/3RFgymH+mb8KLBrfAc2N/rOx6uyOS7R2Wv3a6jc5/sf3lARq6tyNzHGf+ASPmTHxet8OOCOsAxDMAADMBAszOQn7khLDU7S5QfhmEgvwwgiqoJeX4GPl9QivbRVGVNCVtmP0mzLNe5x4CXFvhmTmcB6QkbFYiiy58UWqZt8hmVqc8miuxF6C2RzhCAU6LowyUZcrYBUPU57IpcBffvfEEvt94QR9R7wxO37kxLb+ZS9y7p/cSLWs0SGK1PzP6kF1cKRyXeX5HJzKXJHe6hQ2YZ8uX+WFx2O9h01F765HaPr6wyn56VubFo/0tbfv3q2flBihcvj0gwzraj8Z93f5xelwxokfv+rPTpcpj3795MbKoPZCopirr7kBoRc+5Mob1tD8igF4m9+PERJQSn08qOJjUCeXobgUaKok6UbbAlRPZ+tPu/q7eBWJFzh6J25+39SjSo6o98Vvms2gx2cvtu7IE9YAAGYCBvDORnbggbeWOD8sAkDLQOA4iiapKan4HPE4gyhMKUiLReeGnxjg/1EmRPAIzrv0lRVItQcVqVNRBXWFySIU+A9EVRV4xy83Ii7LIEtLiM3gFIn43F2wo4aaw/kSvfyRaJgo6w07NblsAY5xmW1Rw2NP6ZJ6baSEojzH33aFyWsLP1eChpczdy0pzc3u+UwUuvjDKnO31vL1Vlv8wyl7JjQVG0Q9ockdr3hyuaOpGkpURR33dfXJKDjp1cttqeG5O52E8b8kBHNVeYlsvYhjROFHVZWL06UFi0OnTB2Spj7sOoXXR6dnm4IEMFD+DybFrM3lwr7Atsg21gAAZgAAZgoOYM5GduyO+n9FwEm2ATGICB6jCAKKp+UORn4HOFivjEdVXWlCh6d1p6nesKkLIiuTxxL47UU+mY9L20HqTEMO9+Vaadz/dI77tjMjQxKzPXl8KT6FNLifV+pGFarij6SCaPFcpjX3rZuxaxir2PhUEvjZSg6Oft+SpOx78v/XnHgX4Zue5vb2C2B/D2rHQOEdoQsy9sqQ6w76reQkBF9QX+qKTMu2XvoT7p/3BMzl1ekJnPwpPoV/1DiVL19vJYT4vdbh28+x3+vGjiG6OJaOwIlY9k6g1l51Ki6InZJMJ0vdA/C1R67UXYqDStEmVzRdN0m0hs59kt5YcSe6t6bNntMMp5TSJC98ngdc1buMXF4q1ZGYm2uEjKq+3Je+wCAzAAAzAAAzCQXwbyMzfMr43gF9/AAAw0OwOIokq0y8/A5wkd5USKZokhtm6ekJmIGboBb04UzU5Lp2tO9p6WOW8PysKiS1oAckXRrK0EbH6+3ZKDbQrnF90T289LI/7e5uG/Vnq//3yHmMjRKf9gKCPG2ojZsvznpltcVCujzMFS/yVZ9sXPQsJyyk5l5GH5zBJqHVG0Q7on9NLtZA9YZ+m3H+lZQngs9yAm3ckXZLFUXk5dSwiV7R1S3H/a12XYuVjZPLZKthPlf6ftd/bJeKE9cx+vBQeKdVuefVvwueQ/OTSDvNf88x4eYAAGYAAGasdAfuaGtasj/GBbGICB7c4AoqiakOdn4POEjiYWRY985O2heWdJZi5fkKEPR6Xv5R7pfn53SQGooBClfBc2ZN9uzSGKBmXvHJApRzh+IlfejTpoT7hyxKiUDcJniotqnp0yBM1zt93Iv8VbCzI1MSZDpwek51CP7N1VOo3Ju8r+qTz8wcdLzxNF/aXr4RYK7jPxAUvWJsXEQHNPqes2HfVakMVK0ypxf3H/adu5Nsg86KtYXh5bmxZFAxvtliNmL1qHY8XA/QUZLLQXsLLxdh+Uqb/mm/fwAAMwAAMw0DgG8jM3bJwN4A/bwwAMtDoDiKJqMp6fgc8TOppVFHWWNm/I/Fj2ITalBKCCQpTyXdhQvX1CSwpxWR2cZ/ui+5Ka5729NTeVZ1gOd2/VDVk8H53M7u3lWHTfx8gm/vL5ked0Xb06emXec0bvQbsiI5n7QxZPI2t7hyMpfxUpky+Ktrt7hz4wUaHOXqNJ9GjcaRcTA01Z9AFNZvn8d/eViNjzls9rNry8SqXl7/Nbck/RgltGlPJDCfHXY6scwT22b0F/dsmeb4WnzacijW9fKL5va8E0NSu8L+0DbISNYAAGYAAGYGCrDORnbogvt+pLnochGICBQgwgiqpJeH4GPk/oaFJR1BV+Cu0p6QlN61tZPt8h/fqk8vUVGdlEZNrgdRXdtu7tU6l4CRqVfwq7JzAWanhZ3/ui6PxETyTSDcjUfVWme7PSV3QpsnfQUqpMHl/O9S4Z+kzlVWjPWH8vSicN0+EWyyOrQ/buT4mi/oFLKzJzPTmsanV2ONln1PrIEyp94bHNr8PnE7LfPpv16on8D/Tepi9fkkW1tPzBrTHZk5VG8J0n8K6nD1py286GxIca+Wn6dUj5oYQo2n5Kruh9fUvZwM+/1Odd/TLpbA2xJuMvZ/mf77L6BL6DCxiAARiAARhoHAP5mRvW2gbRNmpZvyNL/dbjeomgilr7jvTpI2FgqwwgiqqOPD8DnycQNako6kaArsn44XSD3XFiVpa1mLRFUXTHd246h+es3hiTSvcy3PNdvX/lhjwoJBR19nmCz4akly+PytRnE9L7TJET7A2DxZbPt3dI/zVvOfsn/bJTsZt0BF3Se9E9vMk5kT14xuPL+QHkXfP36Qye75K+q4kgGSy5dtIwfvbSSV33WfDuzxJF2z2xN+amgHBdShRt9yKLzQFXH2ZHM7e1H5DBG64P3OX6nnBtxPQT2T7f/8GCw6ixX0qw9aJYsxksxw+lRFFfoC1mA99n0edXL8iVjwvx2CE7ncjj9D89EnYLpJ/JOfdiNxiAARiAARiAgdoykIu5YdZWRw8fyfzl4YrnOIV5QRQtbJvaMka+2BcGGs8AoqiacOdi4MsSrZpUFE2Ji3dmpf9b+8KIvl0vSu+ZBU8QNRGKadGk/OXzpkFlCGd3l2TydJ/sV8LkjmcOSM+JUTl3eUkWZ0fd//D5EYHrG7J6e1YGX38xEiJ3y97Xx2RG75lpBbqU+JccYGVO4z73bl+wj6rt/HY+3yO9p2dlXkeCmrTuzcpxxWbbCxMyb/OIXlc/12Xqkj3dfTKkoicDsfLhggw6S+eNjTwB0imzH7m7IYtXT0lPZLudz2fkYcrjpFEqj6yOzytTpijaIc7BStYevq2s3UqKoh2SFuU3ZPn6hPRZTtt3y96XT8nk564g+uDOJfG3Azh+2ROK1x/JzNhAbLsdzxyV/oveHrtRHVKiaGfCjd3nc/n6WCyul++HUqKoH4EbRgkvfzYtg68fkD1xRLLh66j0nb4gU7fW5Mpp5UP7Y/3ugoycOCp7d0XXOvfJftNOnD1GV+TcIfWs9RWvbh+EPbAHDMAADMAADDScgVzMDe3vLPvbuHOf9I4tBf9gX70+WmRlUiW/txBF7dyM10q44V54aQ0GEEXVD47GD3yeMGRFn/hVn7zu3ZsSpRSgdjCN0sneN9ATYezAq+wTNPqy0oryPnwhJeRZgSd+fbggk07U4VZF0Q7ZcWzaXcoc208tC9ffZdT1oHPaeYHnjFh6/ZJMaXE05QfPrjrfgu/XZPJYOsowK8IwtmNmWtnpFBdFO6Scuq/emC5R7wr4DBjz7s/wScBfhmAdHrqkeLfMliGKtrWnI2uL23RDHhihOWtbhk5vKXqmTwxLazJ+cUF0PilRtL3L2wqiAIN3FlxxPsVfGaLoJmzglNfrE3S9/PfV+/Ge4W/rd14bPonkByJ8wgAMwAAMtAIDjZ8bdkib/Z3l/Da2QQzV+mczomgr8Eod6HdhYHMMIIqqCXTjBz5PGEqJKk0mihqxZSI7Mi4US9Zk6u0DVTx9PmkEO9+4JPN6r8SULZXIdH04Q0TYLce9Zegpgef2Bent9HyWEqWGZeaxyqtYOcy1e0sy/sbujPKEddv/9qwslpPe/ZUi6ZQoc2ef+KfPO3W/Myt9L5RIo2g0auKnpOP20nN++On7u8SNHM44YMm26bJEUZN2l/R8N/yPu1PPLF/dvSkDmQdPhWXccWBMZvyoXyedR3LlOwfKO/k+a3sGnVYgznp2S/FXjihqyr5bjn9crK26DM+8r3xif6zrsmW8X/1sQnriyFP1vPUXrwXbfdJOsBu2gAEYgAEYgIF6MdD4uWEhUbQj+j2cBJMcObMg83fVyqZ7SzL59gHnt8WOA6dk8tYjWbVziYePZOodw5MviiZBA8uzw+Ge+8+dkvFba8mzj5/I4vUx57edmX/N2RVCwfXp6J/3eg67W0xZF+087bG3FUDnURm6tiLxYZ2Pn8jcmD1nAfbrxT75wNp2YgBRVE3EGz/weQJHSljQA4p3b5YYYuvmiRZ1ixQN8u+S7jcn5MptNQCbQfKzS9IfiUvu3qPJ4G4boiuCaRuU6Kw6e+T42KzM3XmSDODGpo+fyOr9NZm7Ni2Dx6Ll/NZW3uvOV8bcspvo0DtLMnXmtWgpfRl+MMtc3p2QyWtLwY+V+IdI5N/V+49k/vq0DJ04UmCfUK+eu45IX4F6Ld9eCLYKSJY9e88G9SunzMZ2N90fVw/XZO7jU9H+RaXSKHXdL5d3f0FRtEOcfWOLHWhUtigalmXHM30yeNH7QWl89PCJmK0PRsr1T2eP9H+8JIv31Q9Ts/fT9YT5tnLLViita2NyJFim7tktqx8oN6/2DtlxoF9GzJYSuuyRDQz3Vy6Oxkv4bfs0onL3m2MyeX1Flj1B2LJdqp0laflc8BnbwAAMwAAMwAAMNIaBxs8NC4miR2T8C/MP6wUZjP7hPHBxQYairb6Cf9IHoqMKHnj1UhhYce+mDL5kAjB2y8F3Z2U82BLJFUXt6rTVG6PJIaQvT8jURbul1m45/kl4hkF8doFdIWi2SzNzPPMb9qo958DO36zYuiZT75h9/Luk+8Nwr/0wHbtS6pFceT+8vufYhEx99Joj7tIeGtMesDt2b1UGEEWVCJaLgU+Vp1Who150qDAAAzAAAzAAAzAAAzAAA3lmIBdzQxvcYgMGdr0ofdHqnsWLfeFZDRnzx76r5p/zT+TKu4axfTJ0y4io6eCT0P6JKNprtyG7My29xVb4PBedd3D7gnS3d4jNb+pttQVY57BcCcTZSBSNtsFanR1W5e6TSbMV2cOb0t9+VMbvmHKuyLkiK7PyzAxlo0+DgeZjAFFUDSK5GPhUeWhQzdeg8Bk+gwEYgAEYgAEYgAEYgIHmZyAXc0MrikYrzIKtnu6vyUy8ai20885XRpNVaXZp+vqGhPvAR/ve352W3sy5ZiSK3l8Ll7Vn7Z8frcCbMUvo9YqiYJVSj5y7bcTMJRlyhFS7oikSRU+7e+q721aF9xw8k2xptXz7poy8aSJGm58l+gN8CAP5ZQBRVHWyuRj4VHloOPltOPgG38AADMAADMAADMAADMBA6zKQi7mhFUVtpGjWXNEsjTei6b0FGTlxVLq790nvxUfBoZ6hKJpEgh7Jej7eU3RJZoJITf+w1n0yeD2MPJ2/PCq9h3pk7y6dpid+xnl430dbOi1/0ld0OfzOlwZkRO0rWiwilvbXuu0P3+LbejGAKBp32h2Si4FPladeEJAPHQ4MwAAMwAAMwAAMwAAMwAAMJAzkYm5Yhihqz2cIBVBT/i4ZmA33tg+/s5GcazJ+OKlf4mslcL4wKjNBpKkWRtV1O1c9HAmxQaSoPQj1iUydUOnbJfZm71Pz3KELMm/E2y8uyUGbTrHXXcNhWYKl9SrdYs9wrajgnPgce2ILGLAMIIqqjjMXA58qj3USrzRYGIABGIABGIABGIABGIABGKgfA7mYG5YhinZPrARRoeawop3m8KJ3ZsPI0Xj5fIfsePemrBpB0hyEZA9aOn1TJjMOWtph9xWNl9FHy+8fLsmQ2etz12sycis6UDQ65DNJf1qOm8NA9T1WFG23Eacbsng1OrzVHEh7ZkEm3zd+fU3OXZuOytchO9+YDusR7VsK+/VjH1tj6+3EAKKoEiFzMfCp8mwnEKkrHS8MwAAMwAAMwAAMwAAMwEBeGMjF3LAMUbSt86iM3AiXy5t9OpdvTcvIVb18PmRq/9uXZO5OJGaub8jq3SU596q55keC2lPijYgaHri0/+1Zmbd7lT5ck5kPL8mcEVkjUdREp/Z8uBCecG++f7gmc2NjMmUOUYpF0Y7gVPqByyuy/Nh8H/6t3lmSoaAcPTJ045Gs2muPn8jiZ5ek7wXaRF7aBOWAxVZkAFFUiZC5GPhUeVoROOpERwoDMAADMAADMAADMAADMJB3BpgbbpXRAZm6r4XTrabH83lvM5QPRpuRAURRJUIy8NGIm7ERU2a4hQEYgAEYgAEYgAEYgIHqMsDccIv2jPYdXZ0d5gR5pTnQTrfIFbZk39gqM4AoqgzKwEcHxSAFAzAAAzAAAzAAAzAAAzAAA8wNK2Dg1QtyxZxM/0xXcNDTnm+dkqnoJPvxYGl8BWmp+TntELvBAAzUmgFEUdXpMvDR4Grd4EgfxmAABmAABmAABmAABmAg/wwwN6zAR4dG5Yrar/TB4yeyfPumDL2ym6g2pTfQ7itgCrvRdurEAKKoMjQDH50UAxUMwAAMwAAMwAAMwAAMwAAMMDeEAfoBGICB1mcAURRRlP9AKAbo9Fq/08PH+BgGYAAGYAAGYAAGYKAUA4iiMFKKEa7DCAw0PwOIokoQY+BrfqDplPAhDMAADMAADMAADMAADMDAVhlgbghDW2WI52EIBvLPAKIooiiRoooBOq38d1r4CB/BAAzAAAzAAAzAAAzUmgFEURirNWOkD2Mw0HgGEEWVIMbA13gg6RTwAQzAAAzAAAzAAAzAAAzAQKMZYG4Ig41mkPxhEAZqzwCiKKIokaKKATqd2nc62BgbwwAMwAAMwAAMwAAM5J0BRFEYzTujlA9GYWDrDCCKKkGMgW/rQNEosSEMwAAMwAAMwAAMwAAMwECzM8DcEIabnWHKD8MwUJoBRNGciaI/u+sXhT9sAAMwAAMwAAMwAAMwAAMwsJ0ZaPRkHlG0tJjQaB+RPz6CARjYKgOIojkTRbfqUJ6nU4ABGIABGIABGIABGIABGICBrTGAKLo1+8Ef9oMBGGgGBhBFEUXZU1Qx0AyNljIyuMAADMAADMAADMAADMBAbRlAFK2tfeEX+8IADOSBAURRJYgx8NEo89AoKQMcwgAMwAAMwAAMwAAMwEBjGWBu2Fj7wz/2hwEYqAcDiKKIokSKKgbq0ejIg84dBmAABmAABmAABmAABvLNAKJovv1D+8E/MAAD1WAAUVQJYgx8NKpqNCrSgCMYgAEYgAEYgAEYgAEYaG4GmBs2t/9of/gPBmCgHAYQRRFFiRRVDJTTaLiHzhUGYAAGYAAGYAAGYAAGWpsBRNHW9i/tF//CAAwYBhBFlSDGwEejoGOEARiAARiAARiAARiAARiAAeaGMEA/AAMw0PoMIIoiihIpqhig02v9Tg8f42MYgAEYgAEYgAEYgIFSDCCKwkgpRrgOIzDQ/AwgiipBjIGv+YGmU8KHMAADMAADMAADMAADMAADW2WAuSEMbZUhnochGMg/A4iiiKJEiioG6LTy32nhI3wEAzAAAzAAAzAAAzBQawYQRWGs1oyRPozBQOMZQBRVghgDX+OBpFPABzAAAzAAAzAAAzAAAzAAA41mgLkhDDaaQfKHQRioPQOIooiiRIoqBuh0at/pYGNsDAMwAAMwAAMwAAMwkHcGEEVhNO+MUj4YhYGtM4AoqgQxBr6tA0WjxIYwAAMwAAMwAAMwAAMwAAPNzgBzQxhudoYpPwzDQGkGEEURRYkUVQzQaZTuNLARNoIBGIABGIABGIABGGh1BhBFYbzVGad+MA4DHYIoqgQxBj46BToFGIABGIABGIABGIABGIABGGBuCAP0AzAAA63PAKIooiiRoooBOr3W7/TwMT6GARiAARiAARiAARgoxUAuRNFDw/LR+XHpfdr111PHx+XkIfe7UvWp5nWT//DxvU07j+x+79OC9kuuHZaTGbZP7GiuD0v3FueSzW7LxB6N45EyYPutMIAoqjqxXAx8qjxbcSzP0jHAAAzAAAzAAAzAAAzAAAzAwOYYyMXc8NCwDJ8dl4/OviVPqXkioujmfGrbQiJ8ptMpds0+H74iirr2SNuS69ikGRhAFFWDSy4GPlWeZgCIMtLRwQAMwAAMwAAMwAAMwAAMtBoDuZgbmkjR9w6LL9Qhim6tvfn21OwWu6bva2tHFHXtsTWfkBb2axQDiKJKhMzFwKfK0ygoyJcOCQZgAAZgAAZgAAZgAAZgYDszkIu5YSSKtj39lgyrpdq+KGqEvI/OR39eVGnsQ5PG2bek+/h4fG+yBN8IfEkaztL4IG97LVwurpd8m/fxEv9gub+9Vy/73yu9Z9X3x0OxNy6bfi4uv34me7l7KGCqsjvP+vknnws/16EEaC16ZpUluq7KntizQ0Kf2TrrZfaqvOeHpbfJtyKIfYiO0bTbSWx3HyKKqsabi4FPlWe7w0n9+SEOAzAAAzAAAzAAAzAAAzDQCAZyMTe0omh7hwTi43uHA+FFi6KBIBp9b+yk73PsFombseDpCa3JvVoMNO8TMdHeY/II0jHli4VIj1NVdreMkcBoy6zus+WP07b3FJgjB+kqsdh8Dutn8tDldj8Xfq6AKOqVMbRDJG7aMmpbRAJ0vOVB/HxY99gHQbSpLbNnvwJ1tj7gFXvBQHUYQBRVnU0uBj5VHiCvDuTYETvCAAzAAAzAAAzAAAzAAAxUwkAu5oaxmGZ8lwh7iShqvtNRiOY+LWoqn/tCXbsWACMxNY4WjQRFJ/8krUAUzdjrNCyjjY78NBJMk3LH9lfpBiJunG/0rBEafRE3Y55sxM1UdGYg0vp5up8LP6dtouyYWRZ1PSib+mzq59cpKNdhOemJyLHAnFG/2F5cIwoTBmrGAKKogisXA58qD51gMvBiC2wBAzAAAzAAAzAAAzAAAzBQLwZyMTdU4mFQb/M5WgIfioHVEUUDYdJGPHriaxLVmLAX3H923FnSbwXRWKSMRVglFtq5rqpXKVEwyOu8J35G6RQWN10RVAvKxo6Fn9PX0uV2y+JfV59V/RxeY5u4tsyysfOctRuvNRPGsHfC5HazBaKo6lhyMfCp8mw3GKnv9u2I8D2+hwEYgAEYgAEYgAEYyBMDuZgbZohrRtAzJ9Jb8dF8NocxWdsFwp36bL8PIy/VkvIg+jGMMg3SPL43TCP4PrpPv1fz1FjINOWLl68bUTBJPyhHFBXppB+IrqrMThoF2kCGHUy9/LrrfPR7v+6lngttq0ROVfe2uCz+dfW5gN1SwjHL52NuY061rXmPferAwP8HxFdfA0YWwFYAAAAASUVORK5CYII=)"
      ]
    },
    {
      "cell_type": "markdown",
      "metadata": {
        "id": "hCizGnN2NkpA"
      },
      "source": [
        ""
      ]
    },
    {
      "cell_type": "markdown",
      "metadata": {
        "id": "lZJCap_IEc8q"
      },
      "source": [
        "## **Preparing the InfraredSolarModues Dataset**"
      ]
    },
    {
      "cell_type": "code",
      "metadata": {
        "colab": {
          "base_uri": "https://localhost:8080/",
          "height": 83,
          "referenced_widgets": [
            "34ad874c4ebe407ca6d0fb4bc3b93461",
            "56b9760a17b84560a38e9f57ec59d6f9",
            "18e09346b9694427970be2b275097bf5",
            "dfa10dc5173c4ce3827064f29a8a9fb6",
            "2580ede858f84e848465ab1d0e9294f4",
            "2b23b2ca7f94495f9dc5fd8a5b55c419",
            "aef1d66902de473d8810afe215c788af",
            "bb36124e015b4c9e866696bc7ef56534"
          ]
        },
        "id": "6PykVygxEc8r",
        "outputId": "f0c6ca03-ddb3-42fe-bcb0-1e6cadaf62a0"
      },
      "source": [
        "# Download the dataset\n",
        "dataset_url = \"https://github.com/LucasGabrielCardoso/InfraredSolarModules/archive/refs/heads/master.zip\"\n",
        "download_url(dataset_url, \".\")"
      ],
      "execution_count": null,
      "outputs": [
        {
          "output_type": "stream",
          "text": [
            "Downloading https://codeload.github.com/LucasGabrielCardoso/InfraredSolarModules/zip/refs/heads/master to ./master.zip\n"
          ],
          "name": "stdout"
        },
        {
          "output_type": "display_data",
          "data": {
            "application/vnd.jupyter.widget-view+json": {
              "model_id": "34ad874c4ebe407ca6d0fb4bc3b93461",
              "version_minor": 0,
              "version_major": 2
            },
            "text/plain": [
              "HBox(children=(FloatProgress(value=1.0, bar_style='info', max=1.0), HTML(value='')))"
            ]
          },
          "metadata": {
            "tags": []
          }
        },
        {
          "output_type": "stream",
          "text": [
            "\n"
          ],
          "name": "stdout"
        }
      ]
    },
    {
      "cell_type": "code",
      "metadata": {
        "id": "4tPc4XUCEc8v"
      },
      "source": [
        "# Extract from dataset\n",
        "with zipfile.ZipFile('./master.zip') as z:\n",
        "    z.extractall()\n",
        "\n",
        "with zipfile.ZipFile('./InfraredSolarModules-master/2020-02-14_InfraredSolarModules.zip') as z:\n",
        "    z.extractall()\n",
        "\n",
        "# with zipfile.ZipFile('./2020-02-14_InfraredSolarModules') as z:\n",
        "#   z.extractall()\n",
        "\n",
        "shutil.rmtree('./InfraredSolarModules-master')\n",
        "shutil.rmtree('./__MACOSX')\n",
        "os.remove('./master.zip')"
      ],
      "execution_count": null,
      "outputs": []
    },
    {
      "cell_type": "code",
      "metadata": {
        "colab": {
          "base_uri": "https://localhost:8080/"
        },
        "id": "dfH0nrQDEc8w",
        "outputId": "63a366e0-453b-4714-a02f-43e229994612"
      },
      "source": [
        "# Looking into the data directory\n",
        "print(os.listdir(\"./InfraredSolarModules\"))"
      ],
      "execution_count": null,
      "outputs": [
        {
          "output_type": "stream",
          "text": [
            "['module_metadata.json', '.DS_Store', 'images']\n"
          ],
          "name": "stdout"
        }
      ]
    },
    {
      "cell_type": "code",
      "metadata": {
        "colab": {
          "base_uri": "https://localhost:8080/"
        },
        "id": "zniccWtYEc8z",
        "outputId": "823c036f-f4ef-4b46-bff0-e2128a45f3ec"
      },
      "source": [
        "# Counting the number of images\n",
        "print(len(os.listdir('./InfraredSolarModules/images')))"
      ],
      "execution_count": null,
      "outputs": [
        {
          "output_type": "stream",
          "text": [
            "20000\n"
          ],
          "name": "stdout"
        }
      ]
    },
    {
      "cell_type": "code",
      "metadata": {
        "colab": {
          "base_uri": "https://localhost:8080/",
          "height": 204
        },
        "id": "XDBz3_i6Ec81",
        "outputId": "28b464ab-f073-41ca-88af-86782a313932"
      },
      "source": [
        "# Looking for class names\n",
        "classes = pd.read_json('./InfraredSolarModules/module_metadata.json', orient='index')\n",
        "classes.head()"
      ],
      "execution_count": null,
      "outputs": [
        {
          "output_type": "execute_result",
          "data": {
            "text/html": [
              "<div>\n",
              "<style scoped>\n",
              "    .dataframe tbody tr th:only-of-type {\n",
              "        vertical-align: middle;\n",
              "    }\n",
              "\n",
              "    .dataframe tbody tr th {\n",
              "        vertical-align: top;\n",
              "    }\n",
              "\n",
              "    .dataframe thead th {\n",
              "        text-align: right;\n",
              "    }\n",
              "</style>\n",
              "<table border=\"1\" class=\"dataframe\">\n",
              "  <thead>\n",
              "    <tr style=\"text-align: right;\">\n",
              "      <th></th>\n",
              "      <th>image_filepath</th>\n",
              "      <th>anomaly_class</th>\n",
              "    </tr>\n",
              "  </thead>\n",
              "  <tbody>\n",
              "    <tr>\n",
              "      <th>13357</th>\n",
              "      <td>images/13357.jpg</td>\n",
              "      <td>No-Anomaly</td>\n",
              "    </tr>\n",
              "    <tr>\n",
              "      <th>13356</th>\n",
              "      <td>images/13356.jpg</td>\n",
              "      <td>No-Anomaly</td>\n",
              "    </tr>\n",
              "    <tr>\n",
              "      <th>19719</th>\n",
              "      <td>images/19719.jpg</td>\n",
              "      <td>No-Anomaly</td>\n",
              "    </tr>\n",
              "    <tr>\n",
              "      <th>11542</th>\n",
              "      <td>images/11542.jpg</td>\n",
              "      <td>No-Anomaly</td>\n",
              "    </tr>\n",
              "    <tr>\n",
              "      <th>11543</th>\n",
              "      <td>images/11543.jpg</td>\n",
              "      <td>No-Anomaly</td>\n",
              "    </tr>\n",
              "  </tbody>\n",
              "</table>\n",
              "</div>"
            ],
            "text/plain": [
              "         image_filepath anomaly_class\n",
              "13357  images/13357.jpg    No-Anomaly\n",
              "13356  images/13356.jpg    No-Anomaly\n",
              "19719  images/19719.jpg    No-Anomaly\n",
              "11542  images/11542.jpg    No-Anomaly\n",
              "11543  images/11543.jpg    No-Anomaly"
            ]
          },
          "metadata": {
            "tags": []
          },
          "execution_count": 9
        }
      ]
    },
    {
      "cell_type": "code",
      "metadata": {
        "colab": {
          "base_uri": "https://localhost:8080/"
        },
        "id": "NfDUstM7Ec81",
        "outputId": "9c634897-6f0c-455d-f6eb-ff44fcb121ef"
      },
      "source": [
        "print(classes.anomaly_class.unique())"
      ],
      "execution_count": null,
      "outputs": [
        {
          "output_type": "stream",
          "text": [
            "['No-Anomaly' 'Cell' 'Hot-Spot' 'Offline-Module' 'Vegetation' 'Diode'\n",
            " 'Shadowing' 'Cracking' 'Diode-Multi' 'Hot-Spot-Multi' 'Cell-Multi'\n",
            " 'Soiling']\n"
          ],
          "name": "stdout"
        }
      ]
    },
    {
      "cell_type": "code",
      "metadata": {
        "colab": {
          "base_uri": "https://localhost:8080/"
        },
        "id": "CJkSP1B6Ec82",
        "outputId": "3f8dc859-45e8-4e80-ab48-72ddc2458fff"
      },
      "source": [
        "# Counting the number of classes\n",
        "print(len(classes.anomaly_class.unique()))"
      ],
      "execution_count": null,
      "outputs": [
        {
          "output_type": "stream",
          "text": [
            "12\n"
          ],
          "name": "stdout"
        }
      ]
    },
    {
      "cell_type": "code",
      "metadata": {
        "colab": {
          "base_uri": "https://localhost:8080/",
          "height": 204
        },
        "id": "lf9HOkZ3P3v1",
        "outputId": "ed88eb2d-b5c8-4d99-af07-f414df1b3a9b"
      },
      "source": [
        "# Sorting images into nicer files\n",
        "classes['image_file'] = classes['image_filepath'].str.extract(r'(\\/.+)', expand=False)\n",
        "classes.head()"
      ],
      "execution_count": null,
      "outputs": [
        {
          "output_type": "execute_result",
          "data": {
            "text/html": [
              "<div>\n",
              "<style scoped>\n",
              "    .dataframe tbody tr th:only-of-type {\n",
              "        vertical-align: middle;\n",
              "    }\n",
              "\n",
              "    .dataframe tbody tr th {\n",
              "        vertical-align: top;\n",
              "    }\n",
              "\n",
              "    .dataframe thead th {\n",
              "        text-align: right;\n",
              "    }\n",
              "</style>\n",
              "<table border=\"1\" class=\"dataframe\">\n",
              "  <thead>\n",
              "    <tr style=\"text-align: right;\">\n",
              "      <th></th>\n",
              "      <th>image_filepath</th>\n",
              "      <th>anomaly_class</th>\n",
              "      <th>image_file</th>\n",
              "    </tr>\n",
              "  </thead>\n",
              "  <tbody>\n",
              "    <tr>\n",
              "      <th>13357</th>\n",
              "      <td>images/13357.jpg</td>\n",
              "      <td>No-Anomaly</td>\n",
              "      <td>/13357.jpg</td>\n",
              "    </tr>\n",
              "    <tr>\n",
              "      <th>13356</th>\n",
              "      <td>images/13356.jpg</td>\n",
              "      <td>No-Anomaly</td>\n",
              "      <td>/13356.jpg</td>\n",
              "    </tr>\n",
              "    <tr>\n",
              "      <th>19719</th>\n",
              "      <td>images/19719.jpg</td>\n",
              "      <td>No-Anomaly</td>\n",
              "      <td>/19719.jpg</td>\n",
              "    </tr>\n",
              "    <tr>\n",
              "      <th>11542</th>\n",
              "      <td>images/11542.jpg</td>\n",
              "      <td>No-Anomaly</td>\n",
              "      <td>/11542.jpg</td>\n",
              "    </tr>\n",
              "    <tr>\n",
              "      <th>11543</th>\n",
              "      <td>images/11543.jpg</td>\n",
              "      <td>No-Anomaly</td>\n",
              "      <td>/11543.jpg</td>\n",
              "    </tr>\n",
              "  </tbody>\n",
              "</table>\n",
              "</div>"
            ],
            "text/plain": [
              "         image_filepath anomaly_class  image_file\n",
              "13357  images/13357.jpg    No-Anomaly  /13357.jpg\n",
              "13356  images/13356.jpg    No-Anomaly  /13356.jpg\n",
              "19719  images/19719.jpg    No-Anomaly  /19719.jpg\n",
              "11542  images/11542.jpg    No-Anomaly  /11542.jpg\n",
              "11543  images/11543.jpg    No-Anomaly  /11543.jpg"
            ]
          },
          "metadata": {
            "tags": []
          },
          "execution_count": 12
        }
      ]
    },
    {
      "cell_type": "code",
      "metadata": {
        "id": "7d4n6ba3P7_w",
        "colab": {
          "base_uri": "https://localhost:8080/"
        },
        "outputId": "db43994e-e0f7-44d4-ab1b-2474549096f5"
      },
      "source": [
        "def sort_files(x):\n",
        "  source = './InfraredSolarModules/'+x[0]\n",
        "  destination = './InfraredSolarModules/images/'+x[1]\n",
        "\n",
        "  if(not os.path.isdir(destination)):\n",
        "    os.mkdir(destination)\n",
        "  shutil.move(source, destination+x[2])\n",
        "\n",
        "classes.apply(sort_files, axis=1)"
      ],
      "execution_count": null,
      "outputs": [
        {
          "output_type": "execute_result",
          "data": {
            "text/plain": [
              "13357    None\n",
              "13356    None\n",
              "19719    None\n",
              "11542    None\n",
              "11543    None\n",
              "         ... \n",
              "8488     None\n",
              "8489     None\n",
              "7464     None\n",
              "18065    None\n",
              "13354    None\n",
              "Length: 20000, dtype: object"
            ]
          },
          "metadata": {
            "tags": []
          },
          "execution_count": 13
        }
      ]
    },
    {
      "cell_type": "code",
      "metadata": {
        "id": "egzHA_uuP8Z7"
      },
      "source": [
        "# Converting images in Tensors\n",
        "datadir = './InfraredSolarModules/images'\n",
        "dataset = ImageFolder(datadir, transform=tt.ToTensor())"
      ],
      "execution_count": null,
      "outputs": []
    },
    {
      "cell_type": "code",
      "metadata": {
        "id": "glMLkvw5P8q2",
        "colab": {
          "base_uri": "https://localhost:8080/"
        },
        "outputId": "6ebc6d25-a3ab-4121-e935-2177b5a171a1"
      },
      "source": [
        "img, label = dataset[0]\n",
        "print(img.shape, label)\n",
        "img"
      ],
      "execution_count": null,
      "outputs": [
        {
          "output_type": "stream",
          "text": [
            "torch.Size([3, 40, 24]) 0\n"
          ],
          "name": "stdout"
        },
        {
          "output_type": "execute_result",
          "data": {
            "text/plain": [
              "tensor([[[0.7451, 0.7059, 0.6863,  ..., 0.8157, 0.8000, 0.7686],\n",
              "         [0.7490, 0.7137, 0.6941,  ..., 0.8235, 0.8039, 0.7765],\n",
              "         [0.7451, 0.7098, 0.6902,  ..., 0.8275, 0.8039, 0.7725],\n",
              "         ...,\n",
              "         [0.5176, 0.5333, 0.5529,  ..., 0.5765, 0.5412, 0.5098],\n",
              "         [0.4588, 0.4745, 0.4941,  ..., 0.5020, 0.4745, 0.4510],\n",
              "         [0.4196, 0.4353, 0.4510,  ..., 0.4627, 0.4392, 0.4235]],\n",
              "\n",
              "        [[0.7451, 0.7059, 0.6863,  ..., 0.8157, 0.8000, 0.7686],\n",
              "         [0.7490, 0.7137, 0.6941,  ..., 0.8235, 0.8039, 0.7765],\n",
              "         [0.7451, 0.7098, 0.6902,  ..., 0.8275, 0.8039, 0.7725],\n",
              "         ...,\n",
              "         [0.5176, 0.5333, 0.5529,  ..., 0.5765, 0.5412, 0.5098],\n",
              "         [0.4588, 0.4745, 0.4941,  ..., 0.5020, 0.4745, 0.4510],\n",
              "         [0.4196, 0.4353, 0.4510,  ..., 0.4627, 0.4392, 0.4235]],\n",
              "\n",
              "        [[0.7451, 0.7059, 0.6863,  ..., 0.8157, 0.8000, 0.7686],\n",
              "         [0.7490, 0.7137, 0.6941,  ..., 0.8235, 0.8039, 0.7765],\n",
              "         [0.7451, 0.7098, 0.6902,  ..., 0.8275, 0.8039, 0.7725],\n",
              "         ...,\n",
              "         [0.5176, 0.5333, 0.5529,  ..., 0.5765, 0.5412, 0.5098],\n",
              "         [0.4588, 0.4745, 0.4941,  ..., 0.5020, 0.4745, 0.4510],\n",
              "         [0.4196, 0.4353, 0.4510,  ..., 0.4627, 0.4392, 0.4235]]])"
            ]
          },
          "metadata": {
            "tags": []
          },
          "execution_count": 15
        }
      ]
    },
    {
      "cell_type": "code",
      "metadata": {
        "id": "PMUMPhLwP87k"
      },
      "source": [
        "def show_image(img, label):\n",
        "  print('Label', dataset.classes[label], \"(\"+str(label)+\")\")\n",
        "  plt.imshow(img.permute(1,2,0));"
      ],
      "execution_count": null,
      "outputs": []
    },
    {
      "cell_type": "code",
      "metadata": {
        "colab": {
          "base_uri": "https://localhost:8080/",
          "height": 284
        },
        "id": "L_gHnXS5vILr",
        "outputId": "c68e925a-d351-4c66-c8cd-f15ba0beaad6"
      },
      "source": [
        "show_image(*dataset[0])"
      ],
      "execution_count": null,
      "outputs": [
        {
          "output_type": "stream",
          "text": [
            "Label Cell (0)\n"
          ],
          "name": "stdout"
        },
        {
          "output_type": "display_data",
          "data": {
            "image/png": "[encoded data removed]",
            "text/plain": [
              "<Figure size 432x288 with 1 Axes>"
            ]
          },
          "metadata": {
            "tags": []
          }
        }
      ]
    },
    {
      "cell_type": "code",
      "metadata": {
        "colab": {
          "base_uri": "https://localhost:8080/",
          "height": 284
        },
        "id": "qB7m4nWtvYkk",
        "outputId": "9dbebed2-9a9c-4b45-a998-87c0e1d93fe1"
      },
      "source": [
        "show_image(*dataset[9000])"
      ],
      "execution_count": null,
      "outputs": [
        {
          "output_type": "stream",
          "text": [
            "Label No-Anomaly (7)\n"
          ],
          "name": "stdout"
        },
        {
          "output_type": "display_data",
          "data": {
            "image/png": "[encoded data removed]",
            "text/plain": [
              "<Figure size 432x288 with 1 Axes>"
            ]
          },
          "metadata": {
            "tags": []
          }
        }
      ]
    },
    {
      "cell_type": "markdown",
      "metadata": {
        "id": "wqIfMCBJx6dh"
      },
      "source": [
        "## **Training and Validation Datasets**"
      ]
    },
    {
      "cell_type": "code",
      "metadata": {
        "colab": {
          "base_uri": "https://localhost:8080/"
        },
        "id": "XGmjJrJ3vYW8",
        "outputId": "4a8d045d-7223-46f1-fefa-ae8c27218ff7"
      },
      "source": [
        "random_seed = 42                      # If you didn't understend, it is a easter egg\n",
        "torch.manual_seed(random_seed)"
      ],
      "execution_count": null,
      "outputs": [
        {
          "output_type": "execute_result",
          "data": {
            "text/plain": [
              "<torch._C.Generator at 0x7f30f5bae110>"
            ]
          },
          "metadata": {
            "tags": []
          },
          "execution_count": 19
        }
      ]
    },
    {
      "cell_type": "code",
      "metadata": {
        "colab": {
          "base_uri": "https://localhost:8080/"
        },
        "id": "AjfvrrAkvYE_",
        "outputId": "9d3f309e-6b74-4a2f-e12b-f35ff268a56e"
      },
      "source": [
        "val_size = 2000\n",
        "train_size = len(dataset) - val_size\n",
        "\n",
        "train_ds, val_ds = random_split(dataset, [train_size, val_size])\n",
        "len(train_ds), len(val_ds)"
      ],
      "execution_count": null,
      "outputs": [
        {
          "output_type": "execute_result",
          "data": {
            "text/plain": [
              "(18000, 2000)"
            ]
          },
          "metadata": {
            "tags": []
          },
          "execution_count": 20
        }
      ]
    },
    {
      "cell_type": "code",
      "metadata": {
        "colab": {
          "base_uri": "https://localhost:8080/"
        },
        "id": "9EUo3nWvvX21",
        "outputId": "cf6e7c6c-3dcb-43ce-91f1-606573036c8b"
      },
      "source": [
        "batch_size = 128\n",
        "train_dl = DataLoader(train_ds, batch_size, shuffle=True, num_workers=4, pin_memory=True)\n",
        "val_dl = DataLoader(val_ds, batch_size*2, num_workers=4, pin_memory=True)"
      ],
      "execution_count": null,
      "outputs": [
        {
          "output_type": "stream",
          "text": [
            "/usr/local/lib/python3.7/dist-packages/torch/utils/data/dataloader.py:477: UserWarning: This DataLoader will create 4 worker processes in total. Our suggested max number of worker in current system is 2, which is smaller than what this DataLoader is going to create. Please be aware that excessive worker creation might get DataLoader running slow or even freeze, lower the worker number to avoid potential slowness/freeze if necessary.\n",
            "  cpuset_checked))\n"
          ],
          "name": "stderr"
        }
      ]
    },
    {
      "cell_type": "code",
      "metadata": {
        "id": "Jn7bmyckvXln"
      },
      "source": [
        "def show_batch(dl):\n",
        "  for img, label in dl:\n",
        "    fig, ax = plt.subplots(figsize=(12,6))\n",
        "    ax.set_xticks([])\n",
        "    ax.set_yticks([])\n",
        "    ax.imshow(make_grid(img, nrow=16).permute(1,2,0))\n",
        "    break"
      ],
      "execution_count": null,
      "outputs": []
    },
    {
      "cell_type": "code",
      "metadata": {
        "colab": {
          "base_uri": "https://localhost:8080/",
          "height": 415
        },
        "id": "mW-x8X9lvXZW",
        "outputId": "837a24d6-bf47-4a75-e879-c0b72d1a0142"
      },
      "source": [
        "show_batch(train_dl)"
      ],
      "execution_count": null,
      "outputs": [
        {
          "output_type": "stream",
          "text": [
            "/usr/local/lib/python3.7/dist-packages/torch/utils/data/dataloader.py:477: UserWarning: This DataLoader will create 4 worker processes in total. Our suggested max number of worker in current system is 2, which is smaller than what this DataLoader is going to create. Please be aware that excessive worker creation might get DataLoader running slow or even freeze, lower the worker number to avoid potential slowness/freeze if necessary.\n",
            "  cpuset_checked))\n"
          ],
          "name": "stderr"
        },
        {
          "output_type": "display_data",
          "data": {
            "image/png": "[encoded data removed]",
            "text/plain": [
              "<Figure size 864x432 with 1 Axes>"
            ]
          },
          "metadata": {
            "tags": []
          }
        }
      ]
    },
    {
      "cell_type": "markdown",
      "metadata": {
        "id": "VcvwFQSM_xpu"
      },
      "source": [
        "## **Defining the Model (Convolutional Neural Network)**"
      ]
    },
    {
      "cell_type": "code",
      "metadata": {
        "id": "0zPC4mfdUe9z"
      },
      "source": [
        "def accuracy(outputs, labels):\n",
        "  _, preds = torch.max(outputs, dim=1)\n",
        "  return torch.tensor(torch.sum(preds == labels).item() / len(preds))"
      ],
      "execution_count": null,
      "outputs": []
    },
    {
      "cell_type": "code",
      "metadata": {
        "id": "7pbXjrtQvXM6"
      },
      "source": [
        "class ImageClassificationBase(nn.Module):\n",
        "  def training_step(self, batch):\n",
        "    images, labels = batch\n",
        "    out = self(images)                             # Generate Predictions\n",
        "    loss = F.cross_entropy(out, labels)            # Calculate loss\n",
        "    return loss\n",
        "\n",
        "  def validatioin_step(self, batch):\n",
        "    images, labels = batch\n",
        "    out = self(images)\n",
        "    loss = F.cross_entropy(out, labels)\n",
        "    acc = accuracy(out, labels)                     # Calculate accuracy\n",
        "    return {'val_loss': loss.detach(), 'val_acc': acc}\n",
        "\n",
        "  def validation_epoch_end(self, outputs):\n",
        "    batch_losses = [x['val_loss'] for x in outputs]\n",
        "    epoch_losses = torch.stack(batch_losses).mean() # Combining losses\n",
        "    batch_accs = [x['val_acc'] for x in outputs]\n",
        "    epoch_accs = torch.stack(batch_accs).mean()      # Combining accuracies\n",
        "    return {'val_loss': epoch_losses.item(), 'val_acc': epoch_accs.item()}\n",
        "\n",
        "  def epoch_end(self, epoch, result):\n",
        "    print(\"Epoch [{}], train_loss: [{:.4f}], val_loss: [{:.4f}], val_acc: [{:.4f}]\".format(epoch, \n",
        "                                                                        result['train_loss'],\n",
        "                                                                        result['val_loss'],\n",
        "                                                                        result['val_acc'])) "
      ],
      "execution_count": null,
      "outputs": []
    },
    {
      "cell_type": "code",
      "metadata": {
        "id": "E5ZZe9revXBh"
      },
      "source": [
        "class InfraredSolarModulesCnnModel(ImageClassificationBase):\n",
        "  def __init__(self):\n",
        "    super().__init__()\n",
        "    self.network = nn.Sequential(\n",
        "        nn.Conv2d(3, 32, kernel_size=3, stride=1, padding=1),\n",
        "        nn.ReLU(),\n",
        "        nn.Conv2d(32, 64, kernel_size=3, stride=1, padding=1),\n",
        "        nn.ReLU(),\n",
        "        nn.MaxPool2d(2,2),                                        # output: 64x16x16\n",
        "\n",
        "        nn.Conv2d(64, 128, kernel_size=3, stride=1, padding=1),\n",
        "        nn.ReLU(),\n",
        "        nn.Conv2d(128, 128, kernel_size=3, stride=1, padding=1),\n",
        "        nn.ReLU(),\n",
        "        nn.MaxPool2d(2,2),                                        # output: 128x8x8\n",
        "\n",
        "        nn.Conv2d(128, 256, kernel_size=3, stride=1, padding=1),\n",
        "        nn.ReLU(),\n",
        "        nn.Conv2d(256, 256, kernel_size=3, stride=1, padding=1),\n",
        "        nn.ReLU(),\n",
        "        nn.MaxPool2d(2,2),                                            # output 256,4,4\n",
        "\n",
        "        nn.Flatten(),\n",
        "        nn.Linear(256*5*3, 1024),\n",
        "        nn.ReLU(),\n",
        "        nn.Linear(1024, 512),\n",
        "        nn.ReLU(),\n",
        "        nn.Linear(512, 12)\n",
        "        )\n",
        "    \n",
        "  def forward(self, xb):\n",
        "    return self.network(xb)"
      ],
      "execution_count": null,
      "outputs": []
    },
    {
      "cell_type": "code",
      "metadata": {
        "id": "Iqlv4BwgvWXk",
        "colab": {
          "base_uri": "https://localhost:8080/"
        },
        "outputId": "5a6b6571-53fe-43ea-e3ad-d434dc2cfa34"
      },
      "source": [
        "model = InfraredSolarModulesCnnModel()\n",
        "model"
      ],
      "execution_count": null,
      "outputs": [
        {
          "output_type": "execute_result",
          "data": {
            "text/plain": [
              "InfraredSolarModulesCnnModel(\n",
              "  (network): Sequential(\n",
              "    (0): Conv2d(3, 32, kernel_size=(3, 3), stride=(1, 1), padding=(1, 1))\n",
              "    (1): ReLU()\n",
              "    (2): Conv2d(32, 64, kernel_size=(3, 3), stride=(1, 1), padding=(1, 1))\n",
              "    (3): ReLU()\n",
              "    (4): MaxPool2d(kernel_size=2, stride=2, padding=0, dilation=1, ceil_mode=False)\n",
              "    (5): Conv2d(64, 128, kernel_size=(3, 3), stride=(1, 1), padding=(1, 1))\n",
              "    (6): ReLU()\n",
              "    (7): Conv2d(128, 128, kernel_size=(3, 3), stride=(1, 1), padding=(1, 1))\n",
              "    (8): ReLU()\n",
              "    (9): MaxPool2d(kernel_size=2, stride=2, padding=0, dilation=1, ceil_mode=False)\n",
              "    (10): Conv2d(128, 256, kernel_size=(3, 3), stride=(1, 1), padding=(1, 1))\n",
              "    (11): ReLU()\n",
              "    (12): Conv2d(256, 256, kernel_size=(3, 3), stride=(1, 1), padding=(1, 1))\n",
              "    (13): ReLU()\n",
              "    (14): MaxPool2d(kernel_size=2, stride=2, padding=0, dilation=1, ceil_mode=False)\n",
              "    (15): Flatten(start_dim=1, end_dim=-1)\n",
              "    (16): Linear(in_features=3840, out_features=1024, bias=True)\n",
              "    (17): ReLU()\n",
              "    (18): Linear(in_features=1024, out_features=512, bias=True)\n",
              "    (19): ReLU()\n",
              "    (20): Linear(in_features=512, out_features=12, bias=True)\n",
              "  )\n",
              ")"
            ]
          },
          "metadata": {
            "tags": []
          },
          "execution_count": 27
        }
      ]
    },
    {
      "cell_type": "code",
      "metadata": {
        "colab": {
          "base_uri": "https://localhost:8080/"
        },
        "id": "B0eMB_ObMgeP",
        "outputId": "23eca6a5-0dff-4ba5-9a0d-f36fe5e3e800"
      },
      "source": [
        "# Verifying that the model produced the expected output on a batch of training data.\n",
        "for images, labels in train_dl:\n",
        "  print('images.shape: ', images.shape)\n",
        "  out = model(images)\n",
        "  print('out.shape: ', out.shape)\n",
        "  print('out[0]: ', out[0])\n",
        "  break"
      ],
      "execution_count": null,
      "outputs": [
        {
          "output_type": "stream",
          "text": [
            "/usr/local/lib/python3.7/dist-packages/torch/utils/data/dataloader.py:477: UserWarning: This DataLoader will create 4 worker processes in total. Our suggested max number of worker in current system is 2, which is smaller than what this DataLoader is going to create. Please be aware that excessive worker creation might get DataLoader running slow or even freeze, lower the worker number to avoid potential slowness/freeze if necessary.\n",
            "  cpuset_checked))\n"
          ],
          "name": "stderr"
        },
        {
          "output_type": "stream",
          "text": [
            "images.shape:  torch.Size([128, 3, 40, 24])\n",
            "out.shape:  torch.Size([128, 12])\n",
            "out[0]:  tensor([ 0.0237,  0.0208,  0.0144, -0.0066, -0.0101,  0.0169, -0.0441, -0.0296,\n",
            "        -0.0036, -0.0278,  0.0480, -0.0199], grad_fn=<SelectBackward>)\n"
          ],
          "name": "stdout"
        }
      ]
    },
    {
      "cell_type": "markdown",
      "metadata": {
        "id": "0kXP8NnIrYD-"
      },
      "source": [
        "## **Using GPU with PyToch**"
      ]
    },
    {
      "cell_type": "code",
      "metadata": {
        "id": "XADnOYGWtOEX"
      },
      "source": [
        "def get_default_device():\n",
        "  if torch.cuda.is_available():\n",
        "    return torch.device('cuda')\n",
        "  else:\n",
        "    return torch.device('cpu')\n",
        "\n",
        "def to_device(data, device):\n",
        "  if isinstance(data, (list, tuple)):\n",
        "    return [to_device(x, device) for x in data]\n",
        "  return data.to(device, non_blocking=True)\n",
        "\n",
        "class DeviceDataLoader():\n",
        "  def __init__(self, dl, device):\n",
        "    self.dl = dl\n",
        "    self.device = device\n",
        "\n",
        "  def __iter__(self):\n",
        "    for b in self.dl:\n",
        "      yield to_device(b, self.device)\n",
        "\n",
        "  def __len__(self):\n",
        "    return len(self.dl)"
      ],
      "execution_count": null,
      "outputs": []
    },
    {
      "cell_type": "code",
      "metadata": {
        "colab": {
          "base_uri": "https://localhost:8080/"
        },
        "id": "5x0Iv95dvnJ0",
        "outputId": "fefb1b0e-f12e-4e78-ae36-32f7545ebe69"
      },
      "source": [
        "device = get_default_device()\n",
        "device"
      ],
      "execution_count": null,
      "outputs": [
        {
          "output_type": "execute_result",
          "data": {
            "text/plain": [
              "device(type='cuda')"
            ]
          },
          "metadata": {
            "tags": []
          },
          "execution_count": 32
        }
      ]
    },
    {
      "cell_type": "code",
      "metadata": {
        "id": "xG9B87dBvx6M"
      },
      "source": [
        "train_dl = DeviceDataLoader(train_dl, device)\n",
        "val_dl = DeviceDataLoader(val_dl, device)\n",
        "to_device(model, device)"
      ],
      "execution_count": null,
      "outputs": []
    },
    {
      "cell_type": "markdown",
      "metadata": {
        "id": "hem9sROqWttE"
      },
      "source": [
        "## **Training the Model**"
      ]
    },
    {
      "cell_type": "code",
      "metadata": {
        "id": "pVQw1I1TMmba"
      },
      "source": [
        "@torch.no_grad()\n",
        "def evaluate(model, val_loader):\n",
        "  model.eval()\n",
        "  outputs = [model.validatioin_step(batch) for batch in val_loader]\n",
        "  return model.validation_epoch_end(outputs)\n",
        "\n",
        "def fit(epochs, lr, model, train_loader, val_loader, opt_func=torch.optim.SGD):\n",
        "  history = []\n",
        "  optimizer = opt_func(model.parameters(), lr)\n",
        "  for epoch in range(epochs):\n",
        "    # Training Phase\n",
        "    model.train()\n",
        "    train_losses = []\n",
        "    for batch in train_loader:\n",
        "      loss = model.training_step(batch)\n",
        "      train_losses.append(loss)\n",
        "      loss.backward()\n",
        "      optimizer.step()\n",
        "      optimizer.zero_grad()\n",
        "    \n",
        "    # Validation phase\n",
        "    result = evaluate(model, val_loader)\n",
        "    result['train_loss'] = torch.stack(train_losses).mean().item()\n",
        "    model.epoch_end(epoch, result)\n",
        "    history.append(result)\n",
        "  return history"
      ],
      "execution_count": null,
      "outputs": []
    },
    {
      "cell_type": "code",
      "metadata": {
        "colab": {
          "base_uri": "https://localhost:8080/"
        },
        "id": "80VVjHqDMmNu",
        "outputId": "d51a365a-371d-4349-b100-18a602fae9da"
      },
      "source": [
        "evaluate(model, val_dl)"
      ],
      "execution_count": null,
      "outputs": [
        {
          "output_type": "stream",
          "text": [
            "/usr/local/lib/python3.7/dist-packages/torch/utils/data/dataloader.py:477: UserWarning: This DataLoader will create 4 worker processes in total. Our suggested max number of worker in current system is 2, which is smaller than what this DataLoader is going to create. Please be aware that excessive worker creation might get DataLoader running slow or even freeze, lower the worker number to avoid potential slowness/freeze if necessary.\n",
            "  cpuset_checked))\n"
          ],
          "name": "stderr"
        },
        {
          "output_type": "execute_result",
          "data": {
            "text/plain": [
              "{'val_acc': 0.010216346010565758, 'val_loss': 2.497194766998291}"
            ]
          },
          "metadata": {
            "tags": []
          },
          "execution_count": 31
        }
      ]
    },
    {
      "cell_type": "code",
      "metadata": {
        "id": "svvnyLRqMlR9"
      },
      "source": [
        "num_epochs = 10\n",
        "opt_func = torch.optim.Adam\n",
        "lr = 0.001"
      ],
      "execution_count": null,
      "outputs": []
    },
    {
      "cell_type": "code",
      "metadata": {
        "colab": {
          "base_uri": "https://localhost:8080/"
        },
        "id": "82K0vzQ4MlEP",
        "outputId": "3bc0832f-17d6-4260-bd31-7a1fb21bfbba"
      },
      "source": [
        "history = fit(num_epochs, lr, model, train_dl, val_dl, opt_func)"
      ],
      "execution_count": null,
      "outputs": [
        {
          "output_type": "stream",
          "text": [
            "/usr/local/lib/python3.7/dist-packages/torch/utils/data/dataloader.py:477: UserWarning: This DataLoader will create 4 worker processes in total. Our suggested max number of worker in current system is 2, which is smaller than what this DataLoader is going to create. Please be aware that excessive worker creation might get DataLoader running slow or even freeze, lower the worker number to avoid potential slowness/freeze if necessary.\n",
            "  cpuset_checked))\n"
          ],
          "name": "stderr"
        },
        {
          "output_type": "stream",
          "text": [
            "Epoch [0], train_loss: [1.7746], val_loss: [1.7433], val_acc: [0.4882]\n",
            "Epoch [1], train_loss: [1.7003], val_loss: [1.5239], val_acc: [0.5472]\n",
            "Epoch [2], train_loss: [1.4043], val_loss: [1.1909], val_acc: [0.6422]\n",
            "Epoch [3], train_loss: [1.0748], val_loss: [0.9758], val_acc: [0.6865]\n",
            "Epoch [4], train_loss: [0.9270], val_loss: [0.8540], val_acc: [0.7269]\n",
            "Epoch [5], train_loss: [0.8302], val_loss: [0.8375], val_acc: [0.7222]\n",
            "Epoch [6], train_loss: [0.7557], val_loss: [0.7683], val_acc: [0.7562]\n",
            "Epoch [7], train_loss: [0.7015], val_loss: [0.7491], val_acc: [0.7619]\n",
            "Epoch [8], train_loss: [0.6265], val_loss: [0.7211], val_acc: [0.7702]\n",
            "Epoch [9], train_loss: [0.5782], val_loss: [0.7322], val_acc: [0.7705]\n"
          ],
          "name": "stdout"
        }
      ]
    },
    {
      "cell_type": "code",
      "metadata": {
        "id": "NNpsr5KzMk3G"
      },
      "source": [
        ""
      ],
      "execution_count": null,
      "outputs": []
    },
    {
      "cell_type": "code",
      "metadata": {
        "id": "sg1HOuaKMkqJ"
      },
      "source": [
        ""
      ],
      "execution_count": null,
      "outputs": []
    },
    {
      "cell_type": "code",
      "metadata": {
        "id": "hLatIK_bMkcv"
      },
      "source": [
        ""
      ],
      "execution_count": null,
      "outputs": []
    },
    {
      "cell_type": "code",
      "metadata": {
        "id": "Ac1n5H8cMkPv"
      },
      "source": [
        ""
      ],
      "execution_count": null,
      "outputs": []
    },
    {
      "cell_type": "code",
      "metadata": {
        "id": "D-jZuKjJMj8k"
      },
      "source": [
        ""
      ],
      "execution_count": null,
      "outputs": []
    },
    {
      "cell_type": "code",
      "metadata": {
        "id": "p-mpPtGvMjvQ"
      },
      "source": [
        ""
      ],
      "execution_count": null,
      "outputs": []
    },
    {
      "cell_type": "code",
      "metadata": {
        "id": "wi5x9RfeMjkG"
      },
      "source": [
        ""
      ],
      "execution_count": null,
      "outputs": []
    },
    {
      "cell_type": "code",
      "metadata": {
        "id": "fscb0cg_MjV6"
      },
      "source": [
        ""
      ],
      "execution_count": null,
      "outputs": []
    }
  ]
}